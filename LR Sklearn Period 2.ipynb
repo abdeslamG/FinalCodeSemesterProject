{
 "cells": [
  {
   "cell_type": "markdown",
   "id": "5ee6fc71",
   "metadata": {},
   "source": [
    "# Import"
   ]
  },
  {
   "cell_type": "code",
   "execution_count": 1,
   "id": "cbfee6ff",
   "metadata": {},
   "outputs": [],
   "source": [
    "import numpy as np\n",
    "import pandas as pd \n",
    "import matplotlib as plt"
   ]
  },
  {
   "cell_type": "code",
   "execution_count": 2,
   "id": "2f629dc1",
   "metadata": {},
   "outputs": [],
   "source": [
    "from sklearn import datasets, linear_model\n",
    "from sklearn.metrics import mean_squared_error, r2_score\n",
    "from sklearn.model_selection import train_test_split\n",
    "\n",
    "from sklearn.linear_model import LinearRegression"
   ]
  },
  {
   "cell_type": "code",
   "execution_count": 3,
   "id": "809b811e",
   "metadata": {},
   "outputs": [],
   "source": [
    "df = pd.read_csv('/Data/results_with_users_V3.csv')"
   ]
  },
  {
   "cell_type": "code",
   "execution_count": 4,
   "id": "08a10993",
   "metadata": {},
   "outputs": [
    {
     "data": {
      "text/plain": [
       "Index(['Unnamed: 0', 'source', 'target', 'flow', 'entropyStoT', 'entropyTtoS',\n",
       "       'selfEntropyT', 'selfEntropyS', 'Key', 'username_source',\n",
       "       'author_followers_source', 'author_tweets_source',\n",
       "       'author_following_source', 'author_listed_source',\n",
       "       'author_description_source', 'author_location_source',\n",
       "       'author_private_source', 'author_verified_source',\n",
       "       'author_account_creation_source', 'Year_creation_source',\n",
       "       'FF_ratio2_source', 'FF_Ratio_source', 'TweetsNb_source',\n",
       "       'Likes_avrg_source', 'Retweets_Avg_source', 'Replies_avg_source',\n",
       "       'Quote_count_avg_source', 'username_target', 'author_followers_target',\n",
       "       'author_tweets_target', 'author_following_target',\n",
       "       'author_listed_target', 'author_description_target',\n",
       "       'author_location_target', 'author_private_target',\n",
       "       'author_verified_target', 'author_account_creation_target',\n",
       "       'Year_creation_target', 'FF_ratio2_target', 'FF_Ratio_target',\n",
       "       'TweetsNb_target', 'Likes_avrg_target', 'Retweets_Avg_target',\n",
       "       'Replies_avg_target', 'Quote_count_avg_target'],\n",
       "      dtype='object')"
      ]
     },
     "execution_count": 4,
     "metadata": {},
     "output_type": "execute_result"
    }
   ],
   "source": [
    "df.columns"
   ]
  },
  {
   "cell_type": "code",
   "execution_count": 5,
   "id": "c891c49c",
   "metadata": {},
   "outputs": [],
   "source": [
    "columns = ['flow', 'selfEntropyT', 'selfEntropyS','author_followers_source', 'author_tweets_source',\n",
    "       'author_following_source', 'author_listed_source', 'FF_Ratio_source',\n",
    "       'FF_ratio2_source', 'TweetsNb_source', 'author_followers_target',\n",
    "       'author_tweets_target', 'author_following_target',\n",
    "       'author_listed_target', 'FF_Ratio_target', 'FF_ratio2_target',\n",
    "       'TweetsNb_target']"
   ]
  },
  {
   "cell_type": "code",
   "execution_count": 6,
   "id": "58df2dfd",
   "metadata": {},
   "outputs": [],
   "source": [
    "#Remove the outliers"
   ]
  },
  {
   "cell_type": "code",
   "execution_count": 7,
   "id": "eea9407c",
   "metadata": {},
   "outputs": [
    {
     "data": {
      "text/plain": [
       "79242"
      ]
     },
     "execution_count": 7,
     "metadata": {},
     "output_type": "execute_result"
    }
   ],
   "source": [
    "len(df)"
   ]
  },
  {
   "cell_type": "code",
   "execution_count": 8,
   "id": "57c22311",
   "metadata": {},
   "outputs": [],
   "source": [
    "df_filtered = df"
   ]
  },
  {
   "cell_type": "code",
   "execution_count": 9,
   "id": "959ed701",
   "metadata": {},
   "outputs": [],
   "source": [
    "lst = [1385205739640131584,1234489772183343104,408382525,230190058,1143396858208800768,3240197969,\n",
    "       188251389,904540565307617280,988869330,125922216,1382981076251971584,965548724247191552,1408890653887586306,\n",
    "      1347927540988571649,1373262453161799686,781471603662196736,1455248470776877064,1355566985845694468,\n",
    "      1057622011395084289,1262806249164255232,410377944,28803148,1436903038069903364,1410288349076721675,\n",
    "      1413540569444356101,1405131947790290947,4727914933,1247885277374251009,1192824698024927233,\n",
    "      38448943,1299632796844077057,1112983458433781761,2892043241,1174914666587250688,986040298462728193,38152701]"
   ]
  },
  {
   "cell_type": "code",
   "execution_count": 10,
   "id": "658a04f3",
   "metadata": {},
   "outputs": [
    {
     "data": {
      "text/plain": [
       "36"
      ]
     },
     "execution_count": 10,
     "metadata": {},
     "output_type": "execute_result"
    }
   ],
   "source": [
    "len(lst)"
   ]
  },
  {
   "cell_type": "code",
   "execution_count": 11,
   "id": "38da6f30",
   "metadata": {},
   "outputs": [],
   "source": [
    "df_filtered = df_filtered[~df_filtered['target'].isin(lst)]"
   ]
  },
  {
   "cell_type": "code",
   "execution_count": 12,
   "id": "28ad84f3",
   "metadata": {},
   "outputs": [],
   "source": [
    "df_filtered = df_filtered[~df_filtered['source'].isin(lst)]"
   ]
  },
  {
   "cell_type": "code",
   "execution_count": 13,
   "id": "fcb7b265",
   "metadata": {},
   "outputs": [
    {
     "data": {
      "text/plain": [
       "67860"
      ]
     },
     "execution_count": 13,
     "metadata": {},
     "output_type": "execute_result"
    }
   ],
   "source": [
    "len(df_filtered)"
   ]
  },
  {
   "cell_type": "code",
   "execution_count": 14,
   "id": "c6b70faf",
   "metadata": {},
   "outputs": [],
   "source": [
    "q = df_filtered.flow.quantile(0.95)"
   ]
  },
  {
   "cell_type": "code",
   "execution_count": 15,
   "id": "5fc2f03e",
   "metadata": {},
   "outputs": [
    {
     "data": {
      "text/plain": [
       "2.7013930382891607"
      ]
     },
     "execution_count": 15,
     "metadata": {},
     "output_type": "execute_result"
    }
   ],
   "source": [
    "q"
   ]
  },
  {
   "cell_type": "code",
   "execution_count": 16,
   "id": "f2c04335",
   "metadata": {},
   "outputs": [],
   "source": [
    "df_filtered = df_filtered[df_filtered['flow']<q]"
   ]
  },
  {
   "cell_type": "code",
   "execution_count": 17,
   "id": "779bc202",
   "metadata": {},
   "outputs": [],
   "source": [
    "# on est passé de 64262 à 48620"
   ]
  },
  {
   "cell_type": "markdown",
   "id": "395c56ad",
   "metadata": {},
   "source": [
    "[1421078983953821699,1273561391539027968,1444478296926801920,902602129,1430912164101980162,1432810936792879105,\n",
    "1396769368575410177,]"
   ]
  },
  {
   "cell_type": "code",
   "execution_count": 18,
   "id": "aa90c5be",
   "metadata": {},
   "outputs": [
    {
     "data": {
      "text/plain": [
       "79242"
      ]
     },
     "execution_count": 18,
     "metadata": {},
     "output_type": "execute_result"
    }
   ],
   "source": [
    "len(df)"
   ]
  },
  {
   "cell_type": "code",
   "execution_count": 19,
   "id": "096aaf74",
   "metadata": {},
   "outputs": [
    {
     "data": {
      "text/plain": [
       "64467"
      ]
     },
     "execution_count": 19,
     "metadata": {},
     "output_type": "execute_result"
    }
   ],
   "source": [
    "len(df_filtered)"
   ]
  },
  {
   "cell_type": "code",
   "execution_count": 20,
   "id": "718dd830",
   "metadata": {},
   "outputs": [],
   "source": [
    "df1 = df[df['flow']>0]"
   ]
  },
  {
   "cell_type": "code",
   "execution_count": 21,
   "id": "7c224643",
   "metadata": {},
   "outputs": [],
   "source": [
    "pd.options.mode.chained_assignment = None "
   ]
  },
  {
   "cell_type": "code",
   "execution_count": 22,
   "id": "12afda94",
   "metadata": {},
   "outputs": [],
   "source": [
    "df2 = df_filtered[df_filtered['flow']>0]"
   ]
  },
  {
   "cell_type": "code",
   "execution_count": 23,
   "id": "544823d6",
   "metadata": {},
   "outputs": [],
   "source": [
    "# plot without filtering"
   ]
  },
  {
   "cell_type": "code",
   "execution_count": 24,
   "id": "b453e6b5",
   "metadata": {},
   "outputs": [
    {
     "data": {
      "text/plain": [
       "array([[<AxesSubplot:title={'center':'flow'}>,\n",
       "        <AxesSubplot:title={'center':'selfEntropyT'}>,\n",
       "        <AxesSubplot:title={'center':'selfEntropyS'}>,\n",
       "        <AxesSubplot:title={'center':'author_followers_source'}>],\n",
       "       [<AxesSubplot:title={'center':'author_tweets_source'}>,\n",
       "        <AxesSubplot:title={'center':'author_following_source'}>,\n",
       "        <AxesSubplot:title={'center':'author_listed_source'}>,\n",
       "        <AxesSubplot:title={'center':'FF_Ratio_source'}>],\n",
       "       [<AxesSubplot:title={'center':'FF_ratio2_source'}>,\n",
       "        <AxesSubplot:title={'center':'TweetsNb_source'}>,\n",
       "        <AxesSubplot:title={'center':'author_followers_target'}>,\n",
       "        <AxesSubplot:title={'center':'author_tweets_target'}>],\n",
       "       [<AxesSubplot:title={'center':'author_following_target'}>,\n",
       "        <AxesSubplot:title={'center':'author_listed_target'}>,\n",
       "        <AxesSubplot:title={'center':'FF_Ratio_target'}>,\n",
       "        <AxesSubplot:title={'center':'FF_ratio2_target'}>],\n",
       "       [<AxesSubplot:title={'center':'TweetsNb_target'}>, <AxesSubplot:>,\n",
       "        <AxesSubplot:>, <AxesSubplot:>]], dtype=object)"
      ]
     },
     "execution_count": 24,
     "metadata": {},
     "output_type": "execute_result"
    },
    {
     "data": {
      "image/png": "[encoded data removed]",
      "text/plain": [
       "<Figure size 1440x720 with 20 Axes>"
      ]
     },
     "metadata": {
      "needs_background": "light"
     },
     "output_type": "display_data"
    }
   ],
   "source": [
    "df[df['flow']>0][columns].hist(bins = 20, alpha = 0.5,figsize=(20,10))"
   ]
  },
  {
   "cell_type": "code",
   "execution_count": 25,
   "id": "0856e9c8",
   "metadata": {},
   "outputs": [],
   "source": [
    "# plot with filtering"
   ]
  },
  {
   "cell_type": "code",
   "execution_count": 26,
   "id": "b5023857",
   "metadata": {},
   "outputs": [
    {
     "data": {
      "text/plain": [
       "array([[<AxesSubplot:title={'center':'flow'}>,\n",
       "        <AxesSubplot:title={'center':'selfEntropyT'}>,\n",
       "        <AxesSubplot:title={'center':'selfEntropyS'}>,\n",
       "        <AxesSubplot:title={'center':'author_followers_source'}>],\n",
       "       [<AxesSubplot:title={'center':'author_tweets_source'}>,\n",
       "        <AxesSubplot:title={'center':'author_following_source'}>,\n",
       "        <AxesSubplot:title={'center':'author_listed_source'}>,\n",
       "        <AxesSubplot:title={'center':'FF_Ratio_source'}>],\n",
       "       [<AxesSubplot:title={'center':'FF_ratio2_source'}>,\n",
       "        <AxesSubplot:title={'center':'TweetsNb_source'}>,\n",
       "        <AxesSubplot:title={'center':'author_followers_target'}>,\n",
       "        <AxesSubplot:title={'center':'author_tweets_target'}>],\n",
       "       [<AxesSubplot:title={'center':'author_following_target'}>,\n",
       "        <AxesSubplot:title={'center':'author_listed_target'}>,\n",
       "        <AxesSubplot:title={'center':'FF_Ratio_target'}>,\n",
       "        <AxesSubplot:title={'center':'FF_ratio2_target'}>],\n",
       "       [<AxesSubplot:title={'center':'TweetsNb_target'}>, <AxesSubplot:>,\n",
       "        <AxesSubplot:>, <AxesSubplot:>]], dtype=object)"
      ]
     },
     "execution_count": 26,
     "metadata": {},
     "output_type": "execute_result"
    },
    {
     "data": {
      "image/png": "[encoded data removed]",
      "text/plain": [
       "<Figure size 1440x864 with 20 Axes>"
      ]
     },
     "metadata": {
      "needs_background": "light"
     },
     "output_type": "display_data"
    }
   ],
   "source": [
    "df_filtered[df_filtered['flow']>0][columns].hist(bins = 20, alpha = 0.5,figsize=(20,12))"
   ]
  },
  {
   "cell_type": "code",
   "execution_count": 27,
   "id": "a81f7ba9",
   "metadata": {},
   "outputs": [],
   "source": [
    "col = ['selfEntropyS','flow']"
   ]
  },
  {
   "cell_type": "code",
   "execution_count": 28,
   "id": "926ac102",
   "metadata": {},
   "outputs": [
    {
     "data": {
      "text/plain": [
       "array([[<AxesSubplot:title={'center':'selfEntropyS'}>,\n",
       "        <AxesSubplot:title={'center':'flow'}>]], dtype=object)"
      ]
     },
     "execution_count": 28,
     "metadata": {},
     "output_type": "execute_result"
    },
    {
     "data": {
      "image/png": "[encoded data removed]",
      "text/plain": [
       "<Figure size 432x144 with 2 Axes>"
      ]
     },
     "metadata": {
      "needs_background": "light"
     },
     "output_type": "display_data"
    }
   ],
   "source": [
    "df_filtered[df_filtered['flow']>0][col].hist(bins = 20, alpha = 0.5,figsize=(6,2))"
   ]
  },
  {
   "cell_type": "markdown",
   "id": "9f3b01c8",
   "metadata": {},
   "source": [
    "# Calculate the MSE "
   ]
  },
  {
   "cell_type": "markdown",
   "id": "bb65f6e4",
   "metadata": {},
   "source": [
    "MSE Calculation with Train test and all the int columns "
   ]
  },
  {
   "cell_type": "code",
   "execution_count": 29,
   "id": "549201a2",
   "metadata": {},
   "outputs": [
    {
     "name": "stdout",
     "output_type": "stream",
     "text": [
      "Mean squared error: 142.01091198159335\n"
     ]
    }
   ],
   "source": [
    "from sklearn.linear_model import LinearRegression\n",
    "from sklearn.metrics import mean_squared_error\n",
    "from sklearn.model_selection import train_test_split\n",
    "\n",
    "# Select the columns to use as the independent variables\n",
    "X = df[df['flow']>0][columns].drop('flow', axis=1)\n",
    "\n",
    "# Select the column to use as the dependent variable\n",
    "y = df[df['flow']>0][columns]['flow']\n",
    "\n",
    "# Split the data into training and test sets\n",
    "X_train, X_test, y_train, y_test = train_test_split(X, y, test_size=0.2)\n",
    "\n",
    "# Create a LinearRegression model\n",
    "model = LinearRegression()\n",
    "\n",
    "# Fit the model to the training data\n",
    "model.fit(X_train, y_train)\n",
    "\n",
    "# Use the model to make predictions on the test data\n",
    "predictions = model.predict(X_test)\n",
    "\n",
    "# Calculate the mean squared error\n",
    "mse = mean_squared_error(y_test, predictions)\n",
    "\n",
    "print(f'Mean squared error: {mse}')\n"
   ]
  },
  {
   "cell_type": "code",
   "execution_count": 30,
   "id": "ce5b12b3",
   "metadata": {},
   "outputs": [
    {
     "name": "stdout",
     "output_type": "stream",
     "text": [
      "Mean squared error: 0.11896351257353363\n"
     ]
    }
   ],
   "source": [
    "from sklearn.linear_model import LinearRegression\n",
    "from sklearn.metrics import mean_squared_error\n",
    "from sklearn.model_selection import train_test_split\n",
    "\n",
    "# Select the columns to use as the independent variables\n",
    "X = df_filtered[df_filtered['flow']>0][columns].drop('flow', axis=1)\n",
    "\n",
    "# Select the column to use as the dependent variable\n",
    "y = df_filtered[df_filtered['flow']>0][columns]['flow']\n",
    "\n",
    "# Split the data into training and test sets\n",
    "X_train, X_test, y_train, y_test = train_test_split(X, y, test_size=0.2)\n",
    "\n",
    "# Create a LinearRegression model\n",
    "model = LinearRegression()\n",
    "\n",
    "# Fit the model to the training data\n",
    "model.fit(X_train, y_train)\n",
    "\n",
    "# Use the model to make predictions on the test data\n",
    "predictions = model.predict(X_test)\n",
    "\n",
    "# Calculate the mean squared error\n",
    "mse = mean_squared_error(y_test, predictions)\n",
    "\n",
    "print(f'Mean squared error: {mse}')\n",
    "\n"
   ]
  },
  {
   "cell_type": "markdown",
   "id": "e57db0fb",
   "metadata": {},
   "source": [
    "# Normalization"
   ]
  },
  {
   "cell_type": "code",
   "execution_count": 553,
   "id": "34c040c3",
   "metadata": {},
   "outputs": [],
   "source": [
    "# without filter"
   ]
  },
  {
   "cell_type": "code",
   "execution_count": 31,
   "id": "5bdc9e05",
   "metadata": {},
   "outputs": [],
   "source": [
    "from sklearn.preprocessing import MinMaxScaler\n",
    "import pandas as pd\n",
    "\n",
    "# create a MinMaxScaler object\n",
    "scaler = MinMaxScaler()\n",
    "\n",
    "# fit the scaler to the data\n",
    "scaler.fit(df1[columns])\n",
    "\n",
    "# transform the data using the scaler\n",
    "df1[columns] = scaler.transform(df1[columns])"
   ]
  },
  {
   "cell_type": "code",
   "execution_count": 32,
   "id": "c837147f",
   "metadata": {},
   "outputs": [
    {
     "name": "stdout",
     "output_type": "stream",
     "text": [
      "Mean squared error: 0.002784312231618913\n"
     ]
    }
   ],
   "source": [
    "# Select the columns to use as the independent variables\n",
    "X = df1[columns].drop('flow', axis=1)\n",
    "\n",
    "# Select the column to use as the dependent variable\n",
    "y = df1[columns]['flow']\n",
    "\n",
    "# Split the data into training and test sets\n",
    "X_train, X_test, y_train, y_test = train_test_split(X, y, test_size=0.2)\n",
    "\n",
    "# Create a LinearRegression model\n",
    "model_norm = LinearRegression()\n",
    "\n",
    "# Fit the model to the training data\n",
    "model_norm.fit(X_train, y_train)\n",
    "\n",
    "# Use the model to make predictions on the test data\n",
    "predictions = model_norm.predict(X_test)\n",
    "\n",
    "# Calculate the mean squared error\n",
    "mse = mean_squared_error(y_test, predictions)\n",
    "\n",
    "print(f'Mean squared error: {mse}')"
   ]
  },
  {
   "cell_type": "code",
   "execution_count": 34,
   "id": "c9630536",
   "metadata": {},
   "outputs": [
    {
     "name": "stdout",
     "output_type": "stream",
     "text": [
      "                    feature  coefficient\n",
      "0              selfEntropyT    -0.082015\n",
      "1              selfEntropyS     0.002080\n",
      "2   author_followers_source     0.007737\n",
      "3      author_tweets_source    -0.005822\n",
      "4   author_following_source     0.016124\n",
      "5      author_listed_source    -0.013903\n",
      "6           FF_Ratio_source     0.002524\n",
      "7          FF_ratio2_source     0.003083\n",
      "8           TweetsNb_source     0.017768\n",
      "9   author_followers_target     0.075808\n",
      "10     author_tweets_target    -0.059185\n",
      "11  author_following_target    -0.040113\n",
      "12     author_listed_target    -0.040135\n",
      "13          FF_Ratio_target     0.011886\n",
      "14         FF_ratio2_target    -0.020600\n",
      "15          TweetsNb_target     0.141056\n"
     ]
    }
   ],
   "source": [
    "from sklearn.linear_model import LinearRegression\n",
    "\n",
    "# Select the columns to use as the independent variables\n",
    "X = df1[columns].drop('flow', axis=1)\n",
    "\n",
    "# Select the column to use as the dependent variable\n",
    "y = df1[columns]['flow']\n",
    "\n",
    "# Create a LinearRegression model\n",
    "model = LinearRegression()\n",
    "\n",
    "# Fit the model to the data\n",
    "model.fit(X, y)\n",
    "\n",
    "# Create a table with the coefficients and features\n",
    "coefficients = pd.DataFrame({'feature': X.columns, 'coefficient': model.coef_})\n",
    "\n",
    "print(coefficients)"
   ]
  },
  {
   "cell_type": "code",
   "execution_count": 35,
   "id": "03a5f2e3",
   "metadata": {},
   "outputs": [],
   "source": [
    "from sklearn.preprocessing import MinMaxScaler\n",
    "import pandas as pd\n",
    "\n",
    "# create a MinMaxScaler object\n",
    "scaler = MinMaxScaler()\n",
    "\n",
    "# fit the scaler to the data\n",
    "scaler.fit(df2[columns])\n",
    "\n",
    "# transform the data using the scaler\n",
    "df2[columns] = scaler.transform(df2[columns])"
   ]
  },
  {
   "cell_type": "code",
   "execution_count": 36,
   "id": "1c354a78",
   "metadata": {},
   "outputs": [
    {
     "name": "stdout",
     "output_type": "stream",
     "text": [
      "Mean squared error: 0.015646189236780718\n"
     ]
    }
   ],
   "source": [
    "# Select the columns to use as the independent variables\n",
    "X = df2[columns].drop('flow', axis=1)\n",
    "\n",
    "# Select the column to use as the dependent variable\n",
    "y = df2[columns]['flow']\n",
    "\n",
    "# Split the data into training and test sets\n",
    "X_train, X_test, y_train, y_test = train_test_split(X, y, test_size=0.2)\n",
    "\n",
    "# Create a LinearRegression model\n",
    "model_norm = LinearRegression()\n",
    "\n",
    "# Fit the model to the training data\n",
    "model_norm.fit(X_train, y_train)\n",
    "\n",
    "# Use the model to make predictions on the test data\n",
    "predictions = model_norm.predict(X_test)\n",
    "\n",
    "# Calculate the mean squared error\n",
    "mse = mean_squared_error(y_test, predictions)\n",
    "\n",
    "print(f'Mean squared error: {mse}')"
   ]
  },
  {
   "cell_type": "code",
   "execution_count": 38,
   "id": "39991ac0",
   "metadata": {},
   "outputs": [
    {
     "name": "stdout",
     "output_type": "stream",
     "text": [
      "                    feature  coefficient\n",
      "0              selfEntropyT    -0.927877\n",
      "1              selfEntropyS     0.383839\n",
      "2   author_followers_source     0.230596\n",
      "3      author_tweets_source    -0.028999\n",
      "4   author_following_source     0.031702\n",
      "5      author_listed_source    -0.298371\n",
      "6           FF_Ratio_source     0.033293\n",
      "7          FF_ratio2_source     0.026725\n",
      "8           TweetsNb_source     0.256117\n",
      "9   author_followers_target    -0.284245\n",
      "10     author_tweets_target     0.039923\n",
      "11  author_following_target    -0.025577\n",
      "12     author_listed_target     0.120593\n",
      "13          FF_Ratio_target     0.119181\n",
      "14         FF_ratio2_target    -0.008741\n",
      "15          TweetsNb_target    -0.104190\n"
     ]
    }
   ],
   "source": [
    "from sklearn.linear_model import LinearRegression\n",
    "\n",
    "# Select the columns to use as the independent variables\n",
    "X = df2[columns].drop('flow', axis=1)\n",
    "\n",
    "# Select the column to use as the dependent variable\n",
    "y = df2[columns]['flow']\n",
    "\n",
    "# Create a LinearRegression model\n",
    "model = LinearRegression()\n",
    "\n",
    "# Fit the model to the data\n",
    "model.fit(X, y)\n",
    "\n",
    "# Create a table with the coefficients and features\n",
    "coefficients = pd.DataFrame({'feature': X.columns, 'coefficient': model.coef_})\n",
    "\n",
    "print(coefficients)"
   ]
  },
  {
   "cell_type": "markdown",
   "id": "61994995",
   "metadata": {},
   "source": [
    "## Visualize Norm"
   ]
  },
  {
   "cell_type": "code",
   "execution_count": 591,
   "id": "2ff7b557",
   "metadata": {},
   "outputs": [
    {
     "data": {
      "image/png": "[encoded data removed]",
      "text/plain": [
       "<Figure size 432x288 with 1 Axes>"
      ]
     },
     "metadata": {
      "needs_background": "light"
     },
     "output_type": "display_data"
    }
   ],
   "source": [
    "import matplotlib.pyplot as plt\n",
    "# Visualize the model\n",
    "plt.scatter(X_test['author_tweets_target'], y_test, label='Original data')\n",
    "plt.plot(X_test['author_tweets_target'], predictions, color='red', label='Predictions')\n",
    "plt.xlabel('X')\n",
    "plt.ylabel('y')\n",
    "plt.title('Linear Regression Model')\n",
    "plt.legend()\n",
    "plt.show()"
   ]
  },
  {
   "cell_type": "markdown",
   "id": "08602103",
   "metadata": {},
   "source": [
    "# Standardizer"
   ]
  },
  {
   "cell_type": "code",
   "execution_count": 39,
   "id": "4f1a72fd",
   "metadata": {},
   "outputs": [],
   "source": [
    "dfs = df[df['flow']>0]"
   ]
  },
  {
   "cell_type": "code",
   "execution_count": 40,
   "id": "422f4b21",
   "metadata": {},
   "outputs": [],
   "source": [
    "dfs = dfs[columns]"
   ]
  },
  {
   "cell_type": "code",
   "execution_count": 41,
   "id": "dcc3a380",
   "metadata": {},
   "outputs": [],
   "source": [
    "for col in columns:\n",
    "    if col != 'flow' :   \n",
    "        dfs[col] = (dfs[col]- dfs[col].mean())/dfs[col].std()"
   ]
  },
  {
   "cell_type": "code",
   "execution_count": 42,
   "id": "d680bf45",
   "metadata": {},
   "outputs": [],
   "source": [
    "df_filtered_std = df_filtered[df_filtered['flow']>0]"
   ]
  },
  {
   "cell_type": "code",
   "execution_count": 43,
   "id": "c1eed6d5",
   "metadata": {},
   "outputs": [],
   "source": [
    "df_filtered_std = df_filtered_std[columns]"
   ]
  },
  {
   "cell_type": "code",
   "execution_count": 44,
   "id": "46d5563f",
   "metadata": {},
   "outputs": [],
   "source": [
    "for col in columns:\n",
    "    if col != 'flow' :   \n",
    "        df_filtered_std[col] = (df_filtered_std[col]- df_filtered_std[col].mean())/df[col].std()"
   ]
  },
  {
   "cell_type": "code",
   "execution_count": 45,
   "id": "167a2746",
   "metadata": {},
   "outputs": [
    {
     "name": "stdout",
     "output_type": "stream",
     "text": [
      "Mean squared error: 146.61032170954292\n"
     ]
    }
   ],
   "source": [
    "from sklearn.linear_model import LinearRegression\n",
    "from sklearn.metrics import mean_squared_error\n",
    "from sklearn.model_selection import train_test_split\n",
    "\n",
    "# Select the columns to use as the independent variables\n",
    "X = dfs.drop('flow', axis = 1) \n",
    "\n",
    "# Select the column to use as the dependent variable\n",
    "y = dfs['flow']\n",
    "\n",
    "# Split the data into training and test sets\n",
    "X_train, X_test, y_train, y_test = train_test_split(X, y, test_size=0.2)\n",
    "\n",
    "# Create a LinearRegression model\n",
    "model_std = LinearRegression()\n",
    "\n",
    "# Fit the model to the training data\n",
    "model_std.fit(X_train, y_train)\n",
    "\n",
    "# Use the model to make predictions on the test data\n",
    "predictions = model_std.predict(X_test)\n",
    "\n",
    "# Calculate the mean squared error\n",
    "mse = mean_squared_error(y_test, predictions)\n",
    "\n",
    "print(f'Mean squared error: {mse}')\n",
    "\n"
   ]
  },
  {
   "cell_type": "code",
   "execution_count": 46,
   "id": "73e29816",
   "metadata": {},
   "outputs": [
    {
     "name": "stdout",
     "output_type": "stream",
     "text": [
      "Mean squared error: 0.11453934540841763\n"
     ]
    }
   ],
   "source": [
    "from sklearn.linear_model import LinearRegression\n",
    "from sklearn.metrics import mean_squared_error\n",
    "from sklearn.model_selection import train_test_split\n",
    "\n",
    "# Select the columns to use as the independent variables\n",
    "X = df_filtered_std.drop('flow', axis = 1) \n",
    "\n",
    "# Select the column to use as the dependent variable\n",
    "y = df_filtered_std['flow']\n",
    "\n",
    "# Split the data into training and test sets\n",
    "X_train, X_test, y_train, y_test = train_test_split(X, y, test_size=0.2)\n",
    "\n",
    "# Create a LinearRegression model\n",
    "model_std = LinearRegression()\n",
    "\n",
    "# Fit the model to the training data\n",
    "model_std.fit(X_train, y_train)\n",
    "\n",
    "# Use the model to make predictions on the test data\n",
    "predictions = model_std.predict(X_test)\n",
    "\n",
    "# Calculate the mean squared error\n",
    "mse = mean_squared_error(y_test, predictions)\n",
    "\n",
    "print(f'Mean squared error: {mse}')\n",
    "\n",
    "\n"
   ]
  },
  {
   "cell_type": "code",
   "execution_count": 48,
   "id": "cd1f9774",
   "metadata": {},
   "outputs": [
    {
     "name": "stdout",
     "output_type": "stream",
     "text": [
      "                    feature  coefficient\n",
      "0              selfEntropyT    -0.706121\n",
      "1              selfEntropyS     0.314944\n",
      "2   author_followers_source     0.046226\n",
      "3      author_tweets_source    -0.008986\n",
      "4   author_following_source     0.016800\n",
      "5      author_listed_source    -0.063501\n",
      "6           FF_Ratio_source     0.006749\n",
      "7          FF_ratio2_source     0.021778\n",
      "8           TweetsNb_source     0.070795\n",
      "9   author_followers_target    -0.056980\n",
      "10     author_tweets_target     0.012372\n",
      "11  author_following_target    -0.013554\n",
      "12     author_listed_target     0.025665\n",
      "13          FF_Ratio_target     0.024161\n",
      "14         FF_ratio2_target    -0.007123\n",
      "15          TweetsNb_target    -0.028800\n"
     ]
    }
   ],
   "source": [
    "from sklearn.linear_model import LinearRegression\n",
    "\n",
    "# Select the columns to use as the independent variables\n",
    "X = df_filtered_std[columns].drop('flow', axis = 1) \n",
    "\n",
    "# Select the column to use as the dependent variable\n",
    "y = df_filtered_std[columns]['flow']\n",
    "\n",
    "# Create a LinearRegression model\n",
    "model = LinearRegression()\n",
    "\n",
    "# Fit the model to the data\n",
    "model.fit(X, y)\n",
    "\n",
    "# Create a table with the coefficients and features\n",
    "coefficients = pd.DataFrame({'feature': X.columns, 'coefficient': model.coef_})\n",
    "\n",
    "print(coefficients)"
   ]
  },
  {
   "cell_type": "markdown",
   "id": "faf58cab",
   "metadata": {},
   "source": [
    "# Feature Selection"
   ]
  },
  {
   "cell_type": "markdown",
   "id": "88f9f76b",
   "metadata": {},
   "source": [
    "# F regression"
   ]
  },
  {
   "cell_type": "markdown",
   "id": "20a4c9d4",
   "metadata": {},
   "source": [
    "## baseline filtered"
   ]
  },
  {
   "cell_type": "code",
   "execution_count": 49,
   "id": "1cd836d2",
   "metadata": {},
   "outputs": [
    {
     "name": "stdout",
     "output_type": "stream",
     "text": [
      "f_values_norm :  [2.30086283e+02 8.43106280e+03 1.22666197e+01 4.73836622e+01\n",
      " 3.66625605e+01 1.77718144e+01 2.57728859e+01 1.13528029e+01\n",
      " 4.31180126e+03 7.21763725e-01 2.18062899e-01 1.48115652e-01\n",
      " 2.90749503e-02 1.17809842e-01 5.84790492e+00 2.61669766e+00]\n",
      "p_values_norm :  [7.01856877e-52 0.00000000e+00 4.61444772e-04 5.88987511e-12\n",
      " 1.41224577e-09 2.49384333e-05 3.85112043e-07 7.53783180e-04\n",
      " 0.00000000e+00 3.95569139e-01 6.40521451e-01 7.00343922e-01\n",
      " 8.64606631e-01 7.31423259e-01 1.55983601e-02 1.05749196e-01]\n"
     ]
    }
   ],
   "source": [
    "from sklearn.feature_selection import f_regression\n",
    "\n",
    "# Select the columns to use as the independent variables\n",
    "X = df_filtered[columns].drop('flow', axis=1)\n",
    "\n",
    "# Select the column to use as the dependent variable\n",
    "y = df_filtered['flow']\n",
    "\n",
    "# Calculate the F-value and p-value for each feature\n",
    "f_values, p_values = f_regression(X, y)\n",
    "\n",
    "# Print the p-values\n",
    "print('f_values_norm : ',f_values)\n",
    "print('p_values_norm : ',p_values)"
   ]
  },
  {
   "cell_type": "markdown",
   "id": "79b7403d",
   "metadata": {},
   "source": [
    "# 1 feature for p value "
   ]
  },
  {
   "cell_type": "code",
   "execution_count": 649,
   "id": "46d353e1",
   "metadata": {},
   "outputs": [
    {
     "data": {
      "text/plain": [
       "['flow',\n",
       " 'selfEntropyT',\n",
       " 'selfEntropyS',\n",
       " 'author_followers_source',\n",
       " 'author_tweets_source',\n",
       " 'author_following_source',\n",
       " 'author_listed_source',\n",
       " 'FF_Ratio_source',\n",
       " 'FF_ratio2_source',\n",
       " 'TweetsNb_source_users',\n",
       " 'author_followers_target',\n",
       " 'author_tweets_target',\n",
       " 'author_following_target',\n",
       " 'author_listed_target',\n",
       " 'FF_Ratio_target',\n",
       " 'FF_ratio2_target',\n",
       " 'TweetsNb_source_target']"
      ]
     },
     "execution_count": 649,
     "metadata": {},
     "output_type": "execute_result"
    }
   ],
   "source": [
    "columns"
   ]
  },
  {
   "cell_type": "code",
   "execution_count": 50,
   "id": "b9f9a7dc",
   "metadata": {},
   "outputs": [
    {
     "ename": "NameError",
     "evalue": "name 'columns_ref' is not defined",
     "output_type": "error",
     "traceback": [
      "\u001b[0;31m---------------------------------------------------------------------------\u001b[0m",
      "\u001b[0;31mNameError\u001b[0m                                 Traceback (most recent call last)",
      "\u001b[0;32m/var/folders/9h/13pr4vr90tq8fry9k7v3mmxh0000gn/T/ipykernel_961/2510764108.py\u001b[0m in \u001b[0;36m<module>\u001b[0;34m\u001b[0m\n\u001b[0;32m----> 1\u001b[0;31m \u001b[0mcolumns_ref\u001b[0m\u001b[0;34m\u001b[0m\u001b[0;34m\u001b[0m\u001b[0m\n\u001b[0m",
      "\u001b[0;31mNameError\u001b[0m: name 'columns_ref' is not defined"
     ]
    }
   ],
   "source": [
    "columns_ref"
   ]
  },
  {
   "cell_type": "code",
   "execution_count": 666,
   "id": "501ac773",
   "metadata": {},
   "outputs": [],
   "source": [
    "col = ['author_followers_target','author_followers_source','flow']"
   ]
  },
  {
   "cell_type": "code",
   "execution_count": 667,
   "id": "4727687d",
   "metadata": {},
   "outputs": [
    {
     "name": "stdout",
     "output_type": "stream",
     "text": [
      "f_values_norm :  [27.91417042 27.91417042]\n",
      "p_values_norm :  [1.27362599e-07 1.27362599e-07]\n"
     ]
    }
   ],
   "source": [
    "from sklearn.feature_selection import f_regression\n",
    "\n",
    "# Select the columns to use as the independent variables\n",
    "X = df_filtered[col].drop('flow',axis=1)\n",
    "\n",
    "# Select the column to use as the dependent variable\n",
    "y = df_filtered['flow']\n",
    "\n",
    "# Calculate the F-value and p-value for each feature\n",
    "f_values, p_values = f_regression(X, y)\n",
    "\n",
    "# Print the p-values\n",
    "print('f_values_norm : ',f_values)\n",
    "print('p_values_norm : ',p_values)"
   ]
  },
  {
   "cell_type": "markdown",
   "id": "f5fdf2fb",
   "metadata": {},
   "source": [
    "# std"
   ]
  },
  {
   "cell_type": "code",
   "execution_count": 51,
   "id": "69a04a01",
   "metadata": {},
   "outputs": [
    {
     "name": "stdout",
     "output_type": "stream",
     "text": [
      "f_values_norm :  [7.48157150e+03 8.74925511e+02 4.22288115e-04 1.82168643e-01\n",
      " 1.76485894e+01 4.54114073e-02 5.10983441e-04 2.27771039e+00\n",
      " 2.30249050e+01 3.57302120e+01 1.07182289e+02 1.37279190e+01\n",
      " 3.71268258e+01 6.64279330e+01 2.84268940e+02 2.97545787e+03]\n",
      "p_values_norm :  [0.00000000e+000 3.27304611e-190 9.83605009e-001 6.69518448e-001\n",
      " 2.66293016e-005 8.31250432e-001 9.81965515e-001 1.31253476e-001\n",
      " 1.60497818e-006 2.28555857e-009 4.37107672e-025 2.11577312e-004\n",
      " 1.11708517e-009 3.73468961e-016 1.46991768e-063 0.00000000e+000]\n"
     ]
    }
   ],
   "source": [
    "from sklearn.feature_selection import f_regression\n",
    "\n",
    "# Select the columns to use as the independent variables\n",
    "X = dfs.drop('flow', axis=1)\n",
    "\n",
    "# Select the column to use as the dependent variable\n",
    "y = dfs['flow']\n",
    "\n",
    "# Calculate the F-value and p-value for each feature\n",
    "f_values_std, p_values_std = f_regression(X, y)\n",
    "\n",
    "# Print the p-values\n",
    "print('f_values_norm : ',f_values_std)\n",
    "print('p_values_norm : ',p_values_std)"
   ]
  },
  {
   "cell_type": "code",
   "execution_count": 52,
   "id": "3380e517",
   "metadata": {},
   "outputs": [
    {
     "name": "stdout",
     "output_type": "stream",
     "text": [
      "f_values_norm :  [5.11955842e+04 4.73459372e+02 3.49044731e-02 8.52214385e+00\n",
      " 3.54288843e+00 1.75992595e-02 4.65928321e-03 1.98187925e+00\n",
      " 2.72513177e+01 2.16173826e+00 4.10427089e+01 2.18242575e+02\n",
      " 2.31801138e-01 1.09250226e+00 1.36821754e+01 8.12228793e+02]\n",
      "p_values_norm :  [0.00000000e+000 3.50949377e-104 8.51797213e-001 3.51107157e-003\n",
      " 5.98107384e-002 8.94461412e-001 9.45579954e-001 1.59202752e-001\n",
      " 1.79821289e-007 1.41494860e-001 1.51105633e-010 3.23465403e-049\n",
      " 6.30194966e-001 2.95925727e-001 2.16879116e-004 2.42100529e-176]\n"
     ]
    }
   ],
   "source": [
    "from sklearn.feature_selection import f_regression\n",
    "\n",
    "# Select the columns to use as the independent variables\n",
    "X = df_filtered_std.drop('flow', axis=1)\n",
    "\n",
    "# Select the column to use as the dependent variable\n",
    "y = df_filtered_std['flow']\n",
    "\n",
    "# Calculate the F-value and p-value for each feature\n",
    "f_values_std, p_values_std = f_regression(X, y)\n",
    "\n",
    "# Print the p-values\n",
    "print('f_values_norm : ',f_values_std)\n",
    "print('p_values_norm : ',p_values_std)"
   ]
  },
  {
   "cell_type": "markdown",
   "id": "64da8d1e",
   "metadata": {},
   "source": [
    "## norm"
   ]
  },
  {
   "cell_type": "code",
   "execution_count": 53,
   "id": "103a1a94",
   "metadata": {},
   "outputs": [
    {
     "name": "stdout",
     "output_type": "stream",
     "text": [
      "f_values_norm :  [7.48157150e+03 8.74925511e+02 4.22288115e-04 1.82168643e-01\n",
      " 1.76485894e+01 4.54114073e-02 5.10983441e-04 2.27771039e+00\n",
      " 2.30249050e+01 3.57302120e+01 1.07182289e+02 1.37279190e+01\n",
      " 3.71268258e+01 6.64279330e+01 2.84268940e+02 2.97545787e+03]\n",
      "p_values_norm :  [0.00000000e+000 3.27304611e-190 9.83605009e-001 6.69518448e-001\n",
      " 2.66293016e-005 8.31250432e-001 9.81965515e-001 1.31253476e-001\n",
      " 1.60497818e-006 2.28555857e-009 4.37107672e-025 2.11577312e-004\n",
      " 1.11708517e-009 3.73468961e-016 1.46991768e-063 0.00000000e+000]\n"
     ]
    }
   ],
   "source": [
    "from sklearn.feature_selection import f_regression\n",
    "\n",
    "# Select the columns to use as the independent variables\n",
    "X = df1[columns].drop('flow', axis=1)\n",
    "\n",
    "# Select the column to use as the dependent variable\n",
    "y = df1[columns]['flow']\n",
    "\n",
    "# Calculate the F-value and p-value for each feature\n",
    "f_values_norm, p_values_norm = f_regression(X, y)\n",
    "\n",
    "# Print the p-values\n",
    "print('f_values_norm : ',f_values_norm)\n",
    "print('p_values_norm : ',p_values_norm)"
   ]
  },
  {
   "cell_type": "code",
   "execution_count": 54,
   "id": "2eae96ca",
   "metadata": {},
   "outputs": [
    {
     "name": "stdout",
     "output_type": "stream",
     "text": [
      "f_values_norm :  [5.11955842e+04 4.73459372e+02 3.49044731e-02 8.52214385e+00\n",
      " 3.54288843e+00 1.75992595e-02 4.65928321e-03 1.98187925e+00\n",
      " 2.72513177e+01 2.16173826e+00 4.10427089e+01 2.18242575e+02\n",
      " 2.31801138e-01 1.09250226e+00 1.36821754e+01 8.12228793e+02]\n",
      "p_values_norm :  [0.00000000e+000 3.50949377e-104 8.51797213e-001 3.51107157e-003\n",
      " 5.98107384e-002 8.94461412e-001 9.45579954e-001 1.59202752e-001\n",
      " 1.79821289e-007 1.41494860e-001 1.51105633e-010 3.23465403e-049\n",
      " 6.30194966e-001 2.95925727e-001 2.16879116e-004 2.42100529e-176]\n"
     ]
    }
   ],
   "source": [
    "from sklearn.feature_selection import f_regression\n",
    "\n",
    "# Select the columns to use as the independent variables\n",
    "X = df2[columns].drop('flow', axis=1)\n",
    "\n",
    "# Select the column to use as the dependent variable\n",
    "y = df2[columns]['flow']\n",
    "\n",
    "# Calculate the F-value and p-value for each feature\n",
    "f_values_norm, p_values_norm = f_regression(X, y)\n",
    "\n",
    "# Print the p-values\n",
    "print('f_values_norm : ',f_values_norm)\n",
    "print('p_values_norm : ',p_values_norm)"
   ]
  },
  {
   "cell_type": "markdown",
   "id": "2b8deb9e",
   "metadata": {},
   "source": [
    "# Lasso"
   ]
  },
  {
   "cell_type": "markdown",
   "id": "9b55daa3",
   "metadata": {},
   "source": [
    "## std"
   ]
  },
  {
   "cell_type": "code",
   "execution_count": 55,
   "id": "5577f5d4",
   "metadata": {},
   "outputs": [
    {
     "name": "stdout",
     "output_type": "stream",
     "text": [
      "Mean squared error: 131.8016322851065\n"
     ]
    }
   ],
   "source": [
    "from sklearn.linear_model import Lasso\n",
    "\n",
    "# Select the columns to use as the independent variables\n",
    "X = dfs.drop('flow', axis = 1) \n",
    "\n",
    "# Select the column to use as the dependent variable\n",
    "y = dfs['flow']\n",
    "\n",
    "# Split the data into training and test sets\n",
    "X_train, X_test, y_train, y_test = train_test_split(X, y, test_size=0.2)\n",
    "\n",
    "# Create a Lasso model\n",
    "model_std = Lasso(alpha=0.1)\n",
    "\n",
    "# Fit the model to the training data\n",
    "model_std.fit(X_train, y_train)\n",
    "\n",
    "# Use the model to make predictions on the test data\n",
    "predictions = model_std.predict(X_test)\n",
    "\n",
    "# Calculate the mean squared error\n",
    "mse = mean_squared_error(y_test, predictions)\n",
    "\n",
    "print(f'Mean squared error: {mse}')"
   ]
  },
  {
   "cell_type": "code",
   "execution_count": 56,
   "id": "e14b22fd",
   "metadata": {},
   "outputs": [
    {
     "name": "stdout",
     "output_type": "stream",
     "text": [
      "Mean squared error: 0.15529808608106055\n"
     ]
    }
   ],
   "source": [
    "from sklearn.linear_model import Lasso\n",
    "\n",
    "# Select the columns to use as the independent variables\n",
    "X = df_filtered_std.drop('flow', axis = 1) \n",
    "\n",
    "# Select the column to use as the dependent variable\n",
    "y = df_filtered_std['flow']\n",
    "\n",
    "# Split the data into training and test sets\n",
    "X_train, X_test, y_train, y_test = train_test_split(X, y, test_size=0.2)\n",
    "\n",
    "# Create a Lasso model\n",
    "model_std = Lasso(alpha=0.1)\n",
    "\n",
    "# Fit the model to the training data\n",
    "model_std.fit(X_train, y_train)\n",
    "\n",
    "# Use the model to make predictions on the test data\n",
    "predictions = model_std.predict(X_test)\n",
    "\n",
    "# Calculate the mean squared error\n",
    "mse = mean_squared_error(y_test, predictions)\n",
    "\n",
    "print(f'Mean squared error: {mse}')"
   ]
  },
  {
   "cell_type": "markdown",
   "id": "aa1d5e21",
   "metadata": {},
   "source": [
    "## norm"
   ]
  },
  {
   "cell_type": "code",
   "execution_count": 57,
   "id": "2b94bd7a",
   "metadata": {},
   "outputs": [
    {
     "name": "stdout",
     "output_type": "stream",
     "text": [
      "Mean squared error: 0.003940175133555337\n"
     ]
    }
   ],
   "source": [
    "from sklearn.linear_model import Lasso\n",
    "\n",
    "# Select the columns to use as the independent variables\n",
    "X = df1[columns].drop('flow', axis=1)\n",
    "\n",
    "# Select the column to use as the dependent variable\n",
    "y = df1[columns]['flow']\n",
    "\n",
    "# Split the data into training and test sets\n",
    "X_train, X_test, y_train, y_test = train_test_split(X, y, test_size=0.2)\n",
    "\n",
    "# Create a Lasso model\n",
    "model_norm = Lasso(alpha=0.1)\n",
    "\n",
    "# Fit the model to the training data\n",
    "model_norm.fit(X_train, y_train)\n",
    "\n",
    "# Use the model to make predictions on the test data\n",
    "predictions = model_norm.predict(X_test)\n",
    "\n",
    "# Calculate the mean squared error\n",
    "mse = mean_squared_error(y_test, predictions)\n",
    "\n",
    "print(f'Mean squared error: {mse}')"
   ]
  },
  {
   "cell_type": "code",
   "execution_count": 58,
   "id": "a2e66b6d",
   "metadata": {},
   "outputs": [
    {
     "name": "stdout",
     "output_type": "stream",
     "text": [
      "Mean squared error: 0.0516818383958039\n"
     ]
    }
   ],
   "source": [
    "from sklearn.linear_model import Lasso\n",
    "\n",
    "# Select the columns to use as the independent variables\n",
    "X = df2[columns].drop('flow', axis=1)\n",
    "\n",
    "# Select the column to use as the dependent variable\n",
    "y = df2[columns]['flow']\n",
    "\n",
    "# Split the data into training and test sets\n",
    "X_train, X_test, y_train, y_test = train_test_split(X, y, test_size=0.2)\n",
    "\n",
    "# Create a Lasso model\n",
    "model_norm = Lasso(alpha=0.1)\n",
    "\n",
    "# Fit the model to the training data\n",
    "model_norm.fit(X_train, y_train)\n",
    "\n",
    "# Use the model to make predictions on the test data\n",
    "predictions = model_norm.predict(X_test)\n",
    "\n",
    "# Calculate the mean squared error\n",
    "mse = mean_squared_error(y_test, predictions)\n",
    "\n",
    "print(f'Mean squared error: {mse}')"
   ]
  },
  {
   "cell_type": "markdown",
   "id": "d6352af7",
   "metadata": {},
   "source": [
    "# RFE"
   ]
  },
  {
   "cell_type": "markdown",
   "id": "75153c8a",
   "metadata": {},
   "source": [
    "## std"
   ]
  },
  {
   "cell_type": "code",
   "execution_count": 59,
   "id": "a62f3723",
   "metadata": {},
   "outputs": [
    {
     "name": "stdout",
     "output_type": "stream",
     "text": [
      "[False False False False False False  True  True  True  True  True  True\n",
      "  True  True  True  True]\n",
      "[7 6 5 4 3 2 1 1 1 1 1 1 1 1 1 1]\n"
     ]
    }
   ],
   "source": [
    "from sklearn.feature_selection import RFE\n",
    "# Use recursive feature elimination to select the best features\n",
    "rfe_std = RFE(model_std, n_features_to_select=10)\n",
    "rfe_std = rfe_std.fit(X, y)\n",
    "\n",
    "# Print the selected features\n",
    "print(rfe_std.support_)\n",
    "\n",
    "# Print the ranking of the features\n",
    "print(rfe_std.ranking_)"
   ]
  },
  {
   "cell_type": "markdown",
   "id": "742773e3",
   "metadata": {},
   "source": [
    "## norm"
   ]
  },
  {
   "cell_type": "code",
   "execution_count": 60,
   "id": "0a49820a",
   "metadata": {},
   "outputs": [
    {
     "name": "stdout",
     "output_type": "stream",
     "text": [
      "[False False False False False False  True  True  True  True  True  True\n",
      "  True  True  True  True]\n",
      "[7 6 5 4 3 2 1 1 1 1 1 1 1 1 1 1]\n"
     ]
    }
   ],
   "source": [
    "from sklearn.feature_selection import RFE\n",
    "# Use recursive feature elimination to select the best features\n",
    "rfe_norm = RFE(model_norm, n_features_to_select=10)\n",
    "rfe_norm = rfe_norm.fit(X, y)\n",
    "\n",
    "# Print the selected features\n",
    "print(rfe_norm.support_)\n",
    "\n",
    "# Print the ranking of the features\n",
    "print(rfe_norm.ranking_)"
   ]
  },
  {
   "cell_type": "markdown",
   "id": "f98769c2",
   "metadata": {},
   "source": [
    "meme resultats pr std et norm de rfe"
   ]
  },
  {
   "cell_type": "markdown",
   "id": "63a53c35",
   "metadata": {},
   "source": [
    "# utiliser seulement les ref pour la mse "
   ]
  },
  {
   "cell_type": "code",
   "execution_count": 61,
   "id": "a6176107",
   "metadata": {},
   "outputs": [
    {
     "data": {
      "text/plain": [
       "['flow',\n",
       " 'selfEntropyT',\n",
       " 'selfEntropyS',\n",
       " 'author_followers_source',\n",
       " 'author_tweets_source',\n",
       " 'author_following_source',\n",
       " 'author_listed_source',\n",
       " 'FF_Ratio_source',\n",
       " 'FF_ratio2_source',\n",
       " 'TweetsNb_source',\n",
       " 'author_followers_target',\n",
       " 'author_tweets_target',\n",
       " 'author_following_target',\n",
       " 'author_listed_target',\n",
       " 'FF_Ratio_target',\n",
       " 'FF_ratio2_target',\n",
       " 'TweetsNb_target']"
      ]
     },
     "execution_count": 61,
     "metadata": {},
     "output_type": "execute_result"
    }
   ],
   "source": [
    "columns"
   ]
  },
  {
   "cell_type": "code",
   "execution_count": 62,
   "id": "f87d1e7d",
   "metadata": {},
   "outputs": [],
   "source": [
    "columns_ref = ['flow',\n",
    " 'author_listed_source',\n",
    " 'FF_Ratio_source',\n",
    " 'FF_ratio2_source',\n",
    " 'TweetsNb_source',\n",
    " 'author_followers_target',\n",
    " 'author_tweets_target',\n",
    " 'author_following_target',\n",
    " 'author_listed_target',\n",
    " 'FF_Ratio_target',\n",
    " 'FF_ratio2_target',\n",
    " 'TweetsNb_target']"
   ]
  },
  {
   "cell_type": "markdown",
   "id": "63d19033",
   "metadata": {},
   "source": [
    "on tej 'author_followers_source','author_tweets_source','author_following_source' due a rfe"
   ]
  },
  {
   "cell_type": "code",
   "execution_count": 63,
   "id": "befcd71b",
   "metadata": {},
   "outputs": [
    {
     "name": "stdout",
     "output_type": "stream",
     "text": [
      "Mean squared error: 0.0034338499390386057\n"
     ]
    }
   ],
   "source": [
    "# Select the columns to use as the independent variables\n",
    "X = df1[columns_ref].drop('flow', axis=1)\n",
    "\n",
    "# Select the column to use as the dependent variable\n",
    "y = df1[columns_ref]['flow']\n",
    "\n",
    "# Split the data into training and test sets\n",
    "X_train, X_test, y_train, y_test = train_test_split(X, y, test_size=0.2)\n",
    "\n",
    "# Create a LinearRegression model\n",
    "model_norm = LinearRegression()\n",
    "\n",
    "# Fit the model to the training data\n",
    "model_norm.fit(X_train, y_train)\n",
    "\n",
    "# Use the model to make predictions on the test data\n",
    "predictions = model_norm.predict(X_test)\n",
    "\n",
    "# Calculate the mean squared error\n",
    "mse = mean_squared_error(y_test, predictions)\n",
    "\n",
    "print(f'Mean squared error: {mse}')"
   ]
  },
  {
   "cell_type": "code",
   "execution_count": 64,
   "id": "205ffdc6",
   "metadata": {},
   "outputs": [
    {
     "name": "stdout",
     "output_type": "stream",
     "text": [
      "Mean squared error: 0.05009092863261437\n"
     ]
    }
   ],
   "source": [
    "# Select the columns to use as the independent variables\n",
    "X = df2[columns_ref].drop('flow', axis=1)\n",
    "\n",
    "# Select the column to use as the dependent variable\n",
    "y = df2[columns_ref]['flow']\n",
    "\n",
    "# Split the data into training and test sets\n",
    "X_train, X_test, y_train, y_test = train_test_split(X, y, test_size=0.2)\n",
    "\n",
    "# Create a LinearRegression model\n",
    "model_norm = LinearRegression()\n",
    "\n",
    "# Fit the model to the training data\n",
    "model_norm.fit(X_train, y_train)\n",
    "\n",
    "# Use the model to make predictions on the test data\n",
    "predictions = model_norm.predict(X_test)\n",
    "\n",
    "# Calculate the mean squared error\n",
    "mse = mean_squared_error(y_test, predictions)\n",
    "\n",
    "print(f'Mean squared error: {mse}')"
   ]
  },
  {
   "cell_type": "code",
   "execution_count": 65,
   "id": "f56e4831",
   "metadata": {},
   "outputs": [
    {
     "name": "stdout",
     "output_type": "stream",
     "text": [
      "Mean squared error: 161.84737439619357\n"
     ]
    }
   ],
   "source": [
    "from sklearn.linear_model import LinearRegression\n",
    "from sklearn.metrics import mean_squared_error\n",
    "from sklearn.model_selection import train_test_split\n",
    "\n",
    "# Select the columns to use as the independent variables\n",
    "X = dfs[columns_ref].drop('flow', axis = 1) \n",
    "\n",
    "# Select the column to use as the dependent variable\n",
    "y = dfs[columns_ref]['flow']\n",
    "\n",
    "# Split the data into training and test sets\n",
    "X_train, X_test, y_train, y_test = train_test_split(X, y, test_size=0.2)\n",
    "\n",
    "# Create a LinearRegression model\n",
    "model_std = LinearRegression()\n",
    "\n",
    "# Fit the model to the training data\n",
    "model_std.fit(X_train, y_train)\n",
    "\n",
    "# Use the model to make predictions on the test data\n",
    "predictions = model_std.predict(X_test)\n",
    "\n",
    "# Calculate the mean squared error\n",
    "mse = mean_squared_error(y_test, predictions)\n",
    "\n",
    "print(f'Mean squared error: {mse}')\n",
    "\n",
    "\n"
   ]
  },
  {
   "cell_type": "code",
   "execution_count": 66,
   "id": "78cb4402",
   "metadata": {},
   "outputs": [
    {
     "name": "stdout",
     "output_type": "stream",
     "text": [
      "Mean squared error: 0.3708190085233997\n"
     ]
    }
   ],
   "source": [
    "from sklearn.linear_model import LinearRegression\n",
    "from sklearn.metrics import mean_squared_error\n",
    "from sklearn.model_selection import train_test_split\n",
    "\n",
    "# Select the columns to use as the independent variables\n",
    "X = df_filtered_std[columns_ref].drop('flow', axis = 1) \n",
    "\n",
    "# Select the column to use as the dependent variable\n",
    "y = df_filtered_std[columns_ref]['flow']\n",
    "\n",
    "# Split the data into training and test sets\n",
    "X_train, X_test, y_train, y_test = train_test_split(X, y, test_size=0.2)\n",
    "\n",
    "# Create a LinearRegression model\n",
    "model_std = LinearRegression()\n",
    "\n",
    "# Fit the model to the training data\n",
    "model_std.fit(X_train, y_train)\n",
    "\n",
    "# Use the model to make predictions on the test data\n",
    "predictions = model_std.predict(X_test)\n",
    "\n",
    "# Calculate the mean squared error\n",
    "mse = mean_squared_error(y_test, predictions)\n",
    "\n",
    "print(f'Mean squared error: {mse}')\n",
    "\n",
    "\n",
    "\n"
   ]
  },
  {
   "cell_type": "code",
   "execution_count": 67,
   "id": "cb074a4f",
   "metadata": {},
   "outputs": [
    {
     "data": {
      "text/plain": [
       "79242"
      ]
     },
     "execution_count": 67,
     "metadata": {},
     "output_type": "execute_result"
    }
   ],
   "source": [
    "len(df)"
   ]
  },
  {
   "cell_type": "code",
   "execution_count": 68,
   "id": "3e74c6da",
   "metadata": {},
   "outputs": [
    {
     "data": {
      "text/plain": [
       "64467"
      ]
     },
     "execution_count": 68,
     "metadata": {},
     "output_type": "execute_result"
    }
   ],
   "source": [
    "len(df_filtered)"
   ]
  },
  {
   "cell_type": "markdown",
   "id": "0ff9fc8c",
   "metadata": {},
   "source": [
    "# Choosing only the Significant p values "
   ]
  },
  {
   "cell_type": "code",
   "execution_count": 642,
   "id": "2a9d3116",
   "metadata": {},
   "outputs": [],
   "source": [
    "p_val_sign = ['flow','selfEntropyT','selfEntropyS','author_followers_source','author_tweets_source',\n",
    "              'author_following_source','FF_Ratio_source','TweetsNb_source_users','author_followers_target',\n",
    "              'author_tweets_target','author_following_target','FF_Ratio_target','TweetsNb_source_target']"
   ]
  },
  {
   "cell_type": "code",
   "execution_count": 648,
   "id": "7cbcac8a",
   "metadata": {},
   "outputs": [],
   "source": [
    "# normaliser + filtered + only significant p values "
   ]
  },
  {
   "cell_type": "code",
   "execution_count": 646,
   "id": "94618cd9",
   "metadata": {},
   "outputs": [
    {
     "name": "stdout",
     "output_type": "stream",
     "text": [
      "Mean squared error: 0.005598975213701914\n"
     ]
    }
   ],
   "source": [
    "# Select the columns to use as the independent variables\n",
    "X = df2[p_val_sign].drop('flow', axis=1)\n",
    "\n",
    "# Select the column to use as the dependent variable\n",
    "y = df2[p_val_sign]['flow']\n",
    "\n",
    "# Split the data into training and test sets\n",
    "X_train, X_test, y_train, y_test = train_test_split(X, y, test_size=0.2)\n",
    "\n",
    "# Create a LinearRegression model\n",
    "model_norm = LinearRegression()\n",
    "\n",
    "# Fit the model to the training data\n",
    "model_norm.fit(X_train, y_train)\n",
    "\n",
    "# Use the model to make predictions on the test data\n",
    "predictions = model_norm.predict(X_test)\n",
    "\n",
    "# Calculate the mean squared error\n",
    "mse = mean_squared_error(y_test, predictions)\n",
    "\n",
    "print(f'Mean squared error: {mse}')"
   ]
  },
  {
   "cell_type": "code",
   "execution_count": null,
   "id": "ccc6061f",
   "metadata": {},
   "outputs": [],
   "source": []
  }
 ],
 "metadata": {
  "kernelspec": {
   "display_name": "Python 3 (ipykernel)",
   "language": "python",
   "name": "python3"
  },
  "language_info": {
   "codemirror_mode": {
    "name": "ipython",
    "version": 3
   },
   "file_extension": ".py",
   "mimetype": "text/x-python",
   "name": "python",
   "nbconvert_exporter": "python",
   "pygments_lexer": "ipython3",
   "version": "3.9.7"
  }
 },
 "nbformat": 4,
 "nbformat_minor": 5
}

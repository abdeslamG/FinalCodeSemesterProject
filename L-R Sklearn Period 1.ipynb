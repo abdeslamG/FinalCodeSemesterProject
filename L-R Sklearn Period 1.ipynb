{
 "cells": [
  {
   "cell_type": "markdown",
   "id": "5ee6fc71",
   "metadata": {},
   "source": [
    "# Import"
   ]
  },
  {
   "cell_type": "code",
   "execution_count": 67,
   "id": "cbfee6ff",
   "metadata": {},
   "outputs": [],
   "source": [
    "import numpy as np\n",
    "import pandas as pd \n",
    "import matplotlib as plt"
   ]
  },
  {
   "cell_type": "code",
   "execution_count": 68,
   "id": "2f629dc1",
   "metadata": {},
   "outputs": [],
   "source": [
    "from sklearn import datasets, linear_model\n",
    "from sklearn.metrics import mean_squared_error, r2_score\n",
    "from sklearn.model_selection import train_test_split\n",
    "\n",
    "from sklearn.linear_model import LinearRegression"
   ]
  },
  {
   "cell_type": "code",
   "execution_count": 71,
   "id": "809b811e",
   "metadata": {},
   "outputs": [],
   "source": [
    "df = pd.read_csv('Data/results_with_users_V2.csv')"
   ]
  },
  {
   "cell_type": "code",
   "execution_count": 72,
   "id": "c891c49c",
   "metadata": {},
   "outputs": [],
   "source": [
    "columns = ['flow', 'selfEntropyT', 'selfEntropyS','author_followers_source', 'author_tweets_source',\n",
    "       'author_following_source', 'author_listed_source', 'FF_Ratio_source',\n",
    "       'FF_ratio2_source', 'TweetsNb_source_users', 'author_followers_target',\n",
    "       'author_tweets_target', 'author_following_target',\n",
    "       'author_listed_target', 'FF_Ratio_target', 'FF_ratio2_target',\n",
    "       'TweetsNb_source_target']"
   ]
  },
  {
   "cell_type": "code",
   "execution_count": 74,
   "id": "9d3dbd68",
   "metadata": {},
   "outputs": [
    {
     "data": {
      "text/plain": [
       "64262"
      ]
     },
     "execution_count": 74,
     "metadata": {},
     "output_type": "execute_result"
    }
   ],
   "source": [
    "len(df)"
   ]
  },
  {
   "cell_type": "code",
   "execution_count": 75,
   "id": "7afa1adb",
   "metadata": {},
   "outputs": [],
   "source": [
    "df_filtered = df"
   ]
  },
  {
   "cell_type": "code",
   "execution_count": 76,
   "id": "38bad405",
   "metadata": {},
   "outputs": [],
   "source": [
    "lst = [1385205739640131584,1234489772183343104,408382525,230190058,1143396858208800768,3240197969,\n",
    "       188251389,904540565307617280,988869330,125922216,1382981076251971584,965548724247191552,1408890653887586306,\n",
    "      1347927540988571649,1373262453161799686,781471603662196736,1455248470776877064,1355566985845694468,\n",
    "      1057622011395084289,1262806249164255232,410377944,28803148,1436903038069903364,1410288349076721675,\n",
    "      1413540569444356101,1405131947790290947,4727914933,1247885277374251009,1192824698024927233,\n",
    "      38448943,1299632796844077057,1112983458433781761,2892043241,1174914666587250688,986040298462728193,38152701]"
   ]
  },
  {
   "cell_type": "code",
   "execution_count": 77,
   "id": "9cb7ec46",
   "metadata": {},
   "outputs": [
    {
     "data": {
      "text/plain": [
       "36"
      ]
     },
     "execution_count": 77,
     "metadata": {},
     "output_type": "execute_result"
    }
   ],
   "source": [
    "len(lst)"
   ]
  },
  {
   "cell_type": "code",
   "execution_count": 78,
   "id": "eb24b0a5",
   "metadata": {},
   "outputs": [],
   "source": [
    "df_filtered = df_filtered[~df_filtered['target'].isin(lst)]"
   ]
  },
  {
   "cell_type": "code",
   "execution_count": 79,
   "id": "c4df6934",
   "metadata": {},
   "outputs": [],
   "source": [
    "df_filtered = df_filtered[~df_filtered['source'].isin(lst)]"
   ]
  },
  {
   "cell_type": "code",
   "execution_count": 80,
   "id": "56da1162",
   "metadata": {},
   "outputs": [
    {
     "data": {
      "text/plain": [
       "48620"
      ]
     },
     "execution_count": 80,
     "metadata": {},
     "output_type": "execute_result"
    }
   ],
   "source": [
    "len(df_filtered)"
   ]
  },
  {
   "cell_type": "code",
   "execution_count": 81,
   "id": "3078e1af",
   "metadata": {},
   "outputs": [
    {
     "data": {
      "text/plain": [
       "Index(['Unnamed: 0', 'source', 'target', 'flow', 'entropyStoT', 'entropyTtoS',\n",
       "       'selfEntropyT', 'selfEntropyS', 'Key', 'username_source',\n",
       "       'author_followers_source', 'author_tweets_source',\n",
       "       'author_following_source', 'author_listed_source',\n",
       "       'author_description_source', 'author_location_source',\n",
       "       'author_private_source', 'author_verified_source',\n",
       "       'author_account_creation_source', 'Year_creation_source',\n",
       "       'FF_ratio2_source', 'FF_Ratio_source', 'TweetsNb_source_users',\n",
       "       'username_target', 'author_followers_target', 'author_tweets_target',\n",
       "       'author_following_target', 'author_listed_target',\n",
       "       'author_description_target', 'author_location_target',\n",
       "       'author_private_target', 'author_verified_target',\n",
       "       'author_account_creation_target', 'Year_creation_target',\n",
       "       'FF_ratio2_target', 'FF_Ratio_target', 'TweetsNb_source_target'],\n",
       "      dtype='object')"
      ]
     },
     "execution_count": 81,
     "metadata": {},
     "output_type": "execute_result"
    }
   ],
   "source": [
    "df_filtered.columns"
   ]
  },
  {
   "cell_type": "code",
   "execution_count": 145,
   "id": "a710b49e",
   "metadata": {},
   "outputs": [
    {
     "data": {
      "text/html": [
       "<div>\n",
       "<style scoped>\n",
       "    .dataframe tbody tr th:only-of-type {\n",
       "        vertical-align: middle;\n",
       "    }\n",
       "\n",
       "    .dataframe tbody tr th {\n",
       "        vertical-align: top;\n",
       "    }\n",
       "\n",
       "    .dataframe thead th {\n",
       "        text-align: right;\n",
       "    }\n",
       "</style>\n",
       "<table border=\"1\" class=\"dataframe\">\n",
       "  <thead>\n",
       "    <tr style=\"text-align: right;\">\n",
       "      <th></th>\n",
       "      <th>Unnamed: 0</th>\n",
       "      <th>source</th>\n",
       "      <th>target</th>\n",
       "      <th>flow</th>\n",
       "      <th>entropyStoT</th>\n",
       "      <th>entropyTtoS</th>\n",
       "      <th>selfEntropyT</th>\n",
       "      <th>selfEntropyS</th>\n",
       "      <th>Key</th>\n",
       "      <th>username_source</th>\n",
       "      <th>...</th>\n",
       "      <th>author_listed_target</th>\n",
       "      <th>author_description_target</th>\n",
       "      <th>author_location_target</th>\n",
       "      <th>author_private_target</th>\n",
       "      <th>author_verified_target</th>\n",
       "      <th>author_account_creation_target</th>\n",
       "      <th>Year_creation_target</th>\n",
       "      <th>FF_ratio2_target</th>\n",
       "      <th>FF_Ratio_target</th>\n",
       "      <th>TweetsNb_source_target</th>\n",
       "    </tr>\n",
       "  </thead>\n",
       "  <tbody>\n",
       "    <tr>\n",
       "      <th>38493</th>\n",
       "      <td>38493</td>\n",
       "      <td>1403008149020459013</td>\n",
       "      <td>832804308156420096</td>\n",
       "      <td>0.971519</td>\n",
       "      <td>5.129283</td>\n",
       "      <td>0.284509</td>\n",
       "      <td>4.986803</td>\n",
       "      <td>4.986803</td>\n",
       "      <td>832804308156420096 - 1403008149020459013</td>\n",
       "      <td>AglowStockNews</td>\n",
       "      <td>...</td>\n",
       "      <td>2</td>\n",
       "      <td>I'm a Play to Earn Games and Metaverse Researc...</td>\n",
       "      <td>New York, NY</td>\n",
       "      <td>False</td>\n",
       "      <td>False</td>\n",
       "      <td>2017-02-18 04:09:54+00:00</td>\n",
       "      <td>2017</td>\n",
       "      <td>0.38191</td>\n",
       "      <td>0.617886</td>\n",
       "      <td>3</td>\n",
       "    </tr>\n",
       "  </tbody>\n",
       "</table>\n",
       "<p>1 rows × 37 columns</p>\n",
       "</div>"
      ],
      "text/plain": [
       "       Unnamed: 0               source              target      flow  \\\n",
       "38493       38493  1403008149020459013  832804308156420096  0.971519   \n",
       "\n",
       "       entropyStoT  entropyTtoS  selfEntropyT  selfEntropyS  \\\n",
       "38493     5.129283     0.284509      4.986803      4.986803   \n",
       "\n",
       "                                            Key username_source  ...  \\\n",
       "38493  832804308156420096 - 1403008149020459013  AglowStockNews  ...   \n",
       "\n",
       "       author_listed_target  \\\n",
       "38493                     2   \n",
       "\n",
       "                               author_description_target  \\\n",
       "38493  I'm a Play to Earn Games and Metaverse Researc...   \n",
       "\n",
       "       author_location_target  author_private_target author_verified_target  \\\n",
       "38493            New York, NY                  False                  False   \n",
       "\n",
       "      author_account_creation_target  Year_creation_target  FF_ratio2_target  \\\n",
       "38493      2017-02-18 04:09:54+00:00                  2017           0.38191   \n",
       "\n",
       "      FF_Ratio_target  TweetsNb_source_target  \n",
       "38493        0.617886                       3  \n",
       "\n",
       "[1 rows x 37 columns]"
      ]
     },
     "execution_count": 145,
     "metadata": {},
     "output_type": "execute_result"
    }
   ],
   "source": [
    "df[(df['target']==832804308156420096) & (df['source']==1403008149020459013) ]"
   ]
  },
  {
   "cell_type": "code",
   "execution_count": 82,
   "id": "aec449a1",
   "metadata": {},
   "outputs": [],
   "source": [
    "# on est passé de 64262 à 48620"
   ]
  },
  {
   "cell_type": "code",
   "execution_count": 83,
   "id": "6f20d59e",
   "metadata": {},
   "outputs": [
    {
     "data": {
      "text/plain": [
       "64262"
      ]
     },
     "execution_count": 83,
     "metadata": {},
     "output_type": "execute_result"
    }
   ],
   "source": [
    "len(df)"
   ]
  },
  {
   "cell_type": "code",
   "execution_count": 84,
   "id": "8c192657",
   "metadata": {},
   "outputs": [
    {
     "data": {
      "text/plain": [
       "48620"
      ]
     },
     "execution_count": 84,
     "metadata": {},
     "output_type": "execute_result"
    }
   ],
   "source": [
    "len(df_filtered)"
   ]
  },
  {
   "cell_type": "code",
   "execution_count": 85,
   "id": "63883549",
   "metadata": {},
   "outputs": [
    {
     "data": {
      "text/plain": [
       "6.388094863304299"
      ]
     },
     "execution_count": 85,
     "metadata": {},
     "output_type": "execute_result"
    }
   ],
   "source": [
    "df.flow.quantile(0.95)"
   ]
  },
  {
   "cell_type": "code",
   "execution_count": 42,
   "id": "590def38",
   "metadata": {},
   "outputs": [
    {
     "data": {
      "text/html": [
       "<div>\n",
       "<style scoped>\n",
       "    .dataframe tbody tr th:only-of-type {\n",
       "        vertical-align: middle;\n",
       "    }\n",
       "\n",
       "    .dataframe tbody tr th {\n",
       "        vertical-align: top;\n",
       "    }\n",
       "\n",
       "    .dataframe thead th {\n",
       "        text-align: right;\n",
       "    }\n",
       "</style>\n",
       "<table border=\"1\" class=\"dataframe\">\n",
       "  <thead>\n",
       "    <tr style=\"text-align: right;\">\n",
       "      <th></th>\n",
       "      <th>Unnamed: 0</th>\n",
       "      <th>source</th>\n",
       "      <th>target</th>\n",
       "      <th>flow</th>\n",
       "      <th>entropyStoT</th>\n",
       "      <th>entropyTtoS</th>\n",
       "      <th>selfEntropyT</th>\n",
       "      <th>selfEntropyS</th>\n",
       "      <th>Key</th>\n",
       "      <th>username_source</th>\n",
       "      <th>...</th>\n",
       "      <th>author_listed_target</th>\n",
       "      <th>author_description_target</th>\n",
       "      <th>author_location_target</th>\n",
       "      <th>author_private_target</th>\n",
       "      <th>author_verified_target</th>\n",
       "      <th>author_account_creation_target</th>\n",
       "      <th>Year_creation_target</th>\n",
       "      <th>FF_ratio2_target</th>\n",
       "      <th>FF_Ratio_target</th>\n",
       "      <th>TweetsNb_source_target</th>\n",
       "    </tr>\n",
       "  </thead>\n",
       "  <tbody>\n",
       "    <tr>\n",
       "      <th>0</th>\n",
       "      <td>0</td>\n",
       "      <td>1252722861002813440</td>\n",
       "      <td>1278448045974261763</td>\n",
       "      <td>0.354528</td>\n",
       "      <td>5.018599</td>\n",
       "      <td>5.727837</td>\n",
       "      <td>5.258726</td>\n",
       "      <td>4.376186</td>\n",
       "      <td>1252722861002813440 - 1278448045974261763</td>\n",
       "      <td>SmartCryptoNew1</td>\n",
       "      <td>...</td>\n",
       "      <td>0</td>\n",
       "      <td>Crypto News / Opinions / Stories\\n🚀📈⚡\\n\\n#Cryp...</td>\n",
       "      <td>NaN</td>\n",
       "      <td>False</td>\n",
       "      <td>False</td>\n",
       "      <td>2020-07-01 21:59:12+00:00</td>\n",
       "      <td>2020</td>\n",
       "      <td>0.482353</td>\n",
       "      <td>0.931818</td>\n",
       "      <td>3</td>\n",
       "    </tr>\n",
       "    <tr>\n",
       "      <th>1</th>\n",
       "      <td>1</td>\n",
       "      <td>441047175</td>\n",
       "      <td>1278448045974261763</td>\n",
       "      <td>0.216983</td>\n",
       "      <td>6.162391</td>\n",
       "      <td>5.034185</td>\n",
       "      <td>5.258726</td>\n",
       "      <td>3.624782</td>\n",
       "      <td>441047175 - 1278448045974261763</td>\n",
       "      <td>crypt_planet</td>\n",
       "      <td>...</td>\n",
       "      <td>0</td>\n",
       "      <td>Crypto News / Opinions / Stories\\n🚀📈⚡\\n\\n#Cryp...</td>\n",
       "      <td>NaN</td>\n",
       "      <td>False</td>\n",
       "      <td>False</td>\n",
       "      <td>2020-07-01 21:59:12+00:00</td>\n",
       "      <td>2020</td>\n",
       "      <td>0.482353</td>\n",
       "      <td>0.931818</td>\n",
       "      <td>3</td>\n",
       "    </tr>\n",
       "    <tr>\n",
       "      <th>2</th>\n",
       "      <td>2</td>\n",
       "      <td>1409852115892199428</td>\n",
       "      <td>1278448045974261763</td>\n",
       "      <td>0.593484</td>\n",
       "      <td>5.636173</td>\n",
       "      <td>5.625478</td>\n",
       "      <td>5.258726</td>\n",
       "      <td>3.378140</td>\n",
       "      <td>1278448045974261763 - 1409852115892199428</td>\n",
       "      <td>HyperLede</td>\n",
       "      <td>...</td>\n",
       "      <td>0</td>\n",
       "      <td>Crypto News / Opinions / Stories\\n🚀📈⚡\\n\\n#Cryp...</td>\n",
       "      <td>NaN</td>\n",
       "      <td>False</td>\n",
       "      <td>False</td>\n",
       "      <td>2020-07-01 21:59:12+00:00</td>\n",
       "      <td>2020</td>\n",
       "      <td>0.482353</td>\n",
       "      <td>0.931818</td>\n",
       "      <td>3</td>\n",
       "    </tr>\n",
       "    <tr>\n",
       "      <th>3</th>\n",
       "      <td>3</td>\n",
       "      <td>928953443921813505</td>\n",
       "      <td>1278448045974261763</td>\n",
       "      <td>0.236568</td>\n",
       "      <td>4.464249</td>\n",
       "      <td>5.203877</td>\n",
       "      <td>5.258726</td>\n",
       "      <td>4.794035</td>\n",
       "      <td>928953443921813505 - 1278448045974261763</td>\n",
       "      <td>wealthmonks</td>\n",
       "      <td>...</td>\n",
       "      <td>0</td>\n",
       "      <td>Crypto News / Opinions / Stories\\n🚀📈⚡\\n\\n#Cryp...</td>\n",
       "      <td>NaN</td>\n",
       "      <td>False</td>\n",
       "      <td>False</td>\n",
       "      <td>2020-07-01 21:59:12+00:00</td>\n",
       "      <td>2020</td>\n",
       "      <td>0.482353</td>\n",
       "      <td>0.931818</td>\n",
       "      <td>3</td>\n",
       "    </tr>\n",
       "    <tr>\n",
       "      <th>4</th>\n",
       "      <td>4</td>\n",
       "      <td>997581688749379587</td>\n",
       "      <td>1278448045974261763</td>\n",
       "      <td>0.226585</td>\n",
       "      <td>4.797519</td>\n",
       "      <td>5.335420</td>\n",
       "      <td>5.258726</td>\n",
       "      <td>4.684788</td>\n",
       "      <td>997581688749379587 - 1278448045974261763</td>\n",
       "      <td>LosKruptos</td>\n",
       "      <td>...</td>\n",
       "      <td>0</td>\n",
       "      <td>Crypto News / Opinions / Stories\\n🚀📈⚡\\n\\n#Cryp...</td>\n",
       "      <td>NaN</td>\n",
       "      <td>False</td>\n",
       "      <td>False</td>\n",
       "      <td>2020-07-01 21:59:12+00:00</td>\n",
       "      <td>2020</td>\n",
       "      <td>0.482353</td>\n",
       "      <td>0.931818</td>\n",
       "      <td>3</td>\n",
       "    </tr>\n",
       "    <tr>\n",
       "      <th>...</th>\n",
       "      <td>...</td>\n",
       "      <td>...</td>\n",
       "      <td>...</td>\n",
       "      <td>...</td>\n",
       "      <td>...</td>\n",
       "      <td>...</td>\n",
       "      <td>...</td>\n",
       "      <td>...</td>\n",
       "      <td>...</td>\n",
       "      <td>...</td>\n",
       "      <td>...</td>\n",
       "      <td>...</td>\n",
       "      <td>...</td>\n",
       "      <td>...</td>\n",
       "      <td>...</td>\n",
       "      <td>...</td>\n",
       "      <td>...</td>\n",
       "      <td>...</td>\n",
       "      <td>...</td>\n",
       "      <td>...</td>\n",
       "      <td>...</td>\n",
       "    </tr>\n",
       "    <tr>\n",
       "      <th>64257</th>\n",
       "      <td>64257</td>\n",
       "      <td>1375539549460439040</td>\n",
       "      <td>1252722861002813440</td>\n",
       "      <td>-0.012234</td>\n",
       "      <td>4.987894</td>\n",
       "      <td>5.433272</td>\n",
       "      <td>4.376186</td>\n",
       "      <td>4.818667</td>\n",
       "      <td>1252722861002813440 - 1375539549460439040</td>\n",
       "      <td>tell_crypto</td>\n",
       "      <td>...</td>\n",
       "      <td>395</td>\n",
       "      <td>#SCN1 cover key news updates from quality #cry...</td>\n",
       "      <td>NaN</td>\n",
       "      <td>False</td>\n",
       "      <td>False</td>\n",
       "      <td>2020-04-21 22:16:41+00:00</td>\n",
       "      <td>2020</td>\n",
       "      <td>0.986138</td>\n",
       "      <td>71.137395</td>\n",
       "      <td>4</td>\n",
       "    </tr>\n",
       "    <tr>\n",
       "      <th>64258</th>\n",
       "      <td>64258</td>\n",
       "      <td>1347815153828569088</td>\n",
       "      <td>1252722861002813440</td>\n",
       "      <td>-0.233319</td>\n",
       "      <td>6.197666</td>\n",
       "      <td>5.911740</td>\n",
       "      <td>4.376186</td>\n",
       "      <td>4.997640</td>\n",
       "      <td>1252722861002813440 - 1347815153828569088</td>\n",
       "      <td>moni_talks_xyz</td>\n",
       "      <td>...</td>\n",
       "      <td>395</td>\n",
       "      <td>#SCN1 cover key news updates from quality #cry...</td>\n",
       "      <td>NaN</td>\n",
       "      <td>False</td>\n",
       "      <td>False</td>\n",
       "      <td>2020-04-21 22:16:41+00:00</td>\n",
       "      <td>2020</td>\n",
       "      <td>0.986138</td>\n",
       "      <td>71.137395</td>\n",
       "      <td>4</td>\n",
       "    </tr>\n",
       "    <tr>\n",
       "      <th>64259</th>\n",
       "      <td>64259</td>\n",
       "      <td>38448943</td>\n",
       "      <td>1252722861002813440</td>\n",
       "      <td>1.943950</td>\n",
       "      <td>8.406770</td>\n",
       "      <td>5.840360</td>\n",
       "      <td>4.376186</td>\n",
       "      <td>1.511098</td>\n",
       "      <td>38448943 - 1252722861002813440</td>\n",
       "      <td>Sil3ntVip3r</td>\n",
       "      <td>...</td>\n",
       "      <td>395</td>\n",
       "      <td>#SCN1 cover key news updates from quality #cry...</td>\n",
       "      <td>NaN</td>\n",
       "      <td>False</td>\n",
       "      <td>False</td>\n",
       "      <td>2020-04-21 22:16:41+00:00</td>\n",
       "      <td>2020</td>\n",
       "      <td>0.986138</td>\n",
       "      <td>71.137395</td>\n",
       "      <td>4</td>\n",
       "    </tr>\n",
       "    <tr>\n",
       "      <th>64260</th>\n",
       "      <td>64260</td>\n",
       "      <td>1347927540988571649</td>\n",
       "      <td>1252722861002813440</td>\n",
       "      <td>-0.140736</td>\n",
       "      <td>11.140437</td>\n",
       "      <td>5.046929</td>\n",
       "      <td>4.376186</td>\n",
       "      <td>2.098551</td>\n",
       "      <td>1252722861002813440 - 1347927540988571649</td>\n",
       "      <td>Bitcoin8News</td>\n",
       "      <td>...</td>\n",
       "      <td>395</td>\n",
       "      <td>#SCN1 cover key news updates from quality #cry...</td>\n",
       "      <td>NaN</td>\n",
       "      <td>False</td>\n",
       "      <td>False</td>\n",
       "      <td>2020-04-21 22:16:41+00:00</td>\n",
       "      <td>2020</td>\n",
       "      <td>0.986138</td>\n",
       "      <td>71.137395</td>\n",
       "      <td>4</td>\n",
       "    </tr>\n",
       "    <tr>\n",
       "      <th>64261</th>\n",
       "      <td>64261</td>\n",
       "      <td>1118348077109272577</td>\n",
       "      <td>1252722861002813440</td>\n",
       "      <td>-0.370056</td>\n",
       "      <td>7.868070</td>\n",
       "      <td>5.341182</td>\n",
       "      <td>4.376186</td>\n",
       "      <td>3.740659</td>\n",
       "      <td>1118348077109272577 - 1252722861002813440</td>\n",
       "      <td>rCryptoReddit</td>\n",
       "      <td>...</td>\n",
       "      <td>395</td>\n",
       "      <td>#SCN1 cover key news updates from quality #cry...</td>\n",
       "      <td>NaN</td>\n",
       "      <td>False</td>\n",
       "      <td>False</td>\n",
       "      <td>2020-04-21 22:16:41+00:00</td>\n",
       "      <td>2020</td>\n",
       "      <td>0.986138</td>\n",
       "      <td>71.137395</td>\n",
       "      <td>4</td>\n",
       "    </tr>\n",
       "  </tbody>\n",
       "</table>\n",
       "<p>61048 rows × 37 columns</p>\n",
       "</div>"
      ],
      "text/plain": [
       "       Unnamed: 0               source               target      flow  \\\n",
       "0               0  1252722861002813440  1278448045974261763  0.354528   \n",
       "1               1            441047175  1278448045974261763  0.216983   \n",
       "2               2  1409852115892199428  1278448045974261763  0.593484   \n",
       "3               3   928953443921813505  1278448045974261763  0.236568   \n",
       "4               4   997581688749379587  1278448045974261763  0.226585   \n",
       "...           ...                  ...                  ...       ...   \n",
       "64257       64257  1375539549460439040  1252722861002813440 -0.012234   \n",
       "64258       64258  1347815153828569088  1252722861002813440 -0.233319   \n",
       "64259       64259             38448943  1252722861002813440  1.943950   \n",
       "64260       64260  1347927540988571649  1252722861002813440 -0.140736   \n",
       "64261       64261  1118348077109272577  1252722861002813440 -0.370056   \n",
       "\n",
       "       entropyStoT  entropyTtoS  selfEntropyT  selfEntropyS  \\\n",
       "0         5.018599     5.727837      5.258726      4.376186   \n",
       "1         6.162391     5.034185      5.258726      3.624782   \n",
       "2         5.636173     5.625478      5.258726      3.378140   \n",
       "3         4.464249     5.203877      5.258726      4.794035   \n",
       "4         4.797519     5.335420      5.258726      4.684788   \n",
       "...            ...          ...           ...           ...   \n",
       "64257     4.987894     5.433272      4.376186      4.818667   \n",
       "64258     6.197666     5.911740      4.376186      4.997640   \n",
       "64259     8.406770     5.840360      4.376186      1.511098   \n",
       "64260    11.140437     5.046929      4.376186      2.098551   \n",
       "64261     7.868070     5.341182      4.376186      3.740659   \n",
       "\n",
       "                                             Key  username_source  ...  \\\n",
       "0      1252722861002813440 - 1278448045974261763  SmartCryptoNew1  ...   \n",
       "1                441047175 - 1278448045974261763     crypt_planet  ...   \n",
       "2      1278448045974261763 - 1409852115892199428        HyperLede  ...   \n",
       "3       928953443921813505 - 1278448045974261763      wealthmonks  ...   \n",
       "4       997581688749379587 - 1278448045974261763       LosKruptos  ...   \n",
       "...                                          ...              ...  ...   \n",
       "64257  1252722861002813440 - 1375539549460439040      tell_crypto  ...   \n",
       "64258  1252722861002813440 - 1347815153828569088   moni_talks_xyz  ...   \n",
       "64259             38448943 - 1252722861002813440      Sil3ntVip3r  ...   \n",
       "64260  1252722861002813440 - 1347927540988571649     Bitcoin8News  ...   \n",
       "64261  1118348077109272577 - 1252722861002813440    rCryptoReddit  ...   \n",
       "\n",
       "       author_listed_target  \\\n",
       "0                         0   \n",
       "1                         0   \n",
       "2                         0   \n",
       "3                         0   \n",
       "4                         0   \n",
       "...                     ...   \n",
       "64257                   395   \n",
       "64258                   395   \n",
       "64259                   395   \n",
       "64260                   395   \n",
       "64261                   395   \n",
       "\n",
       "                               author_description_target  \\\n",
       "0      Crypto News / Opinions / Stories\\n🚀📈⚡\\n\\n#Cryp...   \n",
       "1      Crypto News / Opinions / Stories\\n🚀📈⚡\\n\\n#Cryp...   \n",
       "2      Crypto News / Opinions / Stories\\n🚀📈⚡\\n\\n#Cryp...   \n",
       "3      Crypto News / Opinions / Stories\\n🚀📈⚡\\n\\n#Cryp...   \n",
       "4      Crypto News / Opinions / Stories\\n🚀📈⚡\\n\\n#Cryp...   \n",
       "...                                                  ...   \n",
       "64257  #SCN1 cover key news updates from quality #cry...   \n",
       "64258  #SCN1 cover key news updates from quality #cry...   \n",
       "64259  #SCN1 cover key news updates from quality #cry...   \n",
       "64260  #SCN1 cover key news updates from quality #cry...   \n",
       "64261  #SCN1 cover key news updates from quality #cry...   \n",
       "\n",
       "       author_location_target  author_private_target author_verified_target  \\\n",
       "0                         NaN                  False                  False   \n",
       "1                         NaN                  False                  False   \n",
       "2                         NaN                  False                  False   \n",
       "3                         NaN                  False                  False   \n",
       "4                         NaN                  False                  False   \n",
       "...                       ...                    ...                    ...   \n",
       "64257                     NaN                  False                  False   \n",
       "64258                     NaN                  False                  False   \n",
       "64259                     NaN                  False                  False   \n",
       "64260                     NaN                  False                  False   \n",
       "64261                     NaN                  False                  False   \n",
       "\n",
       "      author_account_creation_target  Year_creation_target  FF_ratio2_target  \\\n",
       "0          2020-07-01 21:59:12+00:00                  2020          0.482353   \n",
       "1          2020-07-01 21:59:12+00:00                  2020          0.482353   \n",
       "2          2020-07-01 21:59:12+00:00                  2020          0.482353   \n",
       "3          2020-07-01 21:59:12+00:00                  2020          0.482353   \n",
       "4          2020-07-01 21:59:12+00:00                  2020          0.482353   \n",
       "...                              ...                   ...               ...   \n",
       "64257      2020-04-21 22:16:41+00:00                  2020          0.986138   \n",
       "64258      2020-04-21 22:16:41+00:00                  2020          0.986138   \n",
       "64259      2020-04-21 22:16:41+00:00                  2020          0.986138   \n",
       "64260      2020-04-21 22:16:41+00:00                  2020          0.986138   \n",
       "64261      2020-04-21 22:16:41+00:00                  2020          0.986138   \n",
       "\n",
       "      FF_Ratio_target  TweetsNb_source_target  \n",
       "0            0.931818                       3  \n",
       "1            0.931818                       3  \n",
       "2            0.931818                       3  \n",
       "3            0.931818                       3  \n",
       "4            0.931818                       3  \n",
       "...               ...                     ...  \n",
       "64257       71.137395                       4  \n",
       "64258       71.137395                       4  \n",
       "64259       71.137395                       4  \n",
       "64260       71.137395                       4  \n",
       "64261       71.137395                       4  \n",
       "\n",
       "[61048 rows x 37 columns]"
      ]
     },
     "execution_count": 42,
     "metadata": {},
     "output_type": "execute_result"
    }
   ],
   "source": [
    "df[df['flow']<6.388094863304299]"
   ]
  },
  {
   "cell_type": "code",
   "execution_count": 86,
   "id": "67ab2b7b",
   "metadata": {},
   "outputs": [],
   "source": [
    "# Visualizations"
   ]
  },
  {
   "cell_type": "code",
   "execution_count": 91,
   "id": "57b1e62b",
   "metadata": {},
   "outputs": [],
   "source": [
    "import seaborn as sns\n",
    "import matplotlib as plt"
   ]
  },
  {
   "cell_type": "code",
   "execution_count": null,
   "id": "c7f67659",
   "metadata": {},
   "outputs": [],
   "source": [
    "author_followers_source_range author_followers_target_range"
   ]
  },
  {
   "cell_type": "code",
   "execution_count": 180,
   "id": "425138d4",
   "metadata": {},
   "outputs": [],
   "source": [
    "mean_values = df_filtered.groupby([\"author_followers_source_range\", \"author_followers_target_range\"])[\"flow\"].mean().reset_index()"
   ]
  },
  {
   "cell_type": "code",
   "execution_count": 181,
   "id": "6e65f5cb",
   "metadata": {},
   "outputs": [],
   "source": [
    "mean_values = df_filtered.groupby([\"author_followers_source_range\", \"author_followers_target_range\"])[\"flow\"].mean().reset_index()"
   ]
  },
  {
   "cell_type": "code",
   "execution_count": 176,
   "id": "a92193fd",
   "metadata": {},
   "outputs": [
    {
     "data": {
      "text/html": [
       "<div>\n",
       "<style scoped>\n",
       "    .dataframe tbody tr th:only-of-type {\n",
       "        vertical-align: middle;\n",
       "    }\n",
       "\n",
       "    .dataframe tbody tr th {\n",
       "        vertical-align: top;\n",
       "    }\n",
       "\n",
       "    .dataframe thead th {\n",
       "        text-align: right;\n",
       "    }\n",
       "</style>\n",
       "<table border=\"1\" class=\"dataframe\">\n",
       "  <thead>\n",
       "    <tr style=\"text-align: right;\">\n",
       "      <th></th>\n",
       "      <th>Unnamed: 0</th>\n",
       "      <th>source</th>\n",
       "      <th>target</th>\n",
       "      <th>flow</th>\n",
       "      <th>entropyStoT</th>\n",
       "      <th>entropyTtoS</th>\n",
       "      <th>selfEntropyT</th>\n",
       "      <th>selfEntropyS</th>\n",
       "      <th>Key</th>\n",
       "      <th>username_source</th>\n",
       "      <th>...</th>\n",
       "      <th>author_location_target</th>\n",
       "      <th>author_private_target</th>\n",
       "      <th>author_verified_target</th>\n",
       "      <th>author_account_creation_target</th>\n",
       "      <th>Year_creation_target</th>\n",
       "      <th>FF_ratio2_target</th>\n",
       "      <th>FF_Ratio_target</th>\n",
       "      <th>TweetsNb_source_target</th>\n",
       "      <th>author_followers_source_range</th>\n",
       "      <th>author_followers_target_range</th>\n",
       "    </tr>\n",
       "  </thead>\n",
       "  <tbody>\n",
       "    <tr>\n",
       "      <th>0</th>\n",
       "      <td>0</td>\n",
       "      <td>1252722861002813440</td>\n",
       "      <td>1278448045974261763</td>\n",
       "      <td>-0.354528</td>\n",
       "      <td>5.018599</td>\n",
       "      <td>5.727837</td>\n",
       "      <td>5.258726</td>\n",
       "      <td>4.376186</td>\n",
       "      <td>1252722861002813440 - 1278448045974261763</td>\n",
       "      <td>SmartCryptoNew1</td>\n",
       "      <td>...</td>\n",
       "      <td>NaN</td>\n",
       "      <td>False</td>\n",
       "      <td>False</td>\n",
       "      <td>2020-07-01 21:59:12+00:00</td>\n",
       "      <td>2020</td>\n",
       "      <td>0.482353</td>\n",
       "      <td>0.931818</td>\n",
       "      <td>3</td>\n",
       "      <td>(10000.0, 100000.0]</td>\n",
       "      <td>(10, 100]</td>\n",
       "    </tr>\n",
       "    <tr>\n",
       "      <th>1</th>\n",
       "      <td>1</td>\n",
       "      <td>441047175</td>\n",
       "      <td>1278448045974261763</td>\n",
       "      <td>-0.216983</td>\n",
       "      <td>6.162391</td>\n",
       "      <td>5.034185</td>\n",
       "      <td>5.258726</td>\n",
       "      <td>3.624782</td>\n",
       "      <td>441047175 - 1278448045974261763</td>\n",
       "      <td>crypt_planet</td>\n",
       "      <td>...</td>\n",
       "      <td>NaN</td>\n",
       "      <td>False</td>\n",
       "      <td>False</td>\n",
       "      <td>2020-07-01 21:59:12+00:00</td>\n",
       "      <td>2020</td>\n",
       "      <td>0.482353</td>\n",
       "      <td>0.931818</td>\n",
       "      <td>3</td>\n",
       "      <td>(1000.0, 10000.0]</td>\n",
       "      <td>(10, 100]</td>\n",
       "    </tr>\n",
       "    <tr>\n",
       "      <th>2</th>\n",
       "      <td>2</td>\n",
       "      <td>1409852115892199428</td>\n",
       "      <td>1278448045974261763</td>\n",
       "      <td>-0.593484</td>\n",
       "      <td>5.636173</td>\n",
       "      <td>5.625478</td>\n",
       "      <td>5.258726</td>\n",
       "      <td>3.378140</td>\n",
       "      <td>1278448045974261763 - 1409852115892199428</td>\n",
       "      <td>HyperLede</td>\n",
       "      <td>...</td>\n",
       "      <td>NaN</td>\n",
       "      <td>False</td>\n",
       "      <td>False</td>\n",
       "      <td>2020-07-01 21:59:12+00:00</td>\n",
       "      <td>2020</td>\n",
       "      <td>0.482353</td>\n",
       "      <td>0.931818</td>\n",
       "      <td>3</td>\n",
       "      <td>(10.0, 100.0]</td>\n",
       "      <td>(10, 100]</td>\n",
       "    </tr>\n",
       "    <tr>\n",
       "      <th>3</th>\n",
       "      <td>3</td>\n",
       "      <td>928953443921813505</td>\n",
       "      <td>1278448045974261763</td>\n",
       "      <td>-0.236568</td>\n",
       "      <td>4.464249</td>\n",
       "      <td>5.203877</td>\n",
       "      <td>5.258726</td>\n",
       "      <td>4.794035</td>\n",
       "      <td>928953443921813505 - 1278448045974261763</td>\n",
       "      <td>wealthmonks</td>\n",
       "      <td>...</td>\n",
       "      <td>NaN</td>\n",
       "      <td>False</td>\n",
       "      <td>False</td>\n",
       "      <td>2020-07-01 21:59:12+00:00</td>\n",
       "      <td>2020</td>\n",
       "      <td>0.482353</td>\n",
       "      <td>0.931818</td>\n",
       "      <td>3</td>\n",
       "      <td>(100.0, 1000.0]</td>\n",
       "      <td>(10, 100]</td>\n",
       "    </tr>\n",
       "    <tr>\n",
       "      <th>4</th>\n",
       "      <td>4</td>\n",
       "      <td>997581688749379587</td>\n",
       "      <td>1278448045974261763</td>\n",
       "      <td>-0.226585</td>\n",
       "      <td>4.797519</td>\n",
       "      <td>5.335420</td>\n",
       "      <td>5.258726</td>\n",
       "      <td>4.684788</td>\n",
       "      <td>997581688749379587 - 1278448045974261763</td>\n",
       "      <td>LosKruptos</td>\n",
       "      <td>...</td>\n",
       "      <td>NaN</td>\n",
       "      <td>False</td>\n",
       "      <td>False</td>\n",
       "      <td>2020-07-01 21:59:12+00:00</td>\n",
       "      <td>2020</td>\n",
       "      <td>0.482353</td>\n",
       "      <td>0.931818</td>\n",
       "      <td>3</td>\n",
       "      <td>(100.0, 1000.0]</td>\n",
       "      <td>(10, 100]</td>\n",
       "    </tr>\n",
       "    <tr>\n",
       "      <th>...</th>\n",
       "      <td>...</td>\n",
       "      <td>...</td>\n",
       "      <td>...</td>\n",
       "      <td>...</td>\n",
       "      <td>...</td>\n",
       "      <td>...</td>\n",
       "      <td>...</td>\n",
       "      <td>...</td>\n",
       "      <td>...</td>\n",
       "      <td>...</td>\n",
       "      <td>...</td>\n",
       "      <td>...</td>\n",
       "      <td>...</td>\n",
       "      <td>...</td>\n",
       "      <td>...</td>\n",
       "      <td>...</td>\n",
       "      <td>...</td>\n",
       "      <td>...</td>\n",
       "      <td>...</td>\n",
       "      <td>...</td>\n",
       "      <td>...</td>\n",
       "    </tr>\n",
       "    <tr>\n",
       "      <th>64255</th>\n",
       "      <td>64255</td>\n",
       "      <td>1250830691824283648</td>\n",
       "      <td>1252722861002813440</td>\n",
       "      <td>0.499882</td>\n",
       "      <td>6.296803</td>\n",
       "      <td>5.113667</td>\n",
       "      <td>4.376186</td>\n",
       "      <td>5.445884</td>\n",
       "      <td>1250830691824283648 - 1252722861002813440</td>\n",
       "      <td>StockMKTNewz</td>\n",
       "      <td>...</td>\n",
       "      <td>NaN</td>\n",
       "      <td>False</td>\n",
       "      <td>False</td>\n",
       "      <td>2020-04-21 22:16:41+00:00</td>\n",
       "      <td>2020</td>\n",
       "      <td>0.986138</td>\n",
       "      <td>71.137395</td>\n",
       "      <td>4</td>\n",
       "      <td>NaN</td>\n",
       "      <td>(10000, 100000]</td>\n",
       "    </tr>\n",
       "    <tr>\n",
       "      <th>64256</th>\n",
       "      <td>64256</td>\n",
       "      <td>361362830</td>\n",
       "      <td>1252722861002813440</td>\n",
       "      <td>-1.430969</td>\n",
       "      <td>5.937568</td>\n",
       "      <td>6.209453</td>\n",
       "      <td>4.376186</td>\n",
       "      <td>2.227399</td>\n",
       "      <td>361362830 - 1252722861002813440</td>\n",
       "      <td>DomainAddress4u</td>\n",
       "      <td>...</td>\n",
       "      <td>NaN</td>\n",
       "      <td>False</td>\n",
       "      <td>False</td>\n",
       "      <td>2020-04-21 22:16:41+00:00</td>\n",
       "      <td>2020</td>\n",
       "      <td>0.986138</td>\n",
       "      <td>71.137395</td>\n",
       "      <td>4</td>\n",
       "      <td>(1000.0, 10000.0]</td>\n",
       "      <td>(10000, 100000]</td>\n",
       "    </tr>\n",
       "    <tr>\n",
       "      <th>64257</th>\n",
       "      <td>64257</td>\n",
       "      <td>1375539549460439040</td>\n",
       "      <td>1252722861002813440</td>\n",
       "      <td>0.012234</td>\n",
       "      <td>4.987894</td>\n",
       "      <td>5.433272</td>\n",
       "      <td>4.376186</td>\n",
       "      <td>4.818667</td>\n",
       "      <td>1252722861002813440 - 1375539549460439040</td>\n",
       "      <td>tell_crypto</td>\n",
       "      <td>...</td>\n",
       "      <td>NaN</td>\n",
       "      <td>False</td>\n",
       "      <td>False</td>\n",
       "      <td>2020-04-21 22:16:41+00:00</td>\n",
       "      <td>2020</td>\n",
       "      <td>0.986138</td>\n",
       "      <td>71.137395</td>\n",
       "      <td>4</td>\n",
       "      <td>(10.0, 100.0]</td>\n",
       "      <td>(10000, 100000]</td>\n",
       "    </tr>\n",
       "    <tr>\n",
       "      <th>64258</th>\n",
       "      <td>64258</td>\n",
       "      <td>1347815153828569088</td>\n",
       "      <td>1252722861002813440</td>\n",
       "      <td>0.233319</td>\n",
       "      <td>6.197666</td>\n",
       "      <td>5.911740</td>\n",
       "      <td>4.376186</td>\n",
       "      <td>4.997640</td>\n",
       "      <td>1252722861002813440 - 1347815153828569088</td>\n",
       "      <td>moni_talks_xyz</td>\n",
       "      <td>...</td>\n",
       "      <td>NaN</td>\n",
       "      <td>False</td>\n",
       "      <td>False</td>\n",
       "      <td>2020-04-21 22:16:41+00:00</td>\n",
       "      <td>2020</td>\n",
       "      <td>0.986138</td>\n",
       "      <td>71.137395</td>\n",
       "      <td>4</td>\n",
       "      <td>(1000.0, 10000.0]</td>\n",
       "      <td>(10000, 100000]</td>\n",
       "    </tr>\n",
       "    <tr>\n",
       "      <th>64261</th>\n",
       "      <td>64261</td>\n",
       "      <td>1118348077109272577</td>\n",
       "      <td>1252722861002813440</td>\n",
       "      <td>0.370056</td>\n",
       "      <td>7.868070</td>\n",
       "      <td>5.341182</td>\n",
       "      <td>4.376186</td>\n",
       "      <td>3.740659</td>\n",
       "      <td>1118348077109272577 - 1252722861002813440</td>\n",
       "      <td>rCryptoReddit</td>\n",
       "      <td>...</td>\n",
       "      <td>NaN</td>\n",
       "      <td>False</td>\n",
       "      <td>False</td>\n",
       "      <td>2020-04-21 22:16:41+00:00</td>\n",
       "      <td>2020</td>\n",
       "      <td>0.986138</td>\n",
       "      <td>71.137395</td>\n",
       "      <td>4</td>\n",
       "      <td>(100.0, 1000.0]</td>\n",
       "      <td>(10000, 100000]</td>\n",
       "    </tr>\n",
       "  </tbody>\n",
       "</table>\n",
       "<p>48620 rows × 39 columns</p>\n",
       "</div>"
      ],
      "text/plain": [
       "       Unnamed: 0               source               target      flow  \\\n",
       "0               0  1252722861002813440  1278448045974261763 -0.354528   \n",
       "1               1            441047175  1278448045974261763 -0.216983   \n",
       "2               2  1409852115892199428  1278448045974261763 -0.593484   \n",
       "3               3   928953443921813505  1278448045974261763 -0.236568   \n",
       "4               4   997581688749379587  1278448045974261763 -0.226585   \n",
       "...           ...                  ...                  ...       ...   \n",
       "64255       64255  1250830691824283648  1252722861002813440  0.499882   \n",
       "64256       64256            361362830  1252722861002813440 -1.430969   \n",
       "64257       64257  1375539549460439040  1252722861002813440  0.012234   \n",
       "64258       64258  1347815153828569088  1252722861002813440  0.233319   \n",
       "64261       64261  1118348077109272577  1252722861002813440  0.370056   \n",
       "\n",
       "       entropyStoT  entropyTtoS  selfEntropyT  selfEntropyS  \\\n",
       "0         5.018599     5.727837      5.258726      4.376186   \n",
       "1         6.162391     5.034185      5.258726      3.624782   \n",
       "2         5.636173     5.625478      5.258726      3.378140   \n",
       "3         4.464249     5.203877      5.258726      4.794035   \n",
       "4         4.797519     5.335420      5.258726      4.684788   \n",
       "...            ...          ...           ...           ...   \n",
       "64255     6.296803     5.113667      4.376186      5.445884   \n",
       "64256     5.937568     6.209453      4.376186      2.227399   \n",
       "64257     4.987894     5.433272      4.376186      4.818667   \n",
       "64258     6.197666     5.911740      4.376186      4.997640   \n",
       "64261     7.868070     5.341182      4.376186      3.740659   \n",
       "\n",
       "                                             Key  username_source  ...  \\\n",
       "0      1252722861002813440 - 1278448045974261763  SmartCryptoNew1  ...   \n",
       "1                441047175 - 1278448045974261763     crypt_planet  ...   \n",
       "2      1278448045974261763 - 1409852115892199428        HyperLede  ...   \n",
       "3       928953443921813505 - 1278448045974261763      wealthmonks  ...   \n",
       "4       997581688749379587 - 1278448045974261763       LosKruptos  ...   \n",
       "...                                          ...              ...  ...   \n",
       "64255  1250830691824283648 - 1252722861002813440     StockMKTNewz  ...   \n",
       "64256            361362830 - 1252722861002813440  DomainAddress4u  ...   \n",
       "64257  1252722861002813440 - 1375539549460439040      tell_crypto  ...   \n",
       "64258  1252722861002813440 - 1347815153828569088   moni_talks_xyz  ...   \n",
       "64261  1118348077109272577 - 1252722861002813440    rCryptoReddit  ...   \n",
       "\n",
       "       author_location_target  author_private_target  author_verified_target  \\\n",
       "0                         NaN                  False                   False   \n",
       "1                         NaN                  False                   False   \n",
       "2                         NaN                  False                   False   \n",
       "3                         NaN                  False                   False   \n",
       "4                         NaN                  False                   False   \n",
       "...                       ...                    ...                     ...   \n",
       "64255                     NaN                  False                   False   \n",
       "64256                     NaN                  False                   False   \n",
       "64257                     NaN                  False                   False   \n",
       "64258                     NaN                  False                   False   \n",
       "64261                     NaN                  False                   False   \n",
       "\n",
       "       author_account_creation_target Year_creation_target FF_ratio2_target  \\\n",
       "0           2020-07-01 21:59:12+00:00                 2020         0.482353   \n",
       "1           2020-07-01 21:59:12+00:00                 2020         0.482353   \n",
       "2           2020-07-01 21:59:12+00:00                 2020         0.482353   \n",
       "3           2020-07-01 21:59:12+00:00                 2020         0.482353   \n",
       "4           2020-07-01 21:59:12+00:00                 2020         0.482353   \n",
       "...                               ...                  ...              ...   \n",
       "64255       2020-04-21 22:16:41+00:00                 2020         0.986138   \n",
       "64256       2020-04-21 22:16:41+00:00                 2020         0.986138   \n",
       "64257       2020-04-21 22:16:41+00:00                 2020         0.986138   \n",
       "64258       2020-04-21 22:16:41+00:00                 2020         0.986138   \n",
       "64261       2020-04-21 22:16:41+00:00                 2020         0.986138   \n",
       "\n",
       "       FF_Ratio_target  TweetsNb_source_target author_followers_source_range  \\\n",
       "0             0.931818                       3           (10000.0, 100000.0]   \n",
       "1             0.931818                       3             (1000.0, 10000.0]   \n",
       "2             0.931818                       3                 (10.0, 100.0]   \n",
       "3             0.931818                       3               (100.0, 1000.0]   \n",
       "4             0.931818                       3               (100.0, 1000.0]   \n",
       "...                ...                     ...                           ...   \n",
       "64255        71.137395                       4                           NaN   \n",
       "64256        71.137395                       4             (1000.0, 10000.0]   \n",
       "64257        71.137395                       4                 (10.0, 100.0]   \n",
       "64258        71.137395                       4             (1000.0, 10000.0]   \n",
       "64261        71.137395                       4               (100.0, 1000.0]   \n",
       "\n",
       "       author_followers_target_range  \n",
       "0                          (10, 100]  \n",
       "1                          (10, 100]  \n",
       "2                          (10, 100]  \n",
       "3                          (10, 100]  \n",
       "4                          (10, 100]  \n",
       "...                              ...  \n",
       "64255                (10000, 100000]  \n",
       "64256                (10000, 100000]  \n",
       "64257                (10000, 100000]  \n",
       "64258                (10000, 100000]  \n",
       "64261                (10000, 100000]  \n",
       "\n",
       "[48620 rows x 39 columns]"
      ]
     },
     "execution_count": 176,
     "metadata": {},
     "output_type": "execute_result"
    }
   ],
   "source": [
    "# Define the bin edges\n",
    "bins = [1, 10, 100, 1000, 10000, 100000]\n",
    "\n",
    "# Use the cut function to create the categories for both columns\n",
    "df_filtered['author_followers_source_range'] = pd.cut(df_filtered['author_followers_source'], bins)\n",
    "df_filtered['author_followers_target_range'] = pd.cut(df_filtered['author_followers_target'], bins)\n",
    "\n",
    "# Display the updated DataFrame\n",
    "df_filtered"
   ]
  },
  {
   "cell_type": "code",
   "execution_count": 184,
   "id": "6cd71078",
   "metadata": {},
   "outputs": [
    {
     "data": {
      "text/html": [
       "<div>\n",
       "<style scoped>\n",
       "    .dataframe tbody tr th:only-of-type {\n",
       "        vertical-align: middle;\n",
       "    }\n",
       "\n",
       "    .dataframe tbody tr th {\n",
       "        vertical-align: top;\n",
       "    }\n",
       "\n",
       "    .dataframe thead th {\n",
       "        text-align: right;\n",
       "    }\n",
       "</style>\n",
       "<table border=\"1\" class=\"dataframe\">\n",
       "  <thead>\n",
       "    <tr style=\"text-align: right;\">\n",
       "      <th>author_followers_target_range</th>\n",
       "      <th>(1, 10]</th>\n",
       "      <th>(10, 100]</th>\n",
       "      <th>(100, 1000]</th>\n",
       "      <th>(1000, 10000]</th>\n",
       "      <th>(10000, 100000]</th>\n",
       "    </tr>\n",
       "    <tr>\n",
       "      <th>author_followers_source_range</th>\n",
       "      <th></th>\n",
       "      <th></th>\n",
       "      <th></th>\n",
       "      <th></th>\n",
       "      <th></th>\n",
       "    </tr>\n",
       "  </thead>\n",
       "  <tbody>\n",
       "    <tr>\n",
       "      <th>(1, 10]</th>\n",
       "      <td>0.000000</td>\n",
       "      <td>-8.125838e-01</td>\n",
       "      <td>-1.003778e+00</td>\n",
       "      <td>-8.775863e-01</td>\n",
       "      <td>-1.090014e+00</td>\n",
       "    </tr>\n",
       "    <tr>\n",
       "      <th>(10, 100]</th>\n",
       "      <td>0.812584</td>\n",
       "      <td>-3.007993e-18</td>\n",
       "      <td>-1.472564e-01</td>\n",
       "      <td>-4.413023e-02</td>\n",
       "      <td>-1.828847e-01</td>\n",
       "    </tr>\n",
       "    <tr>\n",
       "      <th>(100, 1000]</th>\n",
       "      <td>1.003778</td>\n",
       "      <td>1.472564e-01</td>\n",
       "      <td>9.194394e-19</td>\n",
       "      <td>1.151027e-01</td>\n",
       "      <td>-2.100113e-02</td>\n",
       "    </tr>\n",
       "    <tr>\n",
       "      <th>(1000, 10000]</th>\n",
       "      <td>0.877586</td>\n",
       "      <td>4.413023e-02</td>\n",
       "      <td>-1.151027e-01</td>\n",
       "      <td>-1.027984e-19</td>\n",
       "      <td>-1.491980e-01</td>\n",
       "    </tr>\n",
       "    <tr>\n",
       "      <th>(10000, 100000]</th>\n",
       "      <td>1.090014</td>\n",
       "      <td>1.828847e-01</td>\n",
       "      <td>2.100113e-02</td>\n",
       "      <td>1.491980e-01</td>\n",
       "      <td>9.489086e-19</td>\n",
       "    </tr>\n",
       "  </tbody>\n",
       "</table>\n",
       "</div>"
      ],
      "text/plain": [
       "author_followers_target_range   (1, 10]     (10, 100]   (100, 1000]  \\\n",
       "author_followers_source_range                                         \n",
       "(1, 10]                        0.000000 -8.125838e-01 -1.003778e+00   \n",
       "(10, 100]                      0.812584 -3.007993e-18 -1.472564e-01   \n",
       "(100, 1000]                    1.003778  1.472564e-01  9.194394e-19   \n",
       "(1000, 10000]                  0.877586  4.413023e-02 -1.151027e-01   \n",
       "(10000, 100000]                1.090014  1.828847e-01  2.100113e-02   \n",
       "\n",
       "author_followers_target_range  (1000, 10000]  (10000, 100000]  \n",
       "author_followers_source_range                                  \n",
       "(1, 10]                        -8.775863e-01    -1.090014e+00  \n",
       "(10, 100]                      -4.413023e-02    -1.828847e-01  \n",
       "(100, 1000]                     1.151027e-01    -2.100113e-02  \n",
       "(1000, 10000]                  -1.027984e-19    -1.491980e-01  \n",
       "(10000, 100000]                 1.491980e-01     9.489086e-19  "
      ]
     },
     "execution_count": 184,
     "metadata": {},
     "output_type": "execute_result"
    }
   ],
   "source": [
    "mean_values"
   ]
  },
  {
   "cell_type": "code",
   "execution_count": 183,
   "id": "f3273cfd",
   "metadata": {},
   "outputs": [],
   "source": [
    "mean_values = mean_values.pivot(index=\"author_followers_source_range\", columns=\"author_followers_target_range\", values=\"flow\")"
   ]
  },
  {
   "cell_type": "code",
   "execution_count": 186,
   "id": "17bb5028",
   "metadata": {},
   "outputs": [
    {
     "data": {
      "text/html": [
       "<div>\n",
       "<style scoped>\n",
       "    .dataframe tbody tr th:only-of-type {\n",
       "        vertical-align: middle;\n",
       "    }\n",
       "\n",
       "    .dataframe tbody tr th {\n",
       "        vertical-align: top;\n",
       "    }\n",
       "\n",
       "    .dataframe thead th {\n",
       "        text-align: right;\n",
       "    }\n",
       "</style>\n",
       "<table border=\"1\" class=\"dataframe\">\n",
       "  <thead>\n",
       "    <tr style=\"text-align: right;\">\n",
       "      <th>author_followers_target_range</th>\n",
       "      <th>(1, 10]</th>\n",
       "      <th>(10, 100]</th>\n",
       "      <th>(100, 1000]</th>\n",
       "      <th>(1000, 10000]</th>\n",
       "      <th>(10000, 100000]</th>\n",
       "    </tr>\n",
       "    <tr>\n",
       "      <th>author_followers_source_range</th>\n",
       "      <th></th>\n",
       "      <th></th>\n",
       "      <th></th>\n",
       "      <th></th>\n",
       "      <th></th>\n",
       "    </tr>\n",
       "  </thead>\n",
       "  <tbody>\n",
       "    <tr>\n",
       "      <th>(10000, 100000]</th>\n",
       "      <td>1.090014</td>\n",
       "      <td>0.182885</td>\n",
       "      <td>0.021001</td>\n",
       "      <td>0.149198</td>\n",
       "      <td>9.489086e-19</td>\n",
       "    </tr>\n",
       "  </tbody>\n",
       "</table>\n",
       "</div>"
      ],
      "text/plain": [
       "author_followers_target_range   (1, 10]  (10, 100]  (100, 1000]  \\\n",
       "author_followers_source_range                                     \n",
       "(10000, 100000]                1.090014   0.182885     0.021001   \n",
       "\n",
       "author_followers_target_range  (1000, 10000]  (10000, 100000]  \n",
       "author_followers_source_range                                  \n",
       "(10000, 100000]                     0.149198     9.489086e-19  "
      ]
     },
     "execution_count": 186,
     "metadata": {},
     "output_type": "execute_result"
    }
   ],
   "source": [
    "mean_values[mean_values>0].dropna()"
   ]
  },
  {
   "cell_type": "code",
   "execution_count": null,
   "id": "8443f8e7",
   "metadata": {},
   "outputs": [],
   "source": [
    "import seaborn as sns\n",
    "\n",
    "# Assume that \"data\" is a DataFrame with the values to be plotted\n",
    "\n",
    "# Create the heat map\n",
    "ax = sns.heatmap(data)\n",
    "\n",
    "# Set the x-axis and y-axis scales to logarithmic\n",
    "ax.set_xscale(\"log\")\n",
    "ax.set_yscale(\"log\")\n",
    "\n",
    "# Show plot\n",
    "plt.show()"
   ]
  },
  {
   "cell_type": "code",
   "execution_count": 187,
   "id": "7e8ec2c1",
   "metadata": {},
   "outputs": [
    {
     "data": {
      "image/png": "[encoded data removed]",
      "text/plain": [
       "<Figure size 432x288 with 2 Axes>"
      ]
     },
     "metadata": {
      "needs_background": "light"
     },
     "output_type": "display_data"
    }
   ],
   "source": [
    "ax = sns.heatmap(mean_values, cmap=\"YlGnBu\")\n",
    "\n",
    "plt.show()"
   ]
  },
  {
   "cell_type": "code",
   "execution_count": 93,
   "id": "279be4dd",
   "metadata": {},
   "outputs": [],
   "source": [
    "# only positive flow"
   ]
  },
  {
   "cell_type": "code",
   "execution_count": 189,
   "id": "9db6ce53",
   "metadata": {},
   "outputs": [],
   "source": [
    "mean_values_pos = df_filtered[df_filtered['flow']>0].groupby([\"author_followers_source_range\", \"author_followers_target_range\"])[\"flow\"].mean().reset_index()\n",
    "mean_values_pos = mean_values_pos.pivot(index=\"author_followers_source_range\", columns=\"author_followers_target_range\", values=\"flow\")"
   ]
  },
  {
   "cell_type": "code",
   "execution_count": 190,
   "id": "4e8e849a",
   "metadata": {},
   "outputs": [
    {
     "data": {
      "image/png": "[encoded data removed]",
      "text/plain": [
       "<Figure size 432x288 with 2 Axes>"
      ]
     },
     "metadata": {
      "needs_background": "light"
     },
     "output_type": "display_data"
    }
   ],
   "source": [
    "ax = sns.heatmap(mean_values_pos, cmap=\"YlGnBu\")\n",
    "#ax = sns.heatmap(mean_values, cmap=\"YlGnBu\")\n",
    "\n",
    "plt.show()"
   ]
  },
  {
   "cell_type": "code",
   "execution_count": 106,
   "id": "d06ed34c",
   "metadata": {},
   "outputs": [],
   "source": [
    "#neg flow"
   ]
  },
  {
   "cell_type": "code",
   "execution_count": 196,
   "id": "36fb265f",
   "metadata": {},
   "outputs": [
    {
     "data": {
      "text/html": [
       "<div>\n",
       "<style scoped>\n",
       "    .dataframe tbody tr th:only-of-type {\n",
       "        vertical-align: middle;\n",
       "    }\n",
       "\n",
       "    .dataframe tbody tr th {\n",
       "        vertical-align: top;\n",
       "    }\n",
       "\n",
       "    .dataframe thead th {\n",
       "        text-align: right;\n",
       "    }\n",
       "</style>\n",
       "<table border=\"1\" class=\"dataframe\">\n",
       "  <thead>\n",
       "    <tr style=\"text-align: right;\">\n",
       "      <th></th>\n",
       "      <th>Unnamed: 0</th>\n",
       "      <th>source</th>\n",
       "      <th>target</th>\n",
       "      <th>flow</th>\n",
       "      <th>entropyStoT</th>\n",
       "      <th>entropyTtoS</th>\n",
       "      <th>selfEntropyT</th>\n",
       "      <th>selfEntropyS</th>\n",
       "      <th>Key</th>\n",
       "      <th>username_source</th>\n",
       "      <th>...</th>\n",
       "      <th>author_listed_target</th>\n",
       "      <th>author_description_target</th>\n",
       "      <th>author_location_target</th>\n",
       "      <th>author_private_target</th>\n",
       "      <th>author_verified_target</th>\n",
       "      <th>author_account_creation_target</th>\n",
       "      <th>Year_creation_target</th>\n",
       "      <th>FF_ratio2_target</th>\n",
       "      <th>FF_Ratio_target</th>\n",
       "      <th>TweetsNb_source_target</th>\n",
       "    </tr>\n",
       "  </thead>\n",
       "  <tbody>\n",
       "    <tr>\n",
       "      <th>22</th>\n",
       "      <td>22</td>\n",
       "      <td>1451528837293088769</td>\n",
       "      <td>1278448045974261763</td>\n",
       "      <td>0.146512</td>\n",
       "      <td>5.582078</td>\n",
       "      <td>4.539866</td>\n",
       "      <td>5.258726</td>\n",
       "      <td>4.961728</td>\n",
       "      <td>1278448045974261763 - 1451528837293088769</td>\n",
       "      <td>InvestraSector</td>\n",
       "      <td>...</td>\n",
       "      <td>0</td>\n",
       "      <td>Crypto News / Opinions / Stories\\n🚀📈⚡\\n\\n#Cryp...</td>\n",
       "      <td>NaN</td>\n",
       "      <td>False</td>\n",
       "      <td>False</td>\n",
       "      <td>2020-07-01 21:59:12+00:00</td>\n",
       "      <td>2020</td>\n",
       "      <td>0.482353</td>\n",
       "      <td>0.931818</td>\n",
       "      <td>3</td>\n",
       "    </tr>\n",
       "    <tr>\n",
       "      <th>26</th>\n",
       "      <td>26</td>\n",
       "      <td>1027121072</td>\n",
       "      <td>1278448045974261763</td>\n",
       "      <td>0.162888</td>\n",
       "      <td>5.688506</td>\n",
       "      <td>5.203877</td>\n",
       "      <td>5.258726</td>\n",
       "      <td>5.663535</td>\n",
       "      <td>1027121072 - 1278448045974261763</td>\n",
       "      <td>StockMarketPete</td>\n",
       "      <td>...</td>\n",
       "      <td>0</td>\n",
       "      <td>Crypto News / Opinions / Stories\\n🚀📈⚡\\n\\n#Cryp...</td>\n",
       "      <td>NaN</td>\n",
       "      <td>False</td>\n",
       "      <td>False</td>\n",
       "      <td>2020-07-01 21:59:12+00:00</td>\n",
       "      <td>2020</td>\n",
       "      <td>0.482353</td>\n",
       "      <td>0.931818</td>\n",
       "      <td>3</td>\n",
       "    </tr>\n",
       "    <tr>\n",
       "      <th>28</th>\n",
       "      <td>28</td>\n",
       "      <td>1355424061027876867</td>\n",
       "      <td>1278448045974261763</td>\n",
       "      <td>0.006496</td>\n",
       "      <td>4.789327</td>\n",
       "      <td>4.729184</td>\n",
       "      <td>5.258726</td>\n",
       "      <td>5.229991</td>\n",
       "      <td>1278448045974261763 - 1355424061027876867</td>\n",
       "      <td>stockexamen</td>\n",
       "      <td>...</td>\n",
       "      <td>0</td>\n",
       "      <td>Crypto News / Opinions / Stories\\n🚀📈⚡\\n\\n#Cryp...</td>\n",
       "      <td>NaN</td>\n",
       "      <td>False</td>\n",
       "      <td>False</td>\n",
       "      <td>2020-07-01 21:59:12+00:00</td>\n",
       "      <td>2020</td>\n",
       "      <td>0.482353</td>\n",
       "      <td>0.931818</td>\n",
       "      <td>3</td>\n",
       "    </tr>\n",
       "    <tr>\n",
       "      <th>29</th>\n",
       "      <td>29</td>\n",
       "      <td>1390842784261853186</td>\n",
       "      <td>1278448045974261763</td>\n",
       "      <td>0.214529</td>\n",
       "      <td>6.331338</td>\n",
       "      <td>4.993406</td>\n",
       "      <td>5.258726</td>\n",
       "      <td>5.046704</td>\n",
       "      <td>1278448045974261763 - 1390842784261853186</td>\n",
       "      <td>TXMCtrades</td>\n",
       "      <td>...</td>\n",
       "      <td>0</td>\n",
       "      <td>Crypto News / Opinions / Stories\\n🚀📈⚡\\n\\n#Cryp...</td>\n",
       "      <td>NaN</td>\n",
       "      <td>False</td>\n",
       "      <td>False</td>\n",
       "      <td>2020-07-01 21:59:12+00:00</td>\n",
       "      <td>2020</td>\n",
       "      <td>0.482353</td>\n",
       "      <td>0.931818</td>\n",
       "      <td>3</td>\n",
       "    </tr>\n",
       "    <tr>\n",
       "      <th>31</th>\n",
       "      <td>31</td>\n",
       "      <td>1368983844137877509</td>\n",
       "      <td>1278448045974261763</td>\n",
       "      <td>0.077601</td>\n",
       "      <td>5.558653</td>\n",
       "      <td>5.640417</td>\n",
       "      <td>5.258726</td>\n",
       "      <td>5.758859</td>\n",
       "      <td>1278448045974261763 - 1368983844137877509</td>\n",
       "      <td>factiive</td>\n",
       "      <td>...</td>\n",
       "      <td>0</td>\n",
       "      <td>Crypto News / Opinions / Stories\\n🚀📈⚡\\n\\n#Cryp...</td>\n",
       "      <td>NaN</td>\n",
       "      <td>False</td>\n",
       "      <td>False</td>\n",
       "      <td>2020-07-01 21:59:12+00:00</td>\n",
       "      <td>2020</td>\n",
       "      <td>0.482353</td>\n",
       "      <td>0.931818</td>\n",
       "      <td>3</td>\n",
       "    </tr>\n",
       "    <tr>\n",
       "      <th>...</th>\n",
       "      <td>...</td>\n",
       "      <td>...</td>\n",
       "      <td>...</td>\n",
       "      <td>...</td>\n",
       "      <td>...</td>\n",
       "      <td>...</td>\n",
       "      <td>...</td>\n",
       "      <td>...</td>\n",
       "      <td>...</td>\n",
       "      <td>...</td>\n",
       "      <td>...</td>\n",
       "      <td>...</td>\n",
       "      <td>...</td>\n",
       "      <td>...</td>\n",
       "      <td>...</td>\n",
       "      <td>...</td>\n",
       "      <td>...</td>\n",
       "      <td>...</td>\n",
       "      <td>...</td>\n",
       "      <td>...</td>\n",
       "      <td>...</td>\n",
       "    </tr>\n",
       "    <tr>\n",
       "      <th>64255</th>\n",
       "      <td>64255</td>\n",
       "      <td>1250830691824283648</td>\n",
       "      <td>1252722861002813440</td>\n",
       "      <td>0.499882</td>\n",
       "      <td>6.296803</td>\n",
       "      <td>5.113667</td>\n",
       "      <td>4.376186</td>\n",
       "      <td>5.445884</td>\n",
       "      <td>1250830691824283648 - 1252722861002813440</td>\n",
       "      <td>StockMKTNewz</td>\n",
       "      <td>...</td>\n",
       "      <td>395</td>\n",
       "      <td>#SCN1 cover key news updates from quality #cry...</td>\n",
       "      <td>NaN</td>\n",
       "      <td>False</td>\n",
       "      <td>False</td>\n",
       "      <td>2020-04-21 22:16:41+00:00</td>\n",
       "      <td>2020</td>\n",
       "      <td>0.986138</td>\n",
       "      <td>71.137395</td>\n",
       "      <td>4</td>\n",
       "    </tr>\n",
       "    <tr>\n",
       "      <th>64257</th>\n",
       "      <td>64257</td>\n",
       "      <td>1375539549460439040</td>\n",
       "      <td>1252722861002813440</td>\n",
       "      <td>0.012234</td>\n",
       "      <td>4.987894</td>\n",
       "      <td>5.433272</td>\n",
       "      <td>4.376186</td>\n",
       "      <td>4.818667</td>\n",
       "      <td>1252722861002813440 - 1375539549460439040</td>\n",
       "      <td>tell_crypto</td>\n",
       "      <td>...</td>\n",
       "      <td>395</td>\n",
       "      <td>#SCN1 cover key news updates from quality #cry...</td>\n",
       "      <td>NaN</td>\n",
       "      <td>False</td>\n",
       "      <td>False</td>\n",
       "      <td>2020-04-21 22:16:41+00:00</td>\n",
       "      <td>2020</td>\n",
       "      <td>0.986138</td>\n",
       "      <td>71.137395</td>\n",
       "      <td>4</td>\n",
       "    </tr>\n",
       "    <tr>\n",
       "      <th>64258</th>\n",
       "      <td>64258</td>\n",
       "      <td>1347815153828569088</td>\n",
       "      <td>1252722861002813440</td>\n",
       "      <td>0.233319</td>\n",
       "      <td>6.197666</td>\n",
       "      <td>5.911740</td>\n",
       "      <td>4.376186</td>\n",
       "      <td>4.997640</td>\n",
       "      <td>1252722861002813440 - 1347815153828569088</td>\n",
       "      <td>moni_talks_xyz</td>\n",
       "      <td>...</td>\n",
       "      <td>395</td>\n",
       "      <td>#SCN1 cover key news updates from quality #cry...</td>\n",
       "      <td>NaN</td>\n",
       "      <td>False</td>\n",
       "      <td>False</td>\n",
       "      <td>2020-04-21 22:16:41+00:00</td>\n",
       "      <td>2020</td>\n",
       "      <td>0.986138</td>\n",
       "      <td>71.137395</td>\n",
       "      <td>4</td>\n",
       "    </tr>\n",
       "    <tr>\n",
       "      <th>64260</th>\n",
       "      <td>64260</td>\n",
       "      <td>1347927540988571649</td>\n",
       "      <td>1252722861002813440</td>\n",
       "      <td>0.140736</td>\n",
       "      <td>11.140437</td>\n",
       "      <td>5.046929</td>\n",
       "      <td>4.376186</td>\n",
       "      <td>2.098551</td>\n",
       "      <td>1252722861002813440 - 1347927540988571649</td>\n",
       "      <td>Bitcoin8News</td>\n",
       "      <td>...</td>\n",
       "      <td>395</td>\n",
       "      <td>#SCN1 cover key news updates from quality #cry...</td>\n",
       "      <td>NaN</td>\n",
       "      <td>False</td>\n",
       "      <td>False</td>\n",
       "      <td>2020-04-21 22:16:41+00:00</td>\n",
       "      <td>2020</td>\n",
       "      <td>0.986138</td>\n",
       "      <td>71.137395</td>\n",
       "      <td>4</td>\n",
       "    </tr>\n",
       "    <tr>\n",
       "      <th>64261</th>\n",
       "      <td>64261</td>\n",
       "      <td>1118348077109272577</td>\n",
       "      <td>1252722861002813440</td>\n",
       "      <td>0.370056</td>\n",
       "      <td>7.868070</td>\n",
       "      <td>5.341182</td>\n",
       "      <td>4.376186</td>\n",
       "      <td>3.740659</td>\n",
       "      <td>1118348077109272577 - 1252722861002813440</td>\n",
       "      <td>rCryptoReddit</td>\n",
       "      <td>...</td>\n",
       "      <td>395</td>\n",
       "      <td>#SCN1 cover key news updates from quality #cry...</td>\n",
       "      <td>NaN</td>\n",
       "      <td>False</td>\n",
       "      <td>False</td>\n",
       "      <td>2020-04-21 22:16:41+00:00</td>\n",
       "      <td>2020</td>\n",
       "      <td>0.986138</td>\n",
       "      <td>71.137395</td>\n",
       "      <td>4</td>\n",
       "    </tr>\n",
       "  </tbody>\n",
       "</table>\n",
       "<p>32131 rows × 37 columns</p>\n",
       "</div>"
      ],
      "text/plain": [
       "       Unnamed: 0               source               target      flow  \\\n",
       "22             22  1451528837293088769  1278448045974261763  0.146512   \n",
       "26             26           1027121072  1278448045974261763  0.162888   \n",
       "28             28  1355424061027876867  1278448045974261763  0.006496   \n",
       "29             29  1390842784261853186  1278448045974261763  0.214529   \n",
       "31             31  1368983844137877509  1278448045974261763  0.077601   \n",
       "...           ...                  ...                  ...       ...   \n",
       "64255       64255  1250830691824283648  1252722861002813440  0.499882   \n",
       "64257       64257  1375539549460439040  1252722861002813440  0.012234   \n",
       "64258       64258  1347815153828569088  1252722861002813440  0.233319   \n",
       "64260       64260  1347927540988571649  1252722861002813440  0.140736   \n",
       "64261       64261  1118348077109272577  1252722861002813440  0.370056   \n",
       "\n",
       "       entropyStoT  entropyTtoS  selfEntropyT  selfEntropyS  \\\n",
       "22        5.582078     4.539866      5.258726      4.961728   \n",
       "26        5.688506     5.203877      5.258726      5.663535   \n",
       "28        4.789327     4.729184      5.258726      5.229991   \n",
       "29        6.331338     4.993406      5.258726      5.046704   \n",
       "31        5.558653     5.640417      5.258726      5.758859   \n",
       "...            ...          ...           ...           ...   \n",
       "64255     6.296803     5.113667      4.376186      5.445884   \n",
       "64257     4.987894     5.433272      4.376186      4.818667   \n",
       "64258     6.197666     5.911740      4.376186      4.997640   \n",
       "64260    11.140437     5.046929      4.376186      2.098551   \n",
       "64261     7.868070     5.341182      4.376186      3.740659   \n",
       "\n",
       "                                             Key  username_source  ...  \\\n",
       "22     1278448045974261763 - 1451528837293088769   InvestraSector  ...   \n",
       "26              1027121072 - 1278448045974261763  StockMarketPete  ...   \n",
       "28     1278448045974261763 - 1355424061027876867      stockexamen  ...   \n",
       "29     1278448045974261763 - 1390842784261853186       TXMCtrades  ...   \n",
       "31     1278448045974261763 - 1368983844137877509         factiive  ...   \n",
       "...                                          ...              ...  ...   \n",
       "64255  1250830691824283648 - 1252722861002813440     StockMKTNewz  ...   \n",
       "64257  1252722861002813440 - 1375539549460439040      tell_crypto  ...   \n",
       "64258  1252722861002813440 - 1347815153828569088   moni_talks_xyz  ...   \n",
       "64260  1252722861002813440 - 1347927540988571649     Bitcoin8News  ...   \n",
       "64261  1118348077109272577 - 1252722861002813440    rCryptoReddit  ...   \n",
       "\n",
       "       author_listed_target  \\\n",
       "22                        0   \n",
       "26                        0   \n",
       "28                        0   \n",
       "29                        0   \n",
       "31                        0   \n",
       "...                     ...   \n",
       "64255                   395   \n",
       "64257                   395   \n",
       "64258                   395   \n",
       "64260                   395   \n",
       "64261                   395   \n",
       "\n",
       "                               author_description_target  \\\n",
       "22     Crypto News / Opinions / Stories\\n🚀📈⚡\\n\\n#Cryp...   \n",
       "26     Crypto News / Opinions / Stories\\n🚀📈⚡\\n\\n#Cryp...   \n",
       "28     Crypto News / Opinions / Stories\\n🚀📈⚡\\n\\n#Cryp...   \n",
       "29     Crypto News / Opinions / Stories\\n🚀📈⚡\\n\\n#Cryp...   \n",
       "31     Crypto News / Opinions / Stories\\n🚀📈⚡\\n\\n#Cryp...   \n",
       "...                                                  ...   \n",
       "64255  #SCN1 cover key news updates from quality #cry...   \n",
       "64257  #SCN1 cover key news updates from quality #cry...   \n",
       "64258  #SCN1 cover key news updates from quality #cry...   \n",
       "64260  #SCN1 cover key news updates from quality #cry...   \n",
       "64261  #SCN1 cover key news updates from quality #cry...   \n",
       "\n",
       "       author_location_target  author_private_target author_verified_target  \\\n",
       "22                        NaN                  False                  False   \n",
       "26                        NaN                  False                  False   \n",
       "28                        NaN                  False                  False   \n",
       "29                        NaN                  False                  False   \n",
       "31                        NaN                  False                  False   \n",
       "...                       ...                    ...                    ...   \n",
       "64255                     NaN                  False                  False   \n",
       "64257                     NaN                  False                  False   \n",
       "64258                     NaN                  False                  False   \n",
       "64260                     NaN                  False                  False   \n",
       "64261                     NaN                  False                  False   \n",
       "\n",
       "      author_account_creation_target  Year_creation_target  FF_ratio2_target  \\\n",
       "22         2020-07-01 21:59:12+00:00                  2020          0.482353   \n",
       "26         2020-07-01 21:59:12+00:00                  2020          0.482353   \n",
       "28         2020-07-01 21:59:12+00:00                  2020          0.482353   \n",
       "29         2020-07-01 21:59:12+00:00                  2020          0.482353   \n",
       "31         2020-07-01 21:59:12+00:00                  2020          0.482353   \n",
       "...                              ...                   ...               ...   \n",
       "64255      2020-04-21 22:16:41+00:00                  2020          0.986138   \n",
       "64257      2020-04-21 22:16:41+00:00                  2020          0.986138   \n",
       "64258      2020-04-21 22:16:41+00:00                  2020          0.986138   \n",
       "64260      2020-04-21 22:16:41+00:00                  2020          0.986138   \n",
       "64261      2020-04-21 22:16:41+00:00                  2020          0.986138   \n",
       "\n",
       "      FF_Ratio_target  TweetsNb_source_target  \n",
       "22           0.931818                       3  \n",
       "26           0.931818                       3  \n",
       "28           0.931818                       3  \n",
       "29           0.931818                       3  \n",
       "31           0.931818                       3  \n",
       "...               ...                     ...  \n",
       "64255       71.137395                       4  \n",
       "64257       71.137395                       4  \n",
       "64258       71.137395                       4  \n",
       "64260       71.137395                       4  \n",
       "64261       71.137395                       4  \n",
       "\n",
       "[32131 rows x 37 columns]"
      ]
     },
     "execution_count": 196,
     "metadata": {},
     "output_type": "execute_result"
    }
   ],
   "source": [
    "df[df['flow']>0]"
   ]
  },
  {
   "cell_type": "code",
   "execution_count": 193,
   "id": "12db899c",
   "metadata": {},
   "outputs": [],
   "source": [
    "mean_values_neg = df_filtered[df_filtered['flow']<0].groupby([\"author_followers_source_range\", \"author_followers_target_range\"])[\"flow\"].mean().reset_index()\n",
    "mean_values_neg = mean_values_neg.pivot(index=\"author_followers_source_range\", columns=\"author_followers_target_range\", values=\"flow\")"
   ]
  },
  {
   "cell_type": "code",
   "execution_count": 194,
   "id": "dab5c289",
   "metadata": {},
   "outputs": [
    {
     "data": {
      "text/plain": [
       "<AxesSubplot:xlabel='author_followers_target_range', ylabel='author_followers_source_range'>"
      ]
     },
     "execution_count": 194,
     "metadata": {},
     "output_type": "execute_result"
    },
    {
     "data": {
      "image/png": "[encoded data removed]",
      "text/plain": [
       "<Figure size 432x288 with 2 Axes>"
      ]
     },
     "metadata": {
      "needs_background": "light"
     },
     "output_type": "display_data"
    }
   ],
   "source": [
    "sns.heatmap(mean_values_neg, cmap=\"YlGnBu\")"
   ]
  },
  {
   "cell_type": "code",
   "execution_count": 110,
   "id": "0313cdb7",
   "metadata": {},
   "outputs": [],
   "source": [
    "# on filtered data only"
   ]
  },
  {
   "cell_type": "code",
   "execution_count": 111,
   "id": "c4bd5f97",
   "metadata": {},
   "outputs": [],
   "source": [
    "baseline_mse = [0.21497 , 0.11896351257353363]\n",
    "normalized_mse = [0.00556, 0.015646189236780718]\n",
    "standardized_mse = [0.23243, 0.11453934540841763]"
   ]
  },
  {
   "cell_type": "code",
   "execution_count": 112,
   "id": "beab5ced",
   "metadata": {},
   "outputs": [
    {
     "ename": "TypeError",
     "evalue": "can only concatenate str (not \"float\") to str",
     "output_type": "error",
     "traceback": [
      "\u001b[0;31m---------------------------------------------------------------------------\u001b[0m",
      "\u001b[0;31mTypeError\u001b[0m                                 Traceback (most recent call last)",
      "\u001b[0;32m/var/folders/9h/13pr4vr90tq8fry9k7v3mmxh0000gn/T/ipykernel_971/3083230286.py\u001b[0m in \u001b[0;36m<module>\u001b[0;34m\u001b[0m\n\u001b[1;32m     16\u001b[0m \u001b[0;31m# Plot the MSE values for each period and data set\u001b[0m\u001b[0;34m\u001b[0m\u001b[0;34m\u001b[0m\u001b[0m\n\u001b[1;32m     17\u001b[0m \u001b[0mplt\u001b[0m\u001b[0;34m.\u001b[0m\u001b[0mbar\u001b[0m\u001b[0;34m(\u001b[0m\u001b[0mx_labels\u001b[0m\u001b[0;34m,\u001b[0m \u001b[0mbaseline_mse\u001b[0m\u001b[0;34m,\u001b[0m \u001b[0mwidth\u001b[0m\u001b[0;34m=\u001b[0m\u001b[0mbar_width\u001b[0m\u001b[0;34m,\u001b[0m \u001b[0mlabel\u001b[0m\u001b[0;34m=\u001b[0m\u001b[0;34m\"Baseline\"\u001b[0m\u001b[0;34m)\u001b[0m\u001b[0;34m\u001b[0m\u001b[0;34m\u001b[0m\u001b[0m\n\u001b[0;32m---> 18\u001b[0;31m \u001b[0mplt\u001b[0m\u001b[0;34m.\u001b[0m\u001b[0mbar\u001b[0m\u001b[0;34m(\u001b[0m\u001b[0;34m[\u001b[0m\u001b[0mx\u001b[0m \u001b[0;34m+\u001b[0m \u001b[0mbar_width\u001b[0m \u001b[0;32mfor\u001b[0m \u001b[0mx\u001b[0m \u001b[0;32min\u001b[0m \u001b[0mx_labels\u001b[0m\u001b[0;34m]\u001b[0m\u001b[0;34m,\u001b[0m \u001b[0mnormalized_mse\u001b[0m\u001b[0;34m,\u001b[0m \u001b[0mwidth\u001b[0m\u001b[0;34m=\u001b[0m\u001b[0mbar_width\u001b[0m\u001b[0;34m,\u001b[0m \u001b[0mlabel\u001b[0m\u001b[0;34m=\u001b[0m\u001b[0;34m\"Normalized\"\u001b[0m\u001b[0;34m)\u001b[0m\u001b[0;34m\u001b[0m\u001b[0;34m\u001b[0m\u001b[0m\n\u001b[0m\u001b[1;32m     19\u001b[0m \u001b[0mplt\u001b[0m\u001b[0;34m.\u001b[0m\u001b[0mbar\u001b[0m\u001b[0;34m(\u001b[0m\u001b[0;34m[\u001b[0m\u001b[0mx\u001b[0m \u001b[0;34m+\u001b[0m \u001b[0;36m2\u001b[0m\u001b[0;34m*\u001b[0m\u001b[0mbar_width\u001b[0m \u001b[0;32mfor\u001b[0m \u001b[0mx\u001b[0m \u001b[0;32min\u001b[0m \u001b[0mx_labels\u001b[0m\u001b[0;34m]\u001b[0m\u001b[0;34m,\u001b[0m \u001b[0mstandardized_mse\u001b[0m\u001b[0;34m,\u001b[0m \u001b[0mwidth\u001b[0m\u001b[0;34m=\u001b[0m\u001b[0mbar_width\u001b[0m\u001b[0;34m,\u001b[0m \u001b[0mlabel\u001b[0m\u001b[0;34m=\u001b[0m\u001b[0;34m\"Standardized\"\u001b[0m\u001b[0;34m)\u001b[0m\u001b[0;34m\u001b[0m\u001b[0;34m\u001b[0m\u001b[0m\n\u001b[1;32m     20\u001b[0m \u001b[0;34m\u001b[0m\u001b[0m\n",
      "\u001b[0;32m/var/folders/9h/13pr4vr90tq8fry9k7v3mmxh0000gn/T/ipykernel_971/3083230286.py\u001b[0m in \u001b[0;36m<listcomp>\u001b[0;34m(.0)\u001b[0m\n\u001b[1;32m     16\u001b[0m \u001b[0;31m# Plot the MSE values for each period and data set\u001b[0m\u001b[0;34m\u001b[0m\u001b[0;34m\u001b[0m\u001b[0m\n\u001b[1;32m     17\u001b[0m \u001b[0mplt\u001b[0m\u001b[0;34m.\u001b[0m\u001b[0mbar\u001b[0m\u001b[0;34m(\u001b[0m\u001b[0mx_labels\u001b[0m\u001b[0;34m,\u001b[0m \u001b[0mbaseline_mse\u001b[0m\u001b[0;34m,\u001b[0m \u001b[0mwidth\u001b[0m\u001b[0;34m=\u001b[0m\u001b[0mbar_width\u001b[0m\u001b[0;34m,\u001b[0m \u001b[0mlabel\u001b[0m\u001b[0;34m=\u001b[0m\u001b[0;34m\"Baseline\"\u001b[0m\u001b[0;34m)\u001b[0m\u001b[0;34m\u001b[0m\u001b[0;34m\u001b[0m\u001b[0m\n\u001b[0;32m---> 18\u001b[0;31m \u001b[0mplt\u001b[0m\u001b[0;34m.\u001b[0m\u001b[0mbar\u001b[0m\u001b[0;34m(\u001b[0m\u001b[0;34m[\u001b[0m\u001b[0mx\u001b[0m \u001b[0;34m+\u001b[0m \u001b[0mbar_width\u001b[0m \u001b[0;32mfor\u001b[0m \u001b[0mx\u001b[0m \u001b[0;32min\u001b[0m \u001b[0mx_labels\u001b[0m\u001b[0;34m]\u001b[0m\u001b[0;34m,\u001b[0m \u001b[0mnormalized_mse\u001b[0m\u001b[0;34m,\u001b[0m \u001b[0mwidth\u001b[0m\u001b[0;34m=\u001b[0m\u001b[0mbar_width\u001b[0m\u001b[0;34m,\u001b[0m \u001b[0mlabel\u001b[0m\u001b[0;34m=\u001b[0m\u001b[0;34m\"Normalized\"\u001b[0m\u001b[0;34m)\u001b[0m\u001b[0;34m\u001b[0m\u001b[0;34m\u001b[0m\u001b[0m\n\u001b[0m\u001b[1;32m     19\u001b[0m \u001b[0mplt\u001b[0m\u001b[0;34m.\u001b[0m\u001b[0mbar\u001b[0m\u001b[0;34m(\u001b[0m\u001b[0;34m[\u001b[0m\u001b[0mx\u001b[0m \u001b[0;34m+\u001b[0m \u001b[0;36m2\u001b[0m\u001b[0;34m*\u001b[0m\u001b[0mbar_width\u001b[0m \u001b[0;32mfor\u001b[0m \u001b[0mx\u001b[0m \u001b[0;32min\u001b[0m \u001b[0mx_labels\u001b[0m\u001b[0;34m]\u001b[0m\u001b[0;34m,\u001b[0m \u001b[0mstandardized_mse\u001b[0m\u001b[0;34m,\u001b[0m \u001b[0mwidth\u001b[0m\u001b[0;34m=\u001b[0m\u001b[0mbar_width\u001b[0m\u001b[0;34m,\u001b[0m \u001b[0mlabel\u001b[0m\u001b[0;34m=\u001b[0m\u001b[0;34m\"Standardized\"\u001b[0m\u001b[0;34m)\u001b[0m\u001b[0;34m\u001b[0m\u001b[0;34m\u001b[0m\u001b[0m\n\u001b[1;32m     20\u001b[0m \u001b[0;34m\u001b[0m\u001b[0m\n",
      "\u001b[0;31mTypeError\u001b[0m: can only concatenate str (not \"float\") to str"
     ]
    },
    {
     "data": {
      "image/png": "[encoded data removed]",
      "text/plain": [
       "<Figure size 432x288 with 1 Axes>"
      ]
     },
     "metadata": {
      "needs_background": "light"
     },
     "output_type": "display_data"
    }
   ],
   "source": [
    "import matplotlib.pyplot as plt\n",
    "\n",
    "# Create three lists containing the MSE values for each period\n",
    "baseline_mse = [2.5, 3.0]\n",
    "normalized_mse = [1.5, 2.0]\n",
    "standardized_mse = [1.0, 1.5]\n",
    "\n",
    "# Set the x-axis labels and the bar width\n",
    "x_labels = [\"Period 1\", \"Period 2\"]\n",
    "bar_width = 0.2\n",
    "\n",
    "# Set the x-axis and y-axis labels\n",
    "plt.xlabel(\"Period\")\n",
    "plt.ylabel(\"MSE\")\n",
    "\n",
    "# Plot the MSE values for each period and data set\n",
    "plt.bar(x_labels, baseline_mse, width=bar_width, label=\"Baseline\")\n",
    "plt.bar([x + bar_width for x in x_labels], normalized_mse, width=bar_width, label=\"Normalized\")\n",
    "plt.bar([x + 2*bar_width for x in x_labels], standardized_mse, width=bar_width, label=\"Standardized\")\n",
    "\n",
    "# Add a legend to the chart\n",
    "plt.legend()\n",
    "\n",
    "# Show the chart\n",
    "plt.show()"
   ]
  },
  {
   "cell_type": "code",
   "execution_count": 19,
   "id": "1bb8f449",
   "metadata": {},
   "outputs": [
    {
     "data": {
      "image/png": "[encoded data removed]",
      "text/plain": [
       "<Figure size 504x288 with 1 Axes>"
      ]
     },
     "metadata": {
      "needs_background": "light"
     },
     "output_type": "display_data"
    }
   ],
   "source": [
    "import matplotlib.pyplot as plt\n",
    "\n",
    "# Create a list containing the MSE values for each period\n",
    "mse = [0.597 , 0.29,0.1, 0.1,0.597, 0.3]\n",
    "\n",
    "# Create a list of x-axis labels\n",
    "x_labels = [\"Baseline P1\", \"Baseline P2\",\"Norm P1\", \"Norm P2\",\"Std P1\", \"Std P2\"]\n",
    "\n",
    "plt.figure(figsize=(7, 4))\n",
    "\n",
    "# Set the x-axis and y-axis labels\n",
    "plt.xlabel(\"Period\")\n",
    "plt.ylabel(\"MSE\")\n",
    "\n",
    "# Plot the MSE values\n",
    "plt.bar(x_labels, mse,color=['b','b','r', 'r','g','g'])\n",
    "\n",
    "\n",
    "# Show the chart\n",
    "plt.show()"
   ]
  },
  {
   "cell_type": "code",
   "execution_count": 6,
   "id": "52bb84c8",
   "metadata": {},
   "outputs": [
    {
     "data": {
      "image/png": "[encoded data removed]",
      "text/plain": [
       "<Figure size 432x288 with 1 Axes>"
      ]
     },
     "metadata": {
      "needs_background": "light"
     },
     "output_type": "display_data"
    }
   ],
   "source": [
    "mse = [0.597 , 0.719,0.597, 0.719,0.597, 0.712]\n",
    "mse_unfiltered = [0.172 , 0.190,0.172, 0.206,0.215, 0.214]\n",
    "\n",
    "\n",
    "x_labels = [\"Baseline P1\", \"Baseline P2\",\"Norm P1\", \"Norm P2\",\"Std P1\", \"Std P2\"]\n",
    "\n",
    "# Set the x-axis and y-axis labels\n",
    "plt.xlabel(\"Period\")\n",
    "plt.ylabel(\"MSE\")\n",
    "plt.ylim(0, 1)\n",
    "\n",
    "# Plot the MSE values as a line plot\n",
    "plt.plot(x_labels, mse)\n",
    "\n",
    "# Add a legend\n",
    "plt.legend(['MSE'])\n",
    "\n",
    "# Show the chart\n",
    "plt.show()\n",
    "# Create separate lists for data of P1 and P2\n",
    "mse_p1 = [0.597, 0.597, 0.597]\n",
    "mse_p2 = [0.719, 0.719, 0.712]\n",
    "mse_nofilt_p1 = [0.172, 0.190, 0.172]\n",
    "mse_nofilt_p2 = [0.206, 0.215, 0.214]\n",
    "x_labels_p1 = [\"Baseline Filt P1\", \"Norm Filt P1\", \"Std Filt P1\"]\n",
    "x_labels_p2 = [\"Baseline Filt P2\", \"Norm Filt P2\", \"Std Filt P2\"]\n",
    "x_labels_nofilt_p1 = [\"Baseline P1\", \"Norm P1\", \"Std P1\"]\n",
    "x_labels_nofilt_p2 = [\"Baseline P2\", \"Norm P2\", \"Std P2\"]\n",
    "\n",
    "# Set the x-axis and y-axis labels\n",
    "plt.xlabel(\"Period\")\n",
    "plt.ylabel(\"MSE\")\n",
    "plt.ylim(0, 1)\n",
    "\n",
    "# Plot the MSE values for P1 as a blue line\n",
    "plt.plot(x_labels_p1, mse_p1, color='blue', linestyle='-', label='MSE Filt P1')\n",
    "\n",
    "# Plot the MSE values for P2 as a red line\n",
    "plt.plot(x_labels_p2, mse_p2, color='red', linestyle='-.', label='MSE Filt P2')\n",
    "\n",
    "# Plot the MSE values for P1 as a blue line\n",
    "plt.plot(x_labels_nofilt_p1, mse_p1, color='blue', linestyle='-', label='MSE P1')\n",
    "\n",
    "# Plot the MSE values for P2 as a red line\n",
    "plt.plot(x_labels_nofilt_p2, mse_p2, color='red', linestyle='-.', label='MSE P2')\n",
    "\n",
    "\n",
    "\n",
    "# Add a legend\n",
    "plt.legend()\n",
    "\n",
    "# Show the chart\n",
    "plt.show()"
   ]
  },
  {
   "cell_type": "code",
   "execution_count": 11,
   "id": "88c8aa54",
   "metadata": {},
   "outputs": [
    {
     "data": {
      "image/png": "[encoded data removed]",
      "text/plain": [
       "<Figure size 432x288 with 1 Axes>"
      ]
     },
     "metadata": {
      "needs_background": "light"
     },
     "output_type": "display_data"
    }
   ],
   "source": [
    "# Create separate lists for data of P1 and P2\n",
    "mse_p1 = [0.172, 0.190, 0.172, 0.597, 0.597, 0.597]\n",
    "mse_p2 = [0.206, 0.215, 0.214, 0.719, 0.719, 0.712]\n",
    "#mse_nofilt_p1 = [0.172, 0.190, 0.172]\n",
    "#mse_nofilt_p2 = [0.206, 0.215, 0.214]\n",
    "x_labels_p1 = [\"B P1\", \"N P1\", \"Std P1\",\"B F P1\", \"N F P1\", \"Std F P1\"]\n",
    "x_labels_p2 = [\"B P2\", \"N P2\", \"Std P2\",\"B F P2\", \"N F P2\", \"Std F P2\"]\n",
    "#x_labels_nofilt_p1 = [\"Baseline P1\", \"Norm P1\", \"Std P1\"]\n",
    "#x_labels_nofilt_p2 = [\"Baseline P2\", \"Norm P2\", \"Std P2\"]\n",
    "\n",
    "# Set the x-axis and y-axis labels\n",
    "plt.xlabel(\"Period\")\n",
    "plt.ylabel(\"MSE\")\n",
    "plt.ylim(0, 1)\n",
    "\n",
    "# Plot the MSE values for P1 as a blue line\n",
    "plt.plot(x_labels_p1, mse_p1, color='blue', linestyle='-', label='MSE  P1')\n",
    "\n",
    "# Plot the MSE values for P2 as a red line\n",
    "plt.plot(x_labels_p2, mse_p2, color='red', linestyle='-.', label='MSE  P2')\n",
    "\n",
    "# Plot the MSE values for P1 as a blue line\n",
    "#plt.plot(x_labels_nofilt_p1, mse_p1, color='green', linestyle='-', label='MSE P1')\n",
    "\n",
    "# Plot the MSE values for P2 as a red line\n",
    "#plt.plot(x_labels_nofilt_p2, mse_p2, color='black', linestyle='-.', label='MSE P2')\n",
    "\n",
    "# Add a legend\n",
    "plt.legend()\n",
    "\n",
    "# Show the chart\n",
    "plt.show()"
   ]
  },
  {
   "cell_type": "code",
   "execution_count": 12,
   "id": "39b5c4a8",
   "metadata": {},
   "outputs": [
    {
     "data": {
      "image/png": "[encoded data removed]",
      "text/plain": [
       "<Figure size 432x288 with 1 Axes>"
      ]
     },
     "metadata": {
      "needs_background": "light"
     },
     "output_type": "display_data"
    }
   ],
   "source": [
    "# Create separate lists for data of P1 and P2\n",
    "mse_p1 = [0.172, 0.190, 0.172, 0.597, 0.597, 0.597]\n",
    "mse_p2 = [0.206, 0.215, 0.214, 0.719, 0.719, 0.712]\n",
    "\n",
    "x_labels_p1 = [\"B P1\", \"N P1\", \"Std P1\",\"B F P1\", \"N F P1\", \"Std F P1\"]\n",
    "x_labels_p2 = [\"B P2\", \"N P2\", \"Std P2\",\"B F P2\", \"N F P2\", \"Std F P2\"]\n",
    "\n",
    "# Set the x-axis and y-axis labels\n",
    "plt.xlabel(\"Period\")\n",
    "plt.ylabel(\"MSE\")\n",
    "plt.ylim(0, 1)\n",
    "\n",
    "# Plot the MSE values for P1 as a blue line\n",
    "plt.plot(x_labels_p1, mse_p1, color='blue', linestyle='-', label='MSE  P1')\n",
    "\n",
    "# Plot the MSE values for P2 as a red line\n",
    "plt.plot(x_labels_p2, mse_p2, color='red', linestyle='-.', label='MSE  P2')\n",
    "\n",
    "# Add a legend\n",
    "plt.legend()\n",
    "\n",
    "# Show the chart\n",
    "plt.show()"
   ]
  },
  {
   "cell_type": "code",
   "execution_count": 18,
   "id": "a40e250b",
   "metadata": {},
   "outputs": [
    {
     "data": {
      "image/png": "[encoded data removed]",
      "text/plain": [
       "<Figure size 432x288 with 1 Axes>"
      ]
     },
     "metadata": {
      "needs_background": "light"
     },
     "output_type": "display_data"
    }
   ],
   "source": [
    "# Create separate lists for data of P1 and P2\n",
    "mse_p1 = [0.172, 0.190, 0.172, 0.597, 0.597, 0.597]\n",
    "mse_p2 = [0.206, 0.215, 0.214, 0.719, 0.719, 0.712]\n",
    "\n",
    "x_labels_p1 = [\"B\", \"N\", \"Std \",\"B F\", \"N F\", \"Std F\"]\n",
    "\n",
    "# Set the x-axis and y-axis labels\n",
    "plt.xlabel(\"Techniques\")\n",
    "plt.ylabel(\"R^2\")\n",
    "plt.ylim(0, 1)\n",
    "\n",
    "# Plot the MSE values for P1 and P2\n",
    "plt.plot(x_labels_p1, mse_p1, label = 'P1')\n",
    "plt.plot(x_labels_p1, mse_p2, label = 'P2')\n",
    "plt.legend()\n",
    "# Show the chart\n",
    "plt.show()"
   ]
  },
  {
   "cell_type": "code",
   "execution_count": 43,
   "id": "718dd830",
   "metadata": {},
   "outputs": [],
   "source": [
    "df1 = df[df['flow']>0]"
   ]
  },
  {
   "cell_type": "code",
   "execution_count": 44,
   "id": "bf88081e",
   "metadata": {},
   "outputs": [],
   "source": [
    "pd.options.mode.chained_assignment = None "
   ]
  },
  {
   "cell_type": "code",
   "execution_count": 45,
   "id": "7cfd48e6",
   "metadata": {},
   "outputs": [],
   "source": [
    "df2 = df_filtered[df_filtered['flow']>0]"
   ]
  },
  {
   "cell_type": "code",
   "execution_count": 46,
   "id": "cf5682be",
   "metadata": {},
   "outputs": [],
   "source": [
    "# plot without filtering"
   ]
  },
  {
   "cell_type": "code",
   "execution_count": 47,
   "id": "d5b70b7e",
   "metadata": {},
   "outputs": [
    {
     "data": {
      "text/plain": [
       "array([[<AxesSubplot:title={'center':'flow'}>,\n",
       "        <AxesSubplot:title={'center':'selfEntropyT'}>,\n",
       "        <AxesSubplot:title={'center':'selfEntropyS'}>,\n",
       "        <AxesSubplot:title={'center':'author_followers_source'}>],\n",
       "       [<AxesSubplot:title={'center':'author_tweets_source'}>,\n",
       "        <AxesSubplot:title={'center':'author_following_source'}>,\n",
       "        <AxesSubplot:title={'center':'author_listed_source'}>,\n",
       "        <AxesSubplot:title={'center':'FF_Ratio_source'}>],\n",
       "       [<AxesSubplot:title={'center':'FF_ratio2_source'}>,\n",
       "        <AxesSubplot:title={'center':'TweetsNb_source_users'}>,\n",
       "        <AxesSubplot:title={'center':'author_followers_target'}>,\n",
       "        <AxesSubplot:title={'center':'author_tweets_target'}>],\n",
       "       [<AxesSubplot:title={'center':'author_following_target'}>,\n",
       "        <AxesSubplot:title={'center':'author_listed_target'}>,\n",
       "        <AxesSubplot:title={'center':'FF_Ratio_target'}>,\n",
       "        <AxesSubplot:title={'center':'FF_ratio2_target'}>],\n",
       "       [<AxesSubplot:title={'center':'TweetsNb_source_target'}>,\n",
       "        <AxesSubplot:>, <AxesSubplot:>, <AxesSubplot:>]], dtype=object)"
      ]
     },
     "execution_count": 47,
     "metadata": {},
     "output_type": "execute_result"
    },
    {
     "data": {
      "image/png": "[encoded data removed]",
      "text/plain": [
       "<Figure size 1440x720 with 20 Axes>"
      ]
     },
     "metadata": {
      "needs_background": "light"
     },
     "output_type": "display_data"
    }
   ],
   "source": [
    "df[df['flow']>0][columns].hist(bins = 20, alpha = 0.5,figsize=(20,10))"
   ]
  },
  {
   "cell_type": "code",
   "execution_count": 48,
   "id": "e818e2f5",
   "metadata": {},
   "outputs": [],
   "source": [
    "# plot with filtering"
   ]
  },
  {
   "cell_type": "code",
   "execution_count": 49,
   "id": "dd98fde3",
   "metadata": {},
   "outputs": [
    {
     "data": {
      "text/plain": [
       "array([[<AxesSubplot:title={'center':'flow'}>,\n",
       "        <AxesSubplot:title={'center':'selfEntropyT'}>,\n",
       "        <AxesSubplot:title={'center':'selfEntropyS'}>,\n",
       "        <AxesSubplot:title={'center':'author_followers_source'}>],\n",
       "       [<AxesSubplot:title={'center':'author_tweets_source'}>,\n",
       "        <AxesSubplot:title={'center':'author_following_source'}>,\n",
       "        <AxesSubplot:title={'center':'author_listed_source'}>,\n",
       "        <AxesSubplot:title={'center':'FF_Ratio_source'}>],\n",
       "       [<AxesSubplot:title={'center':'FF_ratio2_source'}>,\n",
       "        <AxesSubplot:title={'center':'TweetsNb_source_users'}>,\n",
       "        <AxesSubplot:title={'center':'author_followers_target'}>,\n",
       "        <AxesSubplot:title={'center':'author_tweets_target'}>],\n",
       "       [<AxesSubplot:title={'center':'author_following_target'}>,\n",
       "        <AxesSubplot:title={'center':'author_listed_target'}>,\n",
       "        <AxesSubplot:title={'center':'FF_Ratio_target'}>,\n",
       "        <AxesSubplot:title={'center':'FF_ratio2_target'}>],\n",
       "       [<AxesSubplot:title={'center':'TweetsNb_source_target'}>,\n",
       "        <AxesSubplot:>, <AxesSubplot:>, <AxesSubplot:>]], dtype=object)"
      ]
     },
     "execution_count": 49,
     "metadata": {},
     "output_type": "execute_result"
    },
    {
     "data": {
      "image/png": "[encoded data removed]",
      "text/plain": [
       "<Figure size 1440x864 with 20 Axes>"
      ]
     },
     "metadata": {
      "needs_background": "light"
     },
     "output_type": "display_data"
    }
   ],
   "source": [
    "df_filtered[df_filtered['flow']>0][columns].hist(bins = 20, alpha = 0.5,figsize=(20,12))"
   ]
  },
  {
   "cell_type": "code",
   "execution_count": 50,
   "id": "1ca5e962",
   "metadata": {},
   "outputs": [],
   "source": [
    "col = ['selfEntropyS','flow']"
   ]
  },
  {
   "cell_type": "code",
   "execution_count": 51,
   "id": "69e7fe02",
   "metadata": {},
   "outputs": [
    {
     "data": {
      "text/plain": [
       "array([[<AxesSubplot:title={'center':'selfEntropyS'}>,\n",
       "        <AxesSubplot:title={'center':'flow'}>]], dtype=object)"
      ]
     },
     "execution_count": 51,
     "metadata": {},
     "output_type": "execute_result"
    },
    {
     "data": {
      "image/png": "[encoded data removed]",
      "text/plain": [
       "<Figure size 432x144 with 2 Axes>"
      ]
     },
     "metadata": {
      "needs_background": "light"
     },
     "output_type": "display_data"
    }
   ],
   "source": [
    "df_filtered[df_filtered['flow']>0][col].hist(bins = 20, alpha = 0.5,figsize=(6,2))"
   ]
  },
  {
   "cell_type": "markdown",
   "id": "9f3b01c8",
   "metadata": {},
   "source": [
    "# Calculate the MSE "
   ]
  },
  {
   "cell_type": "markdown",
   "id": "bb65f6e4",
   "metadata": {},
   "source": [
    "MSE Calculation with Train test and all the int columns "
   ]
  },
  {
   "cell_type": "code",
   "execution_count": 52,
   "id": "549201a2",
   "metadata": {},
   "outputs": [
    {
     "name": "stdout",
     "output_type": "stream",
     "text": [
      "Mean squared error: 103.56952794076282\n"
     ]
    }
   ],
   "source": [
    "from sklearn.linear_model import LinearRegression\n",
    "from sklearn.metrics import mean_squared_error\n",
    "from sklearn.model_selection import train_test_split\n",
    "\n",
    "# Select the columns to use as the independent variables\n",
    "X = df[df['flow']>0][columns].drop('flow', axis=1)\n",
    "\n",
    "# Select the column to use as the dependent variable\n",
    "y = df[df['flow']>0][columns]['flow']\n",
    "\n",
    "# Split the data into training and test sets\n",
    "X_train, X_test, y_train, y_test = train_test_split(X, y, test_size=0.2)\n",
    "\n",
    "# Create a LinearRegression model\n",
    "model = LinearRegression()\n",
    "\n",
    "# Fit the model to the training data\n",
    "model.fit(X_train, y_train)\n",
    "\n",
    "# Use the model to make predictions on the test data\n",
    "predictions = model.predict(X_test)\n",
    "\n",
    "# Calculate the mean squared error\n",
    "mse = mean_squared_error(y_test, predictions)\n",
    "\n",
    "print(f'Mean squared error: {mse}')\n"
   ]
  },
  {
   "cell_type": "code",
   "execution_count": 53,
   "id": "25712e0a",
   "metadata": {},
   "outputs": [
    {
     "name": "stdout",
     "output_type": "stream",
     "text": [
      "Mean squared error: 0.20831580582661766\n"
     ]
    }
   ],
   "source": [
    "from sklearn.linear_model import LinearRegression\n",
    "from sklearn.metrics import mean_squared_error\n",
    "from sklearn.model_selection import train_test_split\n",
    "\n",
    "# Select the columns to use as the independent variables\n",
    "X = df_filtered[df_filtered['flow']>0][columns].drop('flow', axis=1)\n",
    "\n",
    "# Select the column to use as the dependent variable\n",
    "y = df_filtered[df_filtered['flow']>0][columns]['flow']\n",
    "\n",
    "# Split the data into training and test sets\n",
    "X_train, X_test, y_train, y_test = train_test_split(X, y, test_size=0.2)\n",
    "\n",
    "# Create a LinearRegression model\n",
    "model = LinearRegression()\n",
    "\n",
    "# Fit the model to the training data\n",
    "model.fit(X_train, y_train)\n",
    "\n",
    "# Use the model to make predictions on the test data\n",
    "predictions = model.predict(X_test)\n",
    "\n",
    "# Calculate the mean squared error\n",
    "mse = mean_squared_error(y_test, predictions)\n",
    "\n",
    "print(f'Mean squared error: {mse}')\n",
    "\n"
   ]
  },
  {
   "cell_type": "code",
   "execution_count": 151,
   "id": "5758d945",
   "metadata": {},
   "outputs": [
    {
     "name": "stdout",
     "output_type": "stream",
     "text": [
      "                    feature   coefficient\n",
      "0              selfEntropyT -4.971159e-01\n",
      "1              selfEntropyS  4.971159e-01\n",
      "2   author_followers_source -3.905301e-07\n",
      "3      author_tweets_source -1.176036e-07\n",
      "4   author_following_source -6.176403e-06\n",
      "5      author_listed_source  3.811179e-05\n",
      "6           FF_Ratio_source  8.295182e-05\n",
      "7          FF_ratio2_source  1.727207e-02\n",
      "8     TweetsNb_source_users  1.848008e-03\n",
      "9   author_followers_target  3.905301e-07\n",
      "10     author_tweets_target  1.176036e-07\n",
      "11  author_following_target  6.176403e-06\n",
      "12     author_listed_target -3.811179e-05\n",
      "13          FF_Ratio_target -8.295182e-05\n",
      "14         FF_ratio2_target -1.727207e-02\n",
      "15   TweetsNb_source_target -1.848008e-03\n"
     ]
    }
   ],
   "source": [
    "from sklearn.linear_model import LinearRegression\n",
    "\n",
    "# Select the columns to use as the independent variables\n",
    "X = df_filtered[columns].drop('flow', axis=1)\n",
    "\n",
    "# Select the column to use as the dependent variable\n",
    "y = df_filtered[columns]['flow']\n",
    "\n",
    "# Create a LinearRegression model\n",
    "model = LinearRegression()\n",
    "\n",
    "# Fit the model to the data\n",
    "model.fit(X, y)\n",
    "\n",
    "# Create a table with the coefficients and features\n",
    "coefficients = pd.DataFrame({'feature': X.columns, 'coefficient': model.coef_})\n",
    "\n",
    "print(coefficients)"
   ]
  },
  {
   "cell_type": "code",
   "execution_count": 152,
   "id": "b7336ece",
   "metadata": {},
   "outputs": [
    {
     "data": {
      "image/png": "[encoded data removed]",
      "text/plain": [
       "<Figure size 432x288 with 1 Axes>"
      ]
     },
     "metadata": {
      "needs_background": "light"
     },
     "output_type": "display_data"
    }
   ],
   "source": [
    "import matplotlib.pyplot as plt\n",
    "\n",
    "# Assume that the coefficients are stored in a list called \"coefficients\"\n",
    "# and the corresponding feature names are stored in a list called \"features\"\n",
    "\n",
    "# Create the line plot\n",
    "plt.plot(X.columns, model.coef_)\n",
    "\n",
    "# Add labels and title\n",
    "plt.xlabel('Feature')\n",
    "plt.ylabel('Coefficient')\n",
    "plt.title('Coefficients of Linear Regression Model')\n",
    "\n",
    "plt.figure()\n",
    "\n",
    "# Show plot\n",
    "plt.show()"
   ]
  },
  {
   "cell_type": "markdown",
   "id": "e57db0fb",
   "metadata": {},
   "source": [
    "# Normalization"
   ]
  },
  {
   "cell_type": "code",
   "execution_count": 553,
   "id": "10913d7a",
   "metadata": {},
   "outputs": [],
   "source": [
    "# without filter"
   ]
  },
  {
   "cell_type": "code",
   "execution_count": 54,
   "id": "5bdc9e05",
   "metadata": {},
   "outputs": [],
   "source": [
    "from sklearn.preprocessing import MinMaxScaler\n",
    "import pandas as pd\n",
    "\n",
    "# create a MinMaxScaler object\n",
    "scaler = MinMaxScaler()\n",
    "\n",
    "# fit the scaler to the data\n",
    "scaler.fit(df1[columns])\n",
    "\n",
    "# transform the data using the scaler\n",
    "df1[columns] = scaler.transform(df1[columns])"
   ]
  },
  {
   "cell_type": "code",
   "execution_count": 55,
   "id": "c837147f",
   "metadata": {},
   "outputs": [
    {
     "name": "stdout",
     "output_type": "stream",
     "text": [
      "Mean squared error: 0.002604360198865131\n"
     ]
    }
   ],
   "source": [
    "# Select the columns to use as the independent variables\n",
    "X = df1[columns].drop('flow', axis=1)\n",
    "\n",
    "# Select the column to use as the dependent variable\n",
    "y = df1[columns]['flow']\n",
    "\n",
    "# Split the data into training and test sets\n",
    "X_train, X_test, y_train, y_test = train_test_split(X, y, test_size=0.2)\n",
    "\n",
    "# Create a LinearRegression model\n",
    "model_norm = LinearRegression()\n",
    "\n",
    "# Fit the model to the training data\n",
    "model_norm.fit(X_train, y_train)\n",
    "\n",
    "# Use the model to make predictions on the test data\n",
    "predictions = model_norm.predict(X_test)\n",
    "\n",
    "# Calculate the mean squared error\n",
    "mse = mean_squared_error(y_test, predictions)\n",
    "\n",
    "print(f'Mean squared error: {mse}')"
   ]
  },
  {
   "cell_type": "code",
   "execution_count": 60,
   "id": "a5ce68bd",
   "metadata": {},
   "outputs": [
    {
     "name": "stdout",
     "output_type": "stream",
     "text": [
      "                    feature  coefficient\n",
      "0              selfEntropyT     0.003347\n",
      "1              selfEntropyS    -0.081018\n",
      "2   author_followers_source    -0.031237\n",
      "3      author_tweets_source    -0.017779\n",
      "4   author_following_source    -0.021444\n",
      "5      author_listed_source     0.021058\n",
      "6           FF_Ratio_source     0.017872\n",
      "7          FF_ratio2_source    -0.028514\n",
      "8     TweetsNb_source_users     0.028812\n",
      "9   author_followers_target     0.003667\n",
      "10     author_tweets_target    -0.005800\n",
      "11  author_following_target     0.008419\n",
      "12     author_listed_target    -0.013880\n",
      "13          FF_Ratio_target     0.004435\n",
      "14         FF_ratio2_target     0.000374\n",
      "15   TweetsNb_source_target     0.023541\n"
     ]
    }
   ],
   "source": [
    "from sklearn.linear_model import LinearRegression\n",
    "\n",
    "# Select the columns to use as the independent variables\n",
    "X = df1[columns].drop('flow', axis=1)\n",
    "\n",
    "# Select the column to use as the dependent variable\n",
    "y = df1[columns]['flow']\n",
    "\n",
    "# Create a LinearRegression model\n",
    "model = LinearRegression()\n",
    "\n",
    "# Fit the model to the data\n",
    "model.fit(X, y)\n",
    "\n",
    "# Create a table with the coefficients and features\n",
    "coefficients = pd.DataFrame({'feature': X.columns, 'coefficient': model.coef_})\n",
    "\n",
    "print(coefficients)"
   ]
  },
  {
   "cell_type": "code",
   "execution_count": 61,
   "id": "3353be3e",
   "metadata": {},
   "outputs": [
    {
     "data": {
      "text/html": [
       "<div>\n",
       "<style scoped>\n",
       "    .dataframe tbody tr th:only-of-type {\n",
       "        vertical-align: middle;\n",
       "    }\n",
       "\n",
       "    .dataframe tbody tr th {\n",
       "        vertical-align: top;\n",
       "    }\n",
       "\n",
       "    .dataframe thead th {\n",
       "        text-align: right;\n",
       "    }\n",
       "</style>\n",
       "<table border=\"1\" class=\"dataframe\">\n",
       "  <thead>\n",
       "    <tr style=\"text-align: right;\">\n",
       "      <th></th>\n",
       "      <th>feature</th>\n",
       "      <th>coefficient</th>\n",
       "    </tr>\n",
       "  </thead>\n",
       "  <tbody>\n",
       "    <tr>\n",
       "      <th>0</th>\n",
       "      <td>selfEntropyT</td>\n",
       "      <td>0.003347</td>\n",
       "    </tr>\n",
       "    <tr>\n",
       "      <th>1</th>\n",
       "      <td>selfEntropyS</td>\n",
       "      <td>-0.081018</td>\n",
       "    </tr>\n",
       "    <tr>\n",
       "      <th>2</th>\n",
       "      <td>author_followers_source</td>\n",
       "      <td>-0.031237</td>\n",
       "    </tr>\n",
       "    <tr>\n",
       "      <th>3</th>\n",
       "      <td>author_tweets_source</td>\n",
       "      <td>-0.017779</td>\n",
       "    </tr>\n",
       "    <tr>\n",
       "      <th>4</th>\n",
       "      <td>author_following_source</td>\n",
       "      <td>-0.021444</td>\n",
       "    </tr>\n",
       "    <tr>\n",
       "      <th>5</th>\n",
       "      <td>author_listed_source</td>\n",
       "      <td>0.021058</td>\n",
       "    </tr>\n",
       "    <tr>\n",
       "      <th>6</th>\n",
       "      <td>FF_Ratio_source</td>\n",
       "      <td>0.017872</td>\n",
       "    </tr>\n",
       "    <tr>\n",
       "      <th>7</th>\n",
       "      <td>FF_ratio2_source</td>\n",
       "      <td>-0.028514</td>\n",
       "    </tr>\n",
       "    <tr>\n",
       "      <th>8</th>\n",
       "      <td>TweetsNb_source_users</td>\n",
       "      <td>0.028812</td>\n",
       "    </tr>\n",
       "    <tr>\n",
       "      <th>9</th>\n",
       "      <td>author_followers_target</td>\n",
       "      <td>0.003667</td>\n",
       "    </tr>\n",
       "    <tr>\n",
       "      <th>10</th>\n",
       "      <td>author_tweets_target</td>\n",
       "      <td>-0.005800</td>\n",
       "    </tr>\n",
       "    <tr>\n",
       "      <th>11</th>\n",
       "      <td>author_following_target</td>\n",
       "      <td>0.008419</td>\n",
       "    </tr>\n",
       "    <tr>\n",
       "      <th>12</th>\n",
       "      <td>author_listed_target</td>\n",
       "      <td>-0.013880</td>\n",
       "    </tr>\n",
       "    <tr>\n",
       "      <th>13</th>\n",
       "      <td>FF_Ratio_target</td>\n",
       "      <td>0.004435</td>\n",
       "    </tr>\n",
       "    <tr>\n",
       "      <th>14</th>\n",
       "      <td>FF_ratio2_target</td>\n",
       "      <td>0.000374</td>\n",
       "    </tr>\n",
       "    <tr>\n",
       "      <th>15</th>\n",
       "      <td>TweetsNb_source_target</td>\n",
       "      <td>0.023541</td>\n",
       "    </tr>\n",
       "  </tbody>\n",
       "</table>\n",
       "</div>"
      ],
      "text/plain": [
       "                    feature  coefficient\n",
       "0              selfEntropyT     0.003347\n",
       "1              selfEntropyS    -0.081018\n",
       "2   author_followers_source    -0.031237\n",
       "3      author_tweets_source    -0.017779\n",
       "4   author_following_source    -0.021444\n",
       "5      author_listed_source     0.021058\n",
       "6           FF_Ratio_source     0.017872\n",
       "7          FF_ratio2_source    -0.028514\n",
       "8     TweetsNb_source_users     0.028812\n",
       "9   author_followers_target     0.003667\n",
       "10     author_tweets_target    -0.005800\n",
       "11  author_following_target     0.008419\n",
       "12     author_listed_target    -0.013880\n",
       "13          FF_Ratio_target     0.004435\n",
       "14         FF_ratio2_target     0.000374\n",
       "15   TweetsNb_source_target     0.023541"
      ]
     },
     "execution_count": 61,
     "metadata": {},
     "output_type": "execute_result"
    }
   ],
   "source": [
    "coefficients"
   ]
  },
  {
   "cell_type": "code",
   "execution_count": 62,
   "id": "490722a2",
   "metadata": {},
   "outputs": [],
   "source": [
    "from sklearn.preprocessing import MinMaxScaler\n",
    "import pandas as pd\n",
    "\n",
    "# create a MinMaxScaler object\n",
    "scaler = MinMaxScaler()\n",
    "\n",
    "# fit the scaler to the data\n",
    "scaler.fit(df2[columns])\n",
    "\n",
    "# transform the data using the scaler\n",
    "df2[columns] = scaler.transform(df2[columns])"
   ]
  },
  {
   "cell_type": "code",
   "execution_count": 63,
   "id": "b61e9d04",
   "metadata": {},
   "outputs": [
    {
     "name": "stdout",
     "output_type": "stream",
     "text": [
      "Mean squared error: 0.0056286138708896375\n"
     ]
    }
   ],
   "source": [
    "# Select the columns to use as the independent variables\n",
    "X = df2[columns].drop('flow', axis=1)\n",
    "\n",
    "# Select the column to use as the dependent variable\n",
    "y = df2[columns]['flow']\n",
    "\n",
    "# Split the data into training and test sets\n",
    "X_train, X_test, y_train, y_test = train_test_split(X, y, test_size=0.2)\n",
    "\n",
    "# Create a LinearRegression model\n",
    "model_norm = LinearRegression()\n",
    "\n",
    "# Fit the model to the training data\n",
    "model_norm.fit(X_train, y_train)\n",
    "\n",
    "# Use the model to make predictions on the test data\n",
    "predictions = model_norm.predict(X_test)\n",
    "\n",
    "# Calculate the mean squared error\n",
    "mse = mean_squared_error(y_test, predictions)\n",
    "\n",
    "print(f'Mean squared error: {mse}')"
   ]
  },
  {
   "cell_type": "code",
   "execution_count": 64,
   "id": "57f878b3",
   "metadata": {},
   "outputs": [
    {
     "name": "stdout",
     "output_type": "stream",
     "text": [
      "                    feature  coefficient\n",
      "0              selfEntropyT     0.153411\n",
      "1              selfEntropyS    -0.357675\n",
      "2   author_followers_source     0.083715\n",
      "3      author_tweets_source     0.022240\n",
      "4   author_following_source     0.041137\n",
      "5      author_listed_source    -0.089864\n",
      "6           FF_Ratio_source    -0.022656\n",
      "7          FF_ratio2_source    -0.003799\n",
      "8     TweetsNb_source_users    -0.036168\n",
      "9   author_followers_target     0.009937\n",
      "10     author_tweets_target    -0.034748\n",
      "11  author_following_target     0.005795\n",
      "12     author_listed_target    -0.097400\n",
      "13          FF_Ratio_target     0.037093\n",
      "14         FF_ratio2_target     0.004861\n",
      "15   TweetsNb_source_target     0.175542\n"
     ]
    }
   ],
   "source": [
    "from sklearn.linear_model import LinearRegression\n",
    "\n",
    "# Select the columns to use as the independent variables\n",
    "X = df2[columns].drop('flow', axis=1)\n",
    "\n",
    "# Select the column to use as the dependent variable\n",
    "y = df2[columns]['flow']\n",
    "\n",
    "# Create a LinearRegression model\n",
    "model = LinearRegression()\n",
    "\n",
    "# Fit the model to the data\n",
    "model.fit(X, y)\n",
    "\n",
    "# Create a table with the coefficients and features\n",
    "coefficients = pd.DataFrame({'feature': X.columns, 'coefficient': model.coef_})\n",
    "\n",
    "print(coefficients)"
   ]
  },
  {
   "cell_type": "code",
   "execution_count": 65,
   "id": "a184f4c4",
   "metadata": {},
   "outputs": [
    {
     "data": {
      "text/html": [
       "<div>\n",
       "<style scoped>\n",
       "    .dataframe tbody tr th:only-of-type {\n",
       "        vertical-align: middle;\n",
       "    }\n",
       "\n",
       "    .dataframe tbody tr th {\n",
       "        vertical-align: top;\n",
       "    }\n",
       "\n",
       "    .dataframe thead th {\n",
       "        text-align: right;\n",
       "    }\n",
       "</style>\n",
       "<table border=\"1\" class=\"dataframe\">\n",
       "  <thead>\n",
       "    <tr style=\"text-align: right;\">\n",
       "      <th></th>\n",
       "      <th>feature</th>\n",
       "      <th>coefficient</th>\n",
       "    </tr>\n",
       "  </thead>\n",
       "  <tbody>\n",
       "    <tr>\n",
       "      <th>0</th>\n",
       "      <td>selfEntropyT</td>\n",
       "      <td>0.153411</td>\n",
       "    </tr>\n",
       "    <tr>\n",
       "      <th>1</th>\n",
       "      <td>selfEntropyS</td>\n",
       "      <td>-0.357675</td>\n",
       "    </tr>\n",
       "    <tr>\n",
       "      <th>2</th>\n",
       "      <td>author_followers_source</td>\n",
       "      <td>0.083715</td>\n",
       "    </tr>\n",
       "    <tr>\n",
       "      <th>3</th>\n",
       "      <td>author_tweets_source</td>\n",
       "      <td>0.022240</td>\n",
       "    </tr>\n",
       "    <tr>\n",
       "      <th>4</th>\n",
       "      <td>author_following_source</td>\n",
       "      <td>0.041137</td>\n",
       "    </tr>\n",
       "    <tr>\n",
       "      <th>5</th>\n",
       "      <td>author_listed_source</td>\n",
       "      <td>-0.089864</td>\n",
       "    </tr>\n",
       "    <tr>\n",
       "      <th>6</th>\n",
       "      <td>FF_Ratio_source</td>\n",
       "      <td>-0.022656</td>\n",
       "    </tr>\n",
       "    <tr>\n",
       "      <th>7</th>\n",
       "      <td>FF_ratio2_source</td>\n",
       "      <td>-0.003799</td>\n",
       "    </tr>\n",
       "    <tr>\n",
       "      <th>8</th>\n",
       "      <td>TweetsNb_source_users</td>\n",
       "      <td>-0.036168</td>\n",
       "    </tr>\n",
       "    <tr>\n",
       "      <th>9</th>\n",
       "      <td>author_followers_target</td>\n",
       "      <td>0.009937</td>\n",
       "    </tr>\n",
       "    <tr>\n",
       "      <th>10</th>\n",
       "      <td>author_tweets_target</td>\n",
       "      <td>-0.034748</td>\n",
       "    </tr>\n",
       "    <tr>\n",
       "      <th>11</th>\n",
       "      <td>author_following_target</td>\n",
       "      <td>0.005795</td>\n",
       "    </tr>\n",
       "    <tr>\n",
       "      <th>12</th>\n",
       "      <td>author_listed_target</td>\n",
       "      <td>-0.097400</td>\n",
       "    </tr>\n",
       "    <tr>\n",
       "      <th>13</th>\n",
       "      <td>FF_Ratio_target</td>\n",
       "      <td>0.037093</td>\n",
       "    </tr>\n",
       "    <tr>\n",
       "      <th>14</th>\n",
       "      <td>FF_ratio2_target</td>\n",
       "      <td>0.004861</td>\n",
       "    </tr>\n",
       "    <tr>\n",
       "      <th>15</th>\n",
       "      <td>TweetsNb_source_target</td>\n",
       "      <td>0.175542</td>\n",
       "    </tr>\n",
       "  </tbody>\n",
       "</table>\n",
       "</div>"
      ],
      "text/plain": [
       "                    feature  coefficient\n",
       "0              selfEntropyT     0.153411\n",
       "1              selfEntropyS    -0.357675\n",
       "2   author_followers_source     0.083715\n",
       "3      author_tweets_source     0.022240\n",
       "4   author_following_source     0.041137\n",
       "5      author_listed_source    -0.089864\n",
       "6           FF_Ratio_source    -0.022656\n",
       "7          FF_ratio2_source    -0.003799\n",
       "8     TweetsNb_source_users    -0.036168\n",
       "9   author_followers_target     0.009937\n",
       "10     author_tweets_target    -0.034748\n",
       "11  author_following_target     0.005795\n",
       "12     author_listed_target    -0.097400\n",
       "13          FF_Ratio_target     0.037093\n",
       "14         FF_ratio2_target     0.004861\n",
       "15   TweetsNb_source_target     0.175542"
      ]
     },
     "execution_count": 65,
     "metadata": {},
     "output_type": "execute_result"
    }
   ],
   "source": [
    "coefficients"
   ]
  },
  {
   "cell_type": "code",
   "execution_count": 771,
   "id": "8609e907",
   "metadata": {},
   "outputs": [],
   "source": [
    "coefficients = coefficients[5:]"
   ]
  },
  {
   "cell_type": "code",
   "execution_count": 756,
   "id": "e87a61cf",
   "metadata": {},
   "outputs": [
    {
     "data": {
      "text/html": [
       "<div>\n",
       "<style scoped>\n",
       "    .dataframe tbody tr th:only-of-type {\n",
       "        vertical-align: middle;\n",
       "    }\n",
       "\n",
       "    .dataframe tbody tr th {\n",
       "        vertical-align: top;\n",
       "    }\n",
       "\n",
       "    .dataframe thead th {\n",
       "        text-align: right;\n",
       "    }\n",
       "</style>\n",
       "<table border=\"1\" class=\"dataframe\">\n",
       "  <thead>\n",
       "    <tr style=\"text-align: right;\">\n",
       "      <th></th>\n",
       "      <th>feature</th>\n",
       "      <th>coefficient</th>\n",
       "    </tr>\n",
       "  </thead>\n",
       "  <tbody>\n",
       "    <tr>\n",
       "      <th>5</th>\n",
       "      <td>author_listed_source</td>\n",
       "      <td>-0.097400</td>\n",
       "    </tr>\n",
       "    <tr>\n",
       "      <th>6</th>\n",
       "      <td>FF_Ratio_source</td>\n",
       "      <td>0.037093</td>\n",
       "    </tr>\n",
       "    <tr>\n",
       "      <th>7</th>\n",
       "      <td>FF_ratio2_source</td>\n",
       "      <td>0.004861</td>\n",
       "    </tr>\n",
       "    <tr>\n",
       "      <th>8</th>\n",
       "      <td>TweetsNb_source_users</td>\n",
       "      <td>0.175542</td>\n",
       "    </tr>\n",
       "    <tr>\n",
       "      <th>9</th>\n",
       "      <td>author_followers_target</td>\n",
       "      <td>0.083715</td>\n",
       "    </tr>\n",
       "    <tr>\n",
       "      <th>10</th>\n",
       "      <td>author_tweets_target</td>\n",
       "      <td>0.022240</td>\n",
       "    </tr>\n",
       "    <tr>\n",
       "      <th>11</th>\n",
       "      <td>author_following_target</td>\n",
       "      <td>0.041137</td>\n",
       "    </tr>\n",
       "    <tr>\n",
       "      <th>12</th>\n",
       "      <td>author_listed_target</td>\n",
       "      <td>-0.089864</td>\n",
       "    </tr>\n",
       "    <tr>\n",
       "      <th>13</th>\n",
       "      <td>FF_Ratio_target</td>\n",
       "      <td>-0.022656</td>\n",
       "    </tr>\n",
       "    <tr>\n",
       "      <th>14</th>\n",
       "      <td>FF_ratio2_target</td>\n",
       "      <td>-0.003799</td>\n",
       "    </tr>\n",
       "    <tr>\n",
       "      <th>15</th>\n",
       "      <td>TweetsNb_source_target</td>\n",
       "      <td>-0.036168</td>\n",
       "    </tr>\n",
       "  </tbody>\n",
       "</table>\n",
       "</div>"
      ],
      "text/plain": [
       "                    feature  coefficient\n",
       "5      author_listed_source    -0.097400\n",
       "6           FF_Ratio_source     0.037093\n",
       "7          FF_ratio2_source     0.004861\n",
       "8     TweetsNb_source_users     0.175542\n",
       "9   author_followers_target     0.083715\n",
       "10     author_tweets_target     0.022240\n",
       "11  author_following_target     0.041137\n",
       "12     author_listed_target    -0.089864\n",
       "13          FF_Ratio_target    -0.022656\n",
       "14         FF_ratio2_target    -0.003799\n",
       "15   TweetsNb_source_target    -0.036168"
      ]
     },
     "execution_count": 756,
     "metadata": {},
     "output_type": "execute_result"
    }
   ],
   "source": [
    "coefficients"
   ]
  },
  {
   "cell_type": "code",
   "execution_count": 769,
   "id": "a366c67c",
   "metadata": {},
   "outputs": [],
   "source": [
    "ref_coeff =coefficients"
   ]
  },
  {
   "cell_type": "code",
   "execution_count": 733,
   "id": "9607574c",
   "metadata": {},
   "outputs": [
    {
     "ename": "KeyError",
     "evalue": "\"None of ['feature'] are in the columns\"",
     "output_type": "error",
     "traceback": [
      "\u001b[0;31m---------------------------------------------------------------------------\u001b[0m",
      "\u001b[0;31mKeyError\u001b[0m                                  Traceback (most recent call last)",
      "\u001b[0;32m/var/folders/9h/13pr4vr90tq8fry9k7v3mmxh0000gn/T/ipykernel_7108/2501662118.py\u001b[0m in \u001b[0;36m<module>\u001b[0;34m\u001b[0m\n\u001b[0;32m----> 1\u001b[0;31m \u001b[0mcoefficients\u001b[0m \u001b[0;34m=\u001b[0m \u001b[0mcoefficients\u001b[0m\u001b[0;34m.\u001b[0m\u001b[0mset_index\u001b[0m\u001b[0;34m(\u001b[0m\u001b[0;34m'feature'\u001b[0m\u001b[0;34m)\u001b[0m\u001b[0;34m\u001b[0m\u001b[0;34m\u001b[0m\u001b[0m\n\u001b[0m",
      "\u001b[0;32m~/opt/anaconda3/lib/python3.9/site-packages/pandas/util/_decorators.py\u001b[0m in \u001b[0;36mwrapper\u001b[0;34m(*args, **kwargs)\u001b[0m\n\u001b[1;32m    309\u001b[0m                     \u001b[0mstacklevel\u001b[0m\u001b[0;34m=\u001b[0m\u001b[0mstacklevel\u001b[0m\u001b[0;34m,\u001b[0m\u001b[0;34m\u001b[0m\u001b[0;34m\u001b[0m\u001b[0m\n\u001b[1;32m    310\u001b[0m                 )\n\u001b[0;32m--> 311\u001b[0;31m             \u001b[0;32mreturn\u001b[0m \u001b[0mfunc\u001b[0m\u001b[0;34m(\u001b[0m\u001b[0;34m*\u001b[0m\u001b[0margs\u001b[0m\u001b[0;34m,\u001b[0m \u001b[0;34m**\u001b[0m\u001b[0mkwargs\u001b[0m\u001b[0;34m)\u001b[0m\u001b[0;34m\u001b[0m\u001b[0;34m\u001b[0m\u001b[0m\n\u001b[0m\u001b[1;32m    312\u001b[0m \u001b[0;34m\u001b[0m\u001b[0m\n\u001b[1;32m    313\u001b[0m         \u001b[0;32mreturn\u001b[0m \u001b[0mwrapper\u001b[0m\u001b[0;34m\u001b[0m\u001b[0;34m\u001b[0m\u001b[0m\n",
      "\u001b[0;32m~/opt/anaconda3/lib/python3.9/site-packages/pandas/core/frame.py\u001b[0m in \u001b[0;36mset_index\u001b[0;34m(self, keys, drop, append, inplace, verify_integrity)\u001b[0m\n\u001b[1;32m   5449\u001b[0m \u001b[0;34m\u001b[0m\u001b[0m\n\u001b[1;32m   5450\u001b[0m         \u001b[0;32mif\u001b[0m \u001b[0mmissing\u001b[0m\u001b[0;34m:\u001b[0m\u001b[0;34m\u001b[0m\u001b[0;34m\u001b[0m\u001b[0m\n\u001b[0;32m-> 5451\u001b[0;31m             \u001b[0;32mraise\u001b[0m \u001b[0mKeyError\u001b[0m\u001b[0;34m(\u001b[0m\u001b[0;34mf\"None of {missing} are in the columns\"\u001b[0m\u001b[0;34m)\u001b[0m\u001b[0;34m\u001b[0m\u001b[0;34m\u001b[0m\u001b[0m\n\u001b[0m\u001b[1;32m   5452\u001b[0m \u001b[0;34m\u001b[0m\u001b[0m\n\u001b[1;32m   5453\u001b[0m         \u001b[0;32mif\u001b[0m \u001b[0minplace\u001b[0m\u001b[0;34m:\u001b[0m\u001b[0;34m\u001b[0m\u001b[0;34m\u001b[0m\u001b[0m\n",
      "\u001b[0;31mKeyError\u001b[0m: \"None of ['feature'] are in the columns\""
     ]
    }
   ],
   "source": [
    "#coefficients = coefficients.set_index('feature')"
   ]
  },
  {
   "cell_type": "code",
   "execution_count": 772,
   "id": "6bd9756d",
   "metadata": {},
   "outputs": [],
   "source": [
    "coefficients = coefficients.rename(columns={'coefficient': 'coeff1' })"
   ]
  },
  {
   "cell_type": "code",
   "execution_count": 773,
   "id": "e1e40c42",
   "metadata": {},
   "outputs": [],
   "source": [
    "ref_coeff = ref_coeff.rename(columns={'coefficient': 'coeff2' })"
   ]
  },
  {
   "cell_type": "code",
   "execution_count": 730,
   "id": "f09c228d",
   "metadata": {},
   "outputs": [],
   "source": [
    "#ref_coeff = ref_coeff.set_index('feature')"
   ]
  },
  {
   "cell_type": "code",
   "execution_count": 774,
   "id": "93d2a09a",
   "metadata": {},
   "outputs": [],
   "source": [
    "tfx = ref_coeff.merge(coefficients)"
   ]
  },
  {
   "cell_type": "code",
   "execution_count": 778,
   "id": "ce35018c",
   "metadata": {},
   "outputs": [
    {
     "data": {
      "text/html": [
       "<div>\n",
       "<style scoped>\n",
       "    .dataframe tbody tr th:only-of-type {\n",
       "        vertical-align: middle;\n",
       "    }\n",
       "\n",
       "    .dataframe tbody tr th {\n",
       "        vertical-align: top;\n",
       "    }\n",
       "\n",
       "    .dataframe thead th {\n",
       "        text-align: right;\n",
       "    }\n",
       "</style>\n",
       "<table border=\"1\" class=\"dataframe\">\n",
       "  <thead>\n",
       "    <tr style=\"text-align: right;\">\n",
       "      <th></th>\n",
       "      <th>feature</th>\n",
       "      <th>coeff2</th>\n",
       "      <th>coeff1</th>\n",
       "    </tr>\n",
       "  </thead>\n",
       "  <tbody>\n",
       "    <tr>\n",
       "      <th>0</th>\n",
       "      <td>author_listed_source</td>\n",
       "      <td>-0.049747</td>\n",
       "      <td>-0.097400</td>\n",
       "    </tr>\n",
       "    <tr>\n",
       "      <th>1</th>\n",
       "      <td>FF_Ratio_source</td>\n",
       "      <td>0.021562</td>\n",
       "      <td>0.037093</td>\n",
       "    </tr>\n",
       "    <tr>\n",
       "      <th>2</th>\n",
       "      <td>FF_ratio2_source</td>\n",
       "      <td>0.004922</td>\n",
       "      <td>0.004861</td>\n",
       "    </tr>\n",
       "    <tr>\n",
       "      <th>3</th>\n",
       "      <td>TweetsNb_source_users</td>\n",
       "      <td>0.087426</td>\n",
       "      <td>0.175542</td>\n",
       "    </tr>\n",
       "    <tr>\n",
       "      <th>4</th>\n",
       "      <td>author_followers_target</td>\n",
       "      <td>0.405898</td>\n",
       "      <td>0.083715</td>\n",
       "    </tr>\n",
       "    <tr>\n",
       "      <th>5</th>\n",
       "      <td>author_tweets_target</td>\n",
       "      <td>-0.116217</td>\n",
       "      <td>0.022240</td>\n",
       "    </tr>\n",
       "    <tr>\n",
       "      <th>6</th>\n",
       "      <td>author_following_target</td>\n",
       "      <td>-0.084888</td>\n",
       "      <td>0.041137</td>\n",
       "    </tr>\n",
       "    <tr>\n",
       "      <th>7</th>\n",
       "      <td>author_listed_target</td>\n",
       "      <td>-0.302930</td>\n",
       "      <td>-0.089864</td>\n",
       "    </tr>\n",
       "    <tr>\n",
       "      <th>8</th>\n",
       "      <td>FF_Ratio_target</td>\n",
       "      <td>-0.127551</td>\n",
       "      <td>-0.022656</td>\n",
       "    </tr>\n",
       "    <tr>\n",
       "      <th>9</th>\n",
       "      <td>FF_ratio2_target</td>\n",
       "      <td>-0.002114</td>\n",
       "      <td>-0.003799</td>\n",
       "    </tr>\n",
       "    <tr>\n",
       "      <th>10</th>\n",
       "      <td>TweetsNb_source_target</td>\n",
       "      <td>0.394229</td>\n",
       "      <td>-0.036168</td>\n",
       "    </tr>\n",
       "  </tbody>\n",
       "</table>\n",
       "</div>"
      ],
      "text/plain": [
       "                    feature    coeff2    coeff1\n",
       "0      author_listed_source -0.049747 -0.097400\n",
       "1           FF_Ratio_source  0.021562  0.037093\n",
       "2          FF_ratio2_source  0.004922  0.004861\n",
       "3     TweetsNb_source_users  0.087426  0.175542\n",
       "4   author_followers_target  0.405898  0.083715\n",
       "5      author_tweets_target -0.116217  0.022240\n",
       "6   author_following_target -0.084888  0.041137\n",
       "7      author_listed_target -0.302930 -0.089864\n",
       "8           FF_Ratio_target -0.127551 -0.022656\n",
       "9          FF_ratio2_target -0.002114 -0.003799\n",
       "10   TweetsNb_source_target  0.394229 -0.036168"
      ]
     },
     "execution_count": 778,
     "metadata": {},
     "output_type": "execute_result"
    }
   ],
   "source": [
    "tfx"
   ]
  },
  {
   "cell_type": "code",
   "execution_count": 784,
   "id": "726b57e1",
   "metadata": {},
   "outputs": [],
   "source": [
    "tfx['abs_val_diff'] = abs(tfx['coeff2'] - tfx['coeff1'])"
   ]
  },
  {
   "cell_type": "code",
   "execution_count": 785,
   "id": "50e7aade",
   "metadata": {},
   "outputs": [
    {
     "data": {
      "text/html": [
       "<div>\n",
       "<style scoped>\n",
       "    .dataframe tbody tr th:only-of-type {\n",
       "        vertical-align: middle;\n",
       "    }\n",
       "\n",
       "    .dataframe tbody tr th {\n",
       "        vertical-align: top;\n",
       "    }\n",
       "\n",
       "    .dataframe thead th {\n",
       "        text-align: right;\n",
       "    }\n",
       "</style>\n",
       "<table border=\"1\" class=\"dataframe\">\n",
       "  <thead>\n",
       "    <tr style=\"text-align: right;\">\n",
       "      <th></th>\n",
       "      <th>feature</th>\n",
       "      <th>coeff2</th>\n",
       "      <th>coeff1</th>\n",
       "      <th>abs_val_diff</th>\n",
       "    </tr>\n",
       "  </thead>\n",
       "  <tbody>\n",
       "    <tr>\n",
       "      <th>0</th>\n",
       "      <td>author_listed_source</td>\n",
       "      <td>-0.049747</td>\n",
       "      <td>-0.097400</td>\n",
       "      <td>0.047653</td>\n",
       "    </tr>\n",
       "    <tr>\n",
       "      <th>1</th>\n",
       "      <td>FF_Ratio_source</td>\n",
       "      <td>0.021562</td>\n",
       "      <td>0.037093</td>\n",
       "      <td>0.015531</td>\n",
       "    </tr>\n",
       "    <tr>\n",
       "      <th>2</th>\n",
       "      <td>FF_ratio2_source</td>\n",
       "      <td>0.004922</td>\n",
       "      <td>0.004861</td>\n",
       "      <td>0.000061</td>\n",
       "    </tr>\n",
       "    <tr>\n",
       "      <th>3</th>\n",
       "      <td>TweetsNb_source_users</td>\n",
       "      <td>0.087426</td>\n",
       "      <td>0.175542</td>\n",
       "      <td>0.088116</td>\n",
       "    </tr>\n",
       "    <tr>\n",
       "      <th>4</th>\n",
       "      <td>author_followers_target</td>\n",
       "      <td>0.405898</td>\n",
       "      <td>0.083715</td>\n",
       "      <td>0.322184</td>\n",
       "    </tr>\n",
       "    <tr>\n",
       "      <th>5</th>\n",
       "      <td>author_tweets_target</td>\n",
       "      <td>-0.116217</td>\n",
       "      <td>0.022240</td>\n",
       "      <td>0.138457</td>\n",
       "    </tr>\n",
       "    <tr>\n",
       "      <th>6</th>\n",
       "      <td>author_following_target</td>\n",
       "      <td>-0.084888</td>\n",
       "      <td>0.041137</td>\n",
       "      <td>0.126024</td>\n",
       "    </tr>\n",
       "    <tr>\n",
       "      <th>7</th>\n",
       "      <td>author_listed_target</td>\n",
       "      <td>-0.302930</td>\n",
       "      <td>-0.089864</td>\n",
       "      <td>0.213067</td>\n",
       "    </tr>\n",
       "    <tr>\n",
       "      <th>8</th>\n",
       "      <td>FF_Ratio_target</td>\n",
       "      <td>-0.127551</td>\n",
       "      <td>-0.022656</td>\n",
       "      <td>0.104896</td>\n",
       "    </tr>\n",
       "    <tr>\n",
       "      <th>9</th>\n",
       "      <td>FF_ratio2_target</td>\n",
       "      <td>-0.002114</td>\n",
       "      <td>-0.003799</td>\n",
       "      <td>0.001686</td>\n",
       "    </tr>\n",
       "    <tr>\n",
       "      <th>10</th>\n",
       "      <td>TweetsNb_source_target</td>\n",
       "      <td>0.394229</td>\n",
       "      <td>-0.036168</td>\n",
       "      <td>0.430397</td>\n",
       "    </tr>\n",
       "  </tbody>\n",
       "</table>\n",
       "</div>"
      ],
      "text/plain": [
       "                    feature    coeff2    coeff1  abs_val_diff\n",
       "0      author_listed_source -0.049747 -0.097400      0.047653\n",
       "1           FF_Ratio_source  0.021562  0.037093      0.015531\n",
       "2          FF_ratio2_source  0.004922  0.004861      0.000061\n",
       "3     TweetsNb_source_users  0.087426  0.175542      0.088116\n",
       "4   author_followers_target  0.405898  0.083715      0.322184\n",
       "5      author_tweets_target -0.116217  0.022240      0.138457\n",
       "6   author_following_target -0.084888  0.041137      0.126024\n",
       "7      author_listed_target -0.302930 -0.089864      0.213067\n",
       "8           FF_Ratio_target -0.127551 -0.022656      0.104896\n",
       "9          FF_ratio2_target -0.002114 -0.003799      0.001686\n",
       "10   TweetsNb_source_target  0.394229 -0.036168      0.430397"
      ]
     },
     "execution_count": 785,
     "metadata": {},
     "output_type": "execute_result"
    }
   ],
   "source": [
    "tfx"
   ]
  },
  {
   "cell_type": "markdown",
   "id": "61994995",
   "metadata": {},
   "source": [
    "## Visualize Norm"
   ]
  },
  {
   "cell_type": "code",
   "execution_count": 591,
   "id": "2ff7b557",
   "metadata": {},
   "outputs": [
    {
     "data": {
      "image/png": "[encoded data removed]",
      "text/plain": [
       "<Figure size 432x288 with 1 Axes>"
      ]
     },
     "metadata": {
      "needs_background": "light"
     },
     "output_type": "display_data"
    }
   ],
   "source": [
    "import matplotlib.pyplot as plt\n",
    "# Visualize the model\n",
    "plt.scatter(X_test['author_tweets_target'], y_test, label='Original data')\n",
    "plt.plot(X_test['author_tweets_target'], predictions, color='red', label='Predictions')\n",
    "plt.xlabel('X')\n",
    "plt.ylabel('y')\n",
    "plt.title('Linear Regression Model')\n",
    "plt.legend()\n",
    "plt.show()"
   ]
  },
  {
   "cell_type": "markdown",
   "id": "08602103",
   "metadata": {},
   "source": [
    "# Standardizer"
   ]
  },
  {
   "cell_type": "code",
   "execution_count": 592,
   "id": "4f1a72fd",
   "metadata": {},
   "outputs": [],
   "source": [
    "dfs = df[df['flow']>0]"
   ]
  },
  {
   "cell_type": "code",
   "execution_count": 593,
   "id": "422f4b21",
   "metadata": {},
   "outputs": [],
   "source": [
    "dfs = dfs[columns]"
   ]
  },
  {
   "cell_type": "code",
   "execution_count": 594,
   "id": "dcc3a380",
   "metadata": {},
   "outputs": [],
   "source": [
    "for col in columns:\n",
    "    if col != 'flow' :   \n",
    "        dfs[col] = (dfs[col]- dfs[col].mean())/dfs[col].std()"
   ]
  },
  {
   "cell_type": "code",
   "execution_count": 595,
   "id": "12a651e4",
   "metadata": {},
   "outputs": [],
   "source": [
    "df_filtered_std = df_filtered[df_filtered['flow']>0]"
   ]
  },
  {
   "cell_type": "code",
   "execution_count": 596,
   "id": "2053fe47",
   "metadata": {},
   "outputs": [],
   "source": [
    "df_filtered_std = df_filtered_std[columns]"
   ]
  },
  {
   "cell_type": "code",
   "execution_count": 597,
   "id": "8c378a8e",
   "metadata": {},
   "outputs": [],
   "source": [
    "for col in columns:\n",
    "    if col != 'flow' :   \n",
    "        df_filtered_std[col] = (df_filtered_std[col]- df_filtered_std[col].mean())/df[col].std()"
   ]
  },
  {
   "cell_type": "code",
   "execution_count": 598,
   "id": "167a2746",
   "metadata": {},
   "outputs": [
    {
     "name": "stdout",
     "output_type": "stream",
     "text": [
      "Mean squared error: 120.69872405891593\n"
     ]
    }
   ],
   "source": [
    "from sklearn.linear_model import LinearRegression\n",
    "from sklearn.metrics import mean_squared_error\n",
    "from sklearn.model_selection import train_test_split\n",
    "\n",
    "# Select the columns to use as the independent variables\n",
    "X = dfs.drop('flow', axis = 1) \n",
    "\n",
    "# Select the column to use as the dependent variable\n",
    "y = dfs['flow']\n",
    "\n",
    "# Split the data into training and test sets\n",
    "X_train, X_test, y_train, y_test = train_test_split(X, y, test_size=0.2)\n",
    "\n",
    "# Create a LinearRegression model\n",
    "model_std = LinearRegression()\n",
    "\n",
    "# Fit the model to the training data\n",
    "model_std.fit(X_train, y_train)\n",
    "\n",
    "# Use the model to make predictions on the test data\n",
    "predictions = model_std.predict(X_test)\n",
    "\n",
    "# Calculate the mean squared error\n",
    "mse = mean_squared_error(y_test, predictions)\n",
    "\n",
    "print(f'Mean squared error: {mse}')\n",
    "\n"
   ]
  },
  {
   "cell_type": "code",
   "execution_count": 601,
   "id": "6a661eb8",
   "metadata": {},
   "outputs": [
    {
     "name": "stdout",
     "output_type": "stream",
     "text": [
      "Mean squared error: 0.23243330180031543\n"
     ]
    }
   ],
   "source": [
    "from sklearn.linear_model import LinearRegression\n",
    "from sklearn.metrics import mean_squared_error\n",
    "from sklearn.model_selection import train_test_split\n",
    "\n",
    "# Select the columns to use as the independent variables\n",
    "X = df_filtered_std.drop('flow', axis = 1) \n",
    "\n",
    "# Select the column to use as the dependent variable\n",
    "y = df_filtered_std['flow']\n",
    "\n",
    "# Split the data into training and test sets\n",
    "X_train, X_test, y_train, y_test = train_test_split(X, y, test_size=0.2)\n",
    "\n",
    "# Create a LinearRegression model\n",
    "model_std = LinearRegression()\n",
    "\n",
    "# Fit the model to the training data\n",
    "model_std.fit(X_train, y_train)\n",
    "\n",
    "# Use the model to make predictions on the test data\n",
    "predictions = model_std.predict(X_test)\n",
    "\n",
    "# Calculate the mean squared error\n",
    "mse = mean_squared_error(y_test, predictions)\n",
    "\n",
    "print(f'Mean squared error: {mse}')\n",
    "\n",
    "\n"
   ]
  },
  {
   "cell_type": "code",
   "execution_count": 637,
   "id": "48a95cf7",
   "metadata": {},
   "outputs": [
    {
     "name": "stdout",
     "output_type": "stream",
     "text": [
      "                    feature  coefficient\n",
      "0      author_listed_source    -0.025943\n",
      "1           FF_Ratio_source     0.017689\n",
      "2          FF_ratio2_source     0.009214\n",
      "3     TweetsNb_source_users     0.051186\n",
      "4   author_followers_target     0.208915\n",
      "5      author_tweets_target    -0.074612\n",
      "6   author_following_target    -0.108897\n",
      "7      author_listed_target    -0.157978\n",
      "8           FF_Ratio_target    -0.104636\n",
      "9          FF_ratio2_target    -0.003956\n",
      "10   TweetsNb_source_target     0.230814\n"
     ]
    }
   ],
   "source": [
    "from sklearn.linear_model import LinearRegression\n",
    "\n",
    "# Select the columns to use as the independent variables\n",
    "X = df_filtered_std[columns_ref].drop('flow', axis = 1) \n",
    "\n",
    "# Select the column to use as the dependent variable\n",
    "y = df_filtered_std[columns_ref]['flow']\n",
    "\n",
    "# Create a LinearRegression model\n",
    "model = LinearRegression()\n",
    "\n",
    "# Fit the model to the data\n",
    "model.fit(X, y)\n",
    "\n",
    "# Create a table with the coefficients and features\n",
    "coefficients = pd.DataFrame({'feature': X.columns, 'coefficient': model.coef_})\n",
    "\n",
    "print(coefficients)"
   ]
  },
  {
   "cell_type": "markdown",
   "id": "79f937a4",
   "metadata": {},
   "source": [
    "# Feature Selection"
   ]
  },
  {
   "cell_type": "markdown",
   "id": "fc0a1b8a",
   "metadata": {},
   "source": [
    "# F regression"
   ]
  },
  {
   "cell_type": "markdown",
   "id": "851908ff",
   "metadata": {},
   "source": [
    "## baseline filtered"
   ]
  },
  {
   "cell_type": "code",
   "execution_count": 623,
   "id": "e499f128",
   "metadata": {},
   "outputs": [
    {
     "name": "stdout",
     "output_type": "stream",
     "text": [
      "f_values_norm :  [2.65119792e+04 2.65119792e+04 2.79141704e+01 6.09842955e+01\n",
      " 8.72323344e+01 1.13059540e-02 1.09416958e+02 1.71041964e-02\n",
      " 1.58210787e+02 2.79141704e+01 6.09842955e+01 8.72323344e+01\n",
      " 1.13059540e-02 1.09416958e+02 1.71041964e-02 1.58210787e+02]\n",
      "p_values_norm :  [0.00000000e+00 0.00000000e+00 1.27362599e-07 5.86783138e-15\n",
      " 1.00428644e-20 9.15321397e-01 1.39993195e-25 8.95947503e-01\n",
      " 3.17003396e-36 1.27362599e-07 5.86783138e-15 1.00428644e-20\n",
      " 9.15321397e-01 1.39993195e-25 8.95947503e-01 3.17003396e-36]\n"
     ]
    }
   ],
   "source": [
    "from sklearn.feature_selection import f_regression\n",
    "\n",
    "# Select the columns to use as the independent variables\n",
    "X = df_filtered[columns].drop('flow', axis=1)\n",
    "\n",
    "# Select the column to use as the dependent variable\n",
    "y = df_filtered['flow']\n",
    "\n",
    "# Calculate the F-value and p-value for each feature\n",
    "f_values, p_values = f_regression(X, y)\n",
    "\n",
    "# Print the p-values\n",
    "print('f_values_norm : ',f_values)\n",
    "print('p_values_norm : ',p_values)"
   ]
  },
  {
   "cell_type": "markdown",
   "id": "bce9e1f5",
   "metadata": {},
   "source": [
    "# 1 feature for p value "
   ]
  },
  {
   "cell_type": "code",
   "execution_count": 649,
   "id": "a68cbae2",
   "metadata": {},
   "outputs": [
    {
     "data": {
      "text/plain": [
       "['flow',\n",
       " 'selfEntropyT',\n",
       " 'selfEntropyS',\n",
       " 'author_followers_source',\n",
       " 'author_tweets_source',\n",
       " 'author_following_source',\n",
       " 'author_listed_source',\n",
       " 'FF_Ratio_source',\n",
       " 'FF_ratio2_source',\n",
       " 'TweetsNb_source_users',\n",
       " 'author_followers_target',\n",
       " 'author_tweets_target',\n",
       " 'author_following_target',\n",
       " 'author_listed_target',\n",
       " 'FF_Ratio_target',\n",
       " 'FF_ratio2_target',\n",
       " 'TweetsNb_source_target']"
      ]
     },
     "execution_count": 649,
     "metadata": {},
     "output_type": "execute_result"
    }
   ],
   "source": [
    "columns"
   ]
  },
  {
   "cell_type": "code",
   "execution_count": 650,
   "id": "2c91063d",
   "metadata": {},
   "outputs": [
    {
     "data": {
      "text/plain": [
       "['flow',\n",
       " 'author_listed_source',\n",
       " 'FF_Ratio_source',\n",
       " 'FF_ratio2_source',\n",
       " 'TweetsNb_source_users',\n",
       " 'author_followers_target',\n",
       " 'author_tweets_target',\n",
       " 'author_following_target',\n",
       " 'author_listed_target',\n",
       " 'FF_Ratio_target',\n",
       " 'FF_ratio2_target',\n",
       " 'TweetsNb_source_target']"
      ]
     },
     "execution_count": 650,
     "metadata": {},
     "output_type": "execute_result"
    }
   ],
   "source": [
    "columns_ref"
   ]
  },
  {
   "cell_type": "code",
   "execution_count": 666,
   "id": "794d4625",
   "metadata": {},
   "outputs": [],
   "source": [
    "col = ['author_followers_target','author_followers_source','flow']"
   ]
  },
  {
   "cell_type": "code",
   "execution_count": 667,
   "id": "67bde90e",
   "metadata": {},
   "outputs": [
    {
     "name": "stdout",
     "output_type": "stream",
     "text": [
      "f_values_norm :  [27.91417042 27.91417042]\n",
      "p_values_norm :  [1.27362599e-07 1.27362599e-07]\n"
     ]
    }
   ],
   "source": [
    "from sklearn.feature_selection import f_regression\n",
    "\n",
    "# Select the columns to use as the independent variables\n",
    "X = df_filtered[col].drop('flow',axis=1)\n",
    "\n",
    "# Select the column to use as the dependent variable\n",
    "y = df_filtered['flow']\n",
    "\n",
    "# Calculate the F-value and p-value for each feature\n",
    "f_values, p_values = f_regression(X, y)\n",
    "\n",
    "# Print the p-values\n",
    "print('f_values_norm : ',f_values)\n",
    "print('p_values_norm : ',p_values)"
   ]
  },
  {
   "cell_type": "markdown",
   "id": "4c520d9a",
   "metadata": {},
   "source": [
    "# std"
   ]
  },
  {
   "cell_type": "code",
   "execution_count": 603,
   "id": "69a04a01",
   "metadata": {},
   "outputs": [
    {
     "name": "stdout",
     "output_type": "stream",
     "text": [
      "f_values_norm :  [6.51811610e+03 7.14812817e+02 3.82808068e-01 4.82738321e-04\n",
      " 1.41142055e+00 1.24078973e-01 2.14861694e-01 3.64572778e-02\n",
      " 2.68318177e+01 3.79928227e+01 8.75756109e+01 5.20576678e+01\n",
      " 3.27901799e+01 1.07740978e+02 1.13225073e+03 2.66796332e+02]\n",
      "p_values_norm :  [0.00000000e+000 9.13842845e-156 5.36108611e-001 9.82470980e-001\n",
      " 2.34829499e-001 7.24654252e-001 6.42986394e-001 8.48575461e-001\n",
      " 2.23290785e-007 7.18487115e-010 8.62144004e-021 5.50858426e-013\n",
      " 1.03576242e-008 3.35749820e-025 5.62411548e-244 9.86639916e-060]\n"
     ]
    }
   ],
   "source": [
    "from sklearn.feature_selection import f_regression\n",
    "\n",
    "# Select the columns to use as the independent variables\n",
    "X = dfs.drop('flow', axis=1)\n",
    "\n",
    "# Select the column to use as the dependent variable\n",
    "y = dfs['flow']\n",
    "\n",
    "# Calculate the F-value and p-value for each feature\n",
    "f_values_std, p_values_std = f_regression(X, y)\n",
    "\n",
    "# Print the p-values\n",
    "print('f_values_norm : ',f_values_std)\n",
    "print('p_values_norm : ',p_values_std)"
   ]
  },
  {
   "cell_type": "code",
   "execution_count": 604,
   "id": "61bda700",
   "metadata": {},
   "outputs": [
    {
     "name": "stdout",
     "output_type": "stream",
     "text": [
      "f_values_norm :  [2.88411739e+04 2.52265855e+01 1.41812950e-02 1.16621377e+01\n",
      " 8.97457170e-01 4.54520527e+00 7.55400229e+00 9.17387793e+00\n",
      " 7.71981908e+01 1.82819463e+00 6.56578138e+00 7.11143254e+00\n",
      " 1.23499361e-01 6.84274743e+01 5.50916594e-01 9.00866152e+02]\n",
      "p_values_norm :  [0.00000000e+000 5.13353719e-007 9.05208806e-001 6.38891992e-004\n",
      " 3.43473871e-001 3.30210607e-002 5.99211101e-003 2.45751426e-003\n",
      " 1.64647548e-018 1.76353515e-001 1.04017778e-002 7.66445803e-003\n",
      " 7.25272757e-001 1.38305253e-016 4.57950588e-001 2.23450578e-194]\n"
     ]
    }
   ],
   "source": [
    "from sklearn.feature_selection import f_regression\n",
    "\n",
    "# Select the columns to use as the independent variables\n",
    "X = df_filtered_std.drop('flow', axis=1)\n",
    "\n",
    "# Select the column to use as the dependent variable\n",
    "y = df_filtered_std['flow']\n",
    "\n",
    "# Calculate the F-value and p-value for each feature\n",
    "f_values_std, p_values_std = f_regression(X, y)\n",
    "\n",
    "# Print the p-values\n",
    "print('f_values_norm : ',f_values_std)\n",
    "print('p_values_norm : ',p_values_std)"
   ]
  },
  {
   "cell_type": "markdown",
   "id": "e8f83931",
   "metadata": {},
   "source": [
    "## norm"
   ]
  },
  {
   "cell_type": "code",
   "execution_count": 605,
   "id": "38c36fd7",
   "metadata": {},
   "outputs": [
    {
     "name": "stdout",
     "output_type": "stream",
     "text": [
      "f_values_norm :  [6.51811610e+03 7.14812817e+02 3.82808068e-01 4.82738321e-04\n",
      " 1.41142055e+00 1.24078973e-01 2.14861694e-01 3.64572778e-02\n",
      " 2.68318177e+01 3.79928227e+01 8.75756109e+01 5.20576678e+01\n",
      " 3.27901799e+01 1.07740978e+02 1.13225073e+03 2.66796332e+02]\n",
      "p_values_norm :  [0.00000000e+000 9.13842845e-156 5.36108611e-001 9.82470980e-001\n",
      " 2.34829499e-001 7.24654252e-001 6.42986394e-001 8.48575461e-001\n",
      " 2.23290785e-007 7.18487115e-010 8.62144004e-021 5.50858426e-013\n",
      " 1.03576242e-008 3.35749820e-025 5.62411548e-244 9.86639916e-060]\n"
     ]
    }
   ],
   "source": [
    "from sklearn.feature_selection import f_regression\n",
    "\n",
    "# Select the columns to use as the independent variables\n",
    "X = df1[columns].drop('flow', axis=1)\n",
    "\n",
    "# Select the column to use as the dependent variable\n",
    "y = df1[columns]['flow']\n",
    "\n",
    "# Calculate the F-value and p-value for each feature\n",
    "f_values_norm, p_values_norm = f_regression(X, y)\n",
    "\n",
    "# Print the p-values\n",
    "print('f_values_norm : ',f_values_norm)\n",
    "print('p_values_norm : ',p_values_norm)"
   ]
  },
  {
   "cell_type": "code",
   "execution_count": 633,
   "id": "c51b1940",
   "metadata": {},
   "outputs": [
    {
     "name": "stdout",
     "output_type": "stream",
     "text": [
      "f_values_norm :  [2.88411739e+04 2.52265855e+01 1.41812950e-02 1.16621377e+01\n",
      " 8.97457170e-01 4.54520527e+00 7.55400229e+00 9.17387793e+00\n",
      " 7.71981908e+01 1.82819463e+00 6.56578138e+00 7.11143254e+00\n",
      " 1.23499361e-01 6.84274743e+01 5.50916594e-01 9.00866152e+02]\n",
      "p_values_norm :  [0.00000000e+000 5.13353719e-007 9.05208806e-001 6.38891992e-004\n",
      " 3.43473871e-001 3.30210607e-002 5.99211101e-003 2.45751426e-003\n",
      " 1.64647548e-018 1.76353515e-001 1.04017778e-002 7.66445803e-003\n",
      " 7.25272757e-001 1.38305253e-016 4.57950588e-001 2.23450578e-194]\n"
     ]
    }
   ],
   "source": [
    "from sklearn.feature_selection import f_regression\n",
    "\n",
    "# Select the columns to use as the independent variables\n",
    "X = df2[columns].drop('flow', axis=1)\n",
    "\n",
    "# Select the column to use as the dependent variable\n",
    "y = df2[columns]['flow']\n",
    "\n",
    "# Calculate the F-value and p-value for each feature\n",
    "f_values_norm, p_values_norm = f_regression(X, y)\n",
    "\n",
    "# Print the p-values\n",
    "print('f_values_norm : ',f_values_norm)\n",
    "print('p_values_norm : ',p_values_norm)"
   ]
  },
  {
   "cell_type": "markdown",
   "id": "d1901091",
   "metadata": {},
   "source": [
    "# Lasso"
   ]
  },
  {
   "cell_type": "markdown",
   "id": "2f0a1839",
   "metadata": {},
   "source": [
    "## std"
   ]
  },
  {
   "cell_type": "code",
   "execution_count": 607,
   "id": "364329c5",
   "metadata": {},
   "outputs": [
    {
     "name": "stdout",
     "output_type": "stream",
     "text": [
      "Mean squared error: 101.20654476654548\n"
     ]
    }
   ],
   "source": [
    "from sklearn.linear_model import Lasso\n",
    "\n",
    "# Select the columns to use as the independent variables\n",
    "X = dfs.drop('flow', axis = 1) \n",
    "\n",
    "# Select the column to use as the dependent variable\n",
    "y = dfs['flow']\n",
    "\n",
    "# Split the data into training and test sets\n",
    "X_train, X_test, y_train, y_test = train_test_split(X, y, test_size=0.2)\n",
    "\n",
    "# Create a Lasso model\n",
    "model_std = Lasso(alpha=0.1)\n",
    "\n",
    "# Fit the model to the training data\n",
    "model_std.fit(X_train, y_train)\n",
    "\n",
    "# Use the model to make predictions on the test data\n",
    "predictions = model_std.predict(X_test)\n",
    "\n",
    "# Calculate the mean squared error\n",
    "mse = mean_squared_error(y_test, predictions)\n",
    "\n",
    "print(f'Mean squared error: {mse}')"
   ]
  },
  {
   "cell_type": "code",
   "execution_count": 608,
   "id": "b9886a0e",
   "metadata": {},
   "outputs": [
    {
     "name": "stdout",
     "output_type": "stream",
     "text": [
      "Mean squared error: 0.2738595659642277\n"
     ]
    }
   ],
   "source": [
    "from sklearn.linear_model import Lasso\n",
    "\n",
    "# Select the columns to use as the independent variables\n",
    "X = df_filtered_std.drop('flow', axis = 1) \n",
    "\n",
    "# Select the column to use as the dependent variable\n",
    "y = df_filtered_std['flow']\n",
    "\n",
    "# Split the data into training and test sets\n",
    "X_train, X_test, y_train, y_test = train_test_split(X, y, test_size=0.2)\n",
    "\n",
    "# Create a Lasso model\n",
    "model_std = Lasso(alpha=0.1)\n",
    "\n",
    "# Fit the model to the training data\n",
    "model_std.fit(X_train, y_train)\n",
    "\n",
    "# Use the model to make predictions on the test data\n",
    "predictions = model_std.predict(X_test)\n",
    "\n",
    "# Calculate the mean squared error\n",
    "mse = mean_squared_error(y_test, predictions)\n",
    "\n",
    "print(f'Mean squared error: {mse}')"
   ]
  },
  {
   "cell_type": "markdown",
   "id": "91f7a49b",
   "metadata": {},
   "source": [
    "## norm"
   ]
  },
  {
   "cell_type": "code",
   "execution_count": 609,
   "id": "9689ab22",
   "metadata": {},
   "outputs": [
    {
     "name": "stdout",
     "output_type": "stream",
     "text": [
      "Mean squared error: 0.0030714865514473583\n"
     ]
    }
   ],
   "source": [
    "from sklearn.linear_model import Lasso\n",
    "\n",
    "# Select the columns to use as the independent variables\n",
    "X = df1[columns].drop('flow', axis=1)\n",
    "\n",
    "# Select the column to use as the dependent variable\n",
    "y = df1[columns]['flow']\n",
    "\n",
    "# Split the data into training and test sets\n",
    "X_train, X_test, y_train, y_test = train_test_split(X, y, test_size=0.2)\n",
    "\n",
    "# Create a Lasso model\n",
    "model_norm = Lasso(alpha=0.1)\n",
    "\n",
    "# Fit the model to the training data\n",
    "model_norm.fit(X_train, y_train)\n",
    "\n",
    "# Use the model to make predictions on the test data\n",
    "predictions = model_norm.predict(X_test)\n",
    "\n",
    "# Calculate the mean squared error\n",
    "mse = mean_squared_error(y_test, predictions)\n",
    "\n",
    "print(f'Mean squared error: {mse}')"
   ]
  },
  {
   "cell_type": "code",
   "execution_count": 610,
   "id": "c72cca47",
   "metadata": {},
   "outputs": [
    {
     "name": "stdout",
     "output_type": "stream",
     "text": [
      "Mean squared error: 0.013646315237668582\n"
     ]
    }
   ],
   "source": [
    "from sklearn.linear_model import Lasso\n",
    "\n",
    "# Select the columns to use as the independent variables\n",
    "X = df2[columns].drop('flow', axis=1)\n",
    "\n",
    "# Select the column to use as the dependent variable\n",
    "y = df2[columns]['flow']\n",
    "\n",
    "# Split the data into training and test sets\n",
    "X_train, X_test, y_train, y_test = train_test_split(X, y, test_size=0.2)\n",
    "\n",
    "# Create a Lasso model\n",
    "model_norm = Lasso(alpha=0.1)\n",
    "\n",
    "# Fit the model to the training data\n",
    "model_norm.fit(X_train, y_train)\n",
    "\n",
    "# Use the model to make predictions on the test data\n",
    "predictions = model_norm.predict(X_test)\n",
    "\n",
    "# Calculate the mean squared error\n",
    "mse = mean_squared_error(y_test, predictions)\n",
    "\n",
    "print(f'Mean squared error: {mse}')"
   ]
  },
  {
   "cell_type": "markdown",
   "id": "dee27294",
   "metadata": {},
   "source": [
    "# RFE"
   ]
  },
  {
   "cell_type": "markdown",
   "id": "e0fc2f57",
   "metadata": {},
   "source": [
    "## std"
   ]
  },
  {
   "cell_type": "code",
   "execution_count": 611,
   "id": "b793e4d0",
   "metadata": {},
   "outputs": [
    {
     "name": "stdout",
     "output_type": "stream",
     "text": [
      "[False False False False False False  True  True  True  True  True  True\n",
      "  True  True  True  True]\n",
      "[7 6 5 4 3 2 1 1 1 1 1 1 1 1 1 1]\n"
     ]
    }
   ],
   "source": [
    "from sklearn.feature_selection import RFE\n",
    "# Use recursive feature elimination to select the best features\n",
    "rfe_std = RFE(model_std, n_features_to_select=10)\n",
    "rfe_std = rfe_std.fit(X, y)\n",
    "\n",
    "# Print the selected features\n",
    "print(rfe_std.support_)\n",
    "\n",
    "# Print the ranking of the features\n",
    "print(rfe_std.ranking_)"
   ]
  },
  {
   "cell_type": "markdown",
   "id": "59d38b0a",
   "metadata": {},
   "source": [
    "## norm"
   ]
  },
  {
   "cell_type": "code",
   "execution_count": 612,
   "id": "a604aa75",
   "metadata": {},
   "outputs": [
    {
     "name": "stdout",
     "output_type": "stream",
     "text": [
      "[False False False False False False  True  True  True  True  True  True\n",
      "  True  True  True  True]\n",
      "[7 6 5 4 3 2 1 1 1 1 1 1 1 1 1 1]\n"
     ]
    }
   ],
   "source": [
    "from sklearn.feature_selection import RFE\n",
    "# Use recursive feature elimination to select the best features\n",
    "rfe_norm = RFE(model_norm, n_features_to_select=10)\n",
    "rfe_norm = rfe_norm.fit(X, y)\n",
    "\n",
    "# Print the selected features\n",
    "print(rfe_norm.support_)\n",
    "\n",
    "# Print the ranking of the features\n",
    "print(rfe_norm.ranking_)"
   ]
  },
  {
   "cell_type": "markdown",
   "id": "34f67995",
   "metadata": {},
   "source": [
    "meme resultats pr std et norm de rfe"
   ]
  },
  {
   "cell_type": "markdown",
   "id": "8c2cf1dd",
   "metadata": {},
   "source": [
    "# utiliser seulement les ref pour la mse "
   ]
  },
  {
   "cell_type": "code",
   "execution_count": 613,
   "id": "f24ecb9c",
   "metadata": {},
   "outputs": [
    {
     "data": {
      "text/plain": [
       "['flow',\n",
       " 'selfEntropyT',\n",
       " 'selfEntropyS',\n",
       " 'author_followers_source',\n",
       " 'author_tweets_source',\n",
       " 'author_following_source',\n",
       " 'author_listed_source',\n",
       " 'FF_Ratio_source',\n",
       " 'FF_ratio2_source',\n",
       " 'TweetsNb_source_users',\n",
       " 'author_followers_target',\n",
       " 'author_tweets_target',\n",
       " 'author_following_target',\n",
       " 'author_listed_target',\n",
       " 'FF_Ratio_target',\n",
       " 'FF_ratio2_target',\n",
       " 'TweetsNb_source_target']"
      ]
     },
     "execution_count": 613,
     "metadata": {},
     "output_type": "execute_result"
    }
   ],
   "source": [
    "columns"
   ]
  },
  {
   "cell_type": "code",
   "execution_count": 231,
   "id": "fab96bed",
   "metadata": {},
   "outputs": [],
   "source": [
    "columns_ref = ['flow',\n",
    " 'author_listed_source',\n",
    " 'FF_Ratio_source',\n",
    " 'FF_ratio2_source',\n",
    " 'TweetsNb_source_users',\n",
    " 'author_followers_target',\n",
    " 'author_tweets_target',\n",
    " 'author_following_target',\n",
    " 'author_listed_target',\n",
    " 'FF_Ratio_target',\n",
    " 'FF_ratio2_target',\n",
    " 'TweetsNb_source_target']"
   ]
  },
  {
   "cell_type": "markdown",
   "id": "b6a66bb6",
   "metadata": {},
   "source": [
    "on tej 'author_followers_source','author_tweets_source','author_following_source' due a rfe"
   ]
  },
  {
   "cell_type": "code",
   "execution_count": 507,
   "id": "8b33a22f",
   "metadata": {},
   "outputs": [
    {
     "name": "stdout",
     "output_type": "stream",
     "text": [
      "Mean squared error: 0.0009444702353744201\n"
     ]
    }
   ],
   "source": [
    "# Select the columns to use as the independent variables\n",
    "X = df1[columns_ref].drop('flow', axis=1)\n",
    "\n",
    "# Select the column to use as the dependent variable\n",
    "y = df1[columns_ref]['flow']\n",
    "\n",
    "# Split the data into training and test sets\n",
    "X_train, X_test, y_train, y_test = train_test_split(X, y, test_size=0.2)\n",
    "\n",
    "# Create a LinearRegression model\n",
    "model_norm = LinearRegression()\n",
    "\n",
    "# Fit the model to the training data\n",
    "model_norm.fit(X_train, y_train)\n",
    "\n",
    "# Use the model to make predictions on the test data\n",
    "predictions = model_norm.predict(X_test)\n",
    "\n",
    "# Calculate the mean squared error\n",
    "mse = mean_squared_error(y_test, predictions)\n",
    "\n",
    "print(f'Mean squared error: {mse}')"
   ]
  },
  {
   "cell_type": "code",
   "execution_count": 508,
   "id": "c25f545c",
   "metadata": {},
   "outputs": [
    {
     "name": "stdout",
     "output_type": "stream",
     "text": [
      "Mean squared error: 0.012257109055598386\n"
     ]
    }
   ],
   "source": [
    "# Select the columns to use as the independent variables\n",
    "X = df2[columns_ref].drop('flow', axis=1)\n",
    "\n",
    "# Select the column to use as the dependent variable\n",
    "y = df2[columns_ref]['flow']\n",
    "\n",
    "# Split the data into training and test sets\n",
    "X_train, X_test, y_train, y_test = train_test_split(X, y, test_size=0.2)\n",
    "\n",
    "# Create a LinearRegression model\n",
    "model_norm = LinearRegression()\n",
    "\n",
    "# Fit the model to the training data\n",
    "model_norm.fit(X_train, y_train)\n",
    "\n",
    "# Use the model to make predictions on the test data\n",
    "predictions = model_norm.predict(X_test)\n",
    "\n",
    "# Calculate the mean squared error\n",
    "mse = mean_squared_error(y_test, predictions)\n",
    "\n",
    "print(f'Mean squared error: {mse}')"
   ]
  },
  {
   "cell_type": "code",
   "execution_count": 509,
   "id": "f56e4831",
   "metadata": {},
   "outputs": [
    {
     "name": "stdout",
     "output_type": "stream",
     "text": [
      "Mean squared error: 0.0009183757908585509\n"
     ]
    }
   ],
   "source": [
    "from sklearn.linear_model import LinearRegression\n",
    "from sklearn.metrics import mean_squared_error\n",
    "from sklearn.model_selection import train_test_split\n",
    "\n",
    "# Select the columns to use as the independent variables\n",
    "X = dfs[columns_ref].drop('flow', axis = 1) \n",
    "\n",
    "# Select the column to use as the dependent variable\n",
    "y = dfs[columns_ref]['flow']\n",
    "\n",
    "# Split the data into training and test sets\n",
    "X_train, X_test, y_train, y_test = train_test_split(X, y, test_size=0.2)\n",
    "\n",
    "# Create a LinearRegression model\n",
    "model_std = LinearRegression()\n",
    "\n",
    "# Fit the model to the training data\n",
    "model_std.fit(X_train, y_train)\n",
    "\n",
    "# Use the model to make predictions on the test data\n",
    "predictions = model_std.predict(X_test)\n",
    "\n",
    "# Calculate the mean squared error\n",
    "mse = mean_squared_error(y_test, predictions)\n",
    "\n",
    "print(f'Mean squared error: {mse}')\n",
    "\n",
    "\n"
   ]
  },
  {
   "cell_type": "code",
   "execution_count": 510,
   "id": "f7bf4a3f",
   "metadata": {},
   "outputs": [
    {
     "name": "stdout",
     "output_type": "stream",
     "text": [
      "Mean squared error: 0.5141578073448119\n"
     ]
    }
   ],
   "source": [
    "from sklearn.linear_model import LinearRegression\n",
    "from sklearn.metrics import mean_squared_error\n",
    "from sklearn.model_selection import train_test_split\n",
    "\n",
    "# Select the columns to use as the independent variables\n",
    "X = df_filtered_std[columns_ref].drop('flow', axis = 1) \n",
    "\n",
    "# Select the column to use as the dependent variable\n",
    "y = df_filtered_std[columns_ref]['flow']\n",
    "\n",
    "# Split the data into training and test sets\n",
    "X_train, X_test, y_train, y_test = train_test_split(X, y, test_size=0.2)\n",
    "\n",
    "# Create a LinearRegression model\n",
    "model_std = LinearRegression()\n",
    "\n",
    "# Fit the model to the training data\n",
    "model_std.fit(X_train, y_train)\n",
    "\n",
    "# Use the model to make predictions on the test data\n",
    "predictions = model_std.predict(X_test)\n",
    "\n",
    "# Calculate the mean squared error\n",
    "mse = mean_squared_error(y_test, predictions)\n",
    "\n",
    "print(f'Mean squared error: {mse}')\n",
    "\n",
    "\n",
    "\n"
   ]
  },
  {
   "cell_type": "markdown",
   "id": "80075f72",
   "metadata": {},
   "source": [
    "# Choosing only the Significant p values "
   ]
  },
  {
   "cell_type": "code",
   "execution_count": 146,
   "id": "646230e9",
   "metadata": {},
   "outputs": [],
   "source": [
    "p_val_sign = ['flow','selfEntropyT','selfEntropyS','author_followers_source','author_tweets_source',\n",
    "              'author_following_source','FF_Ratio_source','TweetsNb_source_users','author_followers_target',\n",
    "              'author_tweets_target','author_following_target','FF_Ratio_target','TweetsNb_source_target']"
   ]
  },
  {
   "cell_type": "code",
   "execution_count": 147,
   "id": "2add2f81",
   "metadata": {},
   "outputs": [],
   "source": [
    "# normaliser + filtered + only significant p values "
   ]
  },
  {
   "cell_type": "code",
   "execution_count": 148,
   "id": "d8f9fa24",
   "metadata": {},
   "outputs": [
    {
     "name": "stdout",
     "output_type": "stream",
     "text": [
      "Mean squared error: 0.005441812484883648\n"
     ]
    }
   ],
   "source": [
    "# Select the columns to use as the independent variables\n",
    "X = df2[p_val_sign].drop('flow', axis=1)\n",
    "\n",
    "# Select the column to use as the dependent variable\n",
    "y = df2[p_val_sign]['flow']\n",
    "\n",
    "# Split the data into training and test sets\n",
    "X_train, X_test, y_train, y_test = train_test_split(X, y, test_size=0.2)\n",
    "\n",
    "# Create a LinearRegression model\n",
    "model_norm = LinearRegression()\n",
    "\n",
    "# Fit the model to the training data\n",
    "model_norm.fit(X_train, y_train)\n",
    "\n",
    "# Use the model to make predictions on the test data\n",
    "predictions = model_norm.predict(X_test)\n",
    "\n",
    "# Calculate the mean squared error\n",
    "mse = mean_squared_error(y_test, predictions)\n",
    "\n",
    "print(f'Mean squared error: {mse}')"
   ]
  },
  {
   "cell_type": "code",
   "execution_count": null,
   "id": "237671c9",
   "metadata": {},
   "outputs": [],
   "source": []
  }
 ],
 "metadata": {
  "kernelspec": {
   "display_name": "Python 3 (ipykernel)",
   "language": "python",
   "name": "python3"
  },
  "language_info": {
   "codemirror_mode": {
    "name": "ipython",
    "version": 3
   },
   "file_extension": ".py",
   "mimetype": "text/x-python",
   "name": "python",
   "nbconvert_exporter": "python",
   "pygments_lexer": "ipython3",
   "version": "3.9.7"
  }
 },
 "nbformat": 4,
 "nbformat_minor": 5
}
